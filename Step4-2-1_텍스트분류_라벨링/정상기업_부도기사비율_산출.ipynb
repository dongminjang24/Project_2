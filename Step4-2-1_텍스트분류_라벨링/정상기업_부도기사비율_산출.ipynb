{
 "cells": [
  {
   "cell_type": "code",
   "execution_count": 1,
   "metadata": {},
   "outputs": [],
   "source": [
    "import pandas as pd\n",
    "from eunjeon import Mecab"
   ]
  },
  {
   "cell_type": "markdown",
   "metadata": {},
   "source": [
    "### 데이터 불러오기"
   ]
  },
  {
   "cell_type": "code",
   "execution_count": 4,
   "metadata": {},
   "outputs": [],
   "source": [
    "정상기업뉴스 = pd.read_csv('../Step3-1_뉴스전처리/전처리후/정상기업뉴스전처리.csv', encoding='cp949')\n",
    "정상기업뉴스추가 = pd.read_csv('../Step3-1_뉴스전처리/전처리후/정상기업뉴스전처리추가.csv')\n",
    "정상기업 = pd.concat([정상기업뉴스, 정상기업뉴스추가])\n",
    "정상기업.reset_index(inplace=True, drop=True)"
   ]
  },
  {
   "cell_type": "markdown",
   "metadata": {},
   "source": [
    "### 전처리된 뉴스기사본문 토큰화"
   ]
  },
  {
   "cell_type": "code",
   "execution_count": 6,
   "metadata": {},
   "outputs": [],
   "source": [
    "mecab=Mecab()\n",
    "## 형태소 분석기 mecab를 사용한 토큰화 작업 (다소 시간 소요)\n",
    "\n",
    "## Mecab으로 토큰화\n",
    "정상기업['뉴스기사본문전처리'] = 정상기업['뉴스기사본문전처리'].apply(lambda x: mecab.nouns(x))\n",
    "## 명사만 추출\n",
    "정상기업['뉴스기사본문전처리'] = 정상기업['뉴스기사본문전처리'].apply(lambda x: [word for word in x if len(word) > 1])"
   ]
  },
  {
   "cell_type": "markdown",
   "metadata": {},
   "source": [
    "### 분류단어 넣기"
   ]
  },
  {
   "cell_type": "code",
   "execution_count": 7,
   "metadata": {},
   "outputs": [
    {
     "data": {
      "text/plain": [
       "'폐지|격성|퇴출|실질|심사|속개|이의|심의|거절'"
      ]
     },
     "execution_count": 7,
     "metadata": {},
     "output_type": "execute_result"
    }
   ],
   "source": [
    "분류단어 = ['폐지', '격성', '퇴출', '실질', '심사', '속개', '이의', '심의', '거절']\n",
    "분류단어 = '|'.join(분류단어)\n",
    "분류단어"
   ]
  },
  {
   "cell_type": "markdown",
   "metadata": {},
   "source": [
    "### 부도기사 레이블화"
   ]
  },
  {
   "cell_type": "code",
   "execution_count": 8,
   "metadata": {},
   "outputs": [],
   "source": [
    "라벨 = 정상기업['뉴스기사본문전처리'].apply(lambda x: [word for word in x if word in 분류단어]) # 분류단어 들어간 것들\n",
    "라벨 = 라벨.apply(lambda x: 1 if (len(x)>=1) else 0)\n",
    "정상기업['뉴스기사 레이블'] = 라벨"
   ]
  },
  {
   "cell_type": "markdown",
   "metadata": {},
   "source": [
    "### 기업 당 뉴스기사 수 추출(정상기업에서는 기업이 연도별로 다른 것으로 생각하므로 groupby할때 연도와 같이 묶어줘야함)"
   ]
  },
  {
   "cell_type": "markdown",
   "metadata": {},
   "source": [
    "### 정상기업에 대해서 연도별로 묶기위해 컬럼 도출"
   ]
  },
  {
   "cell_type": "code",
   "execution_count": 21,
   "metadata": {},
   "outputs": [],
   "source": [
    "time=정상기업[\"기사발행일\"].str.split('.').tolist()\n",
    "time_df=pd.DataFrame(time,columns=['년','월','일','시간'])\n",
    "time_df.drop(\"시간\",axis=1,inplace=True)\n",
    "\n",
    "time_data=pd.concat([time_df,정상기업],axis=1)\n",
    "time_data.drop([\"월\",\"일\",\"기사발행일\"],axis=1,inplace=True)\n",
    "\n",
    "기사수 = time_data.groupby([\"기업\",\"년\"]).count()"
   ]
  },
  {
   "cell_type": "markdown",
   "metadata": {},
   "source": [
    "### 기업 당 뉴스 부도뉴스 레이블 합 도출"
   ]
  },
  {
   "cell_type": "code",
   "execution_count": 22,
   "metadata": {},
   "outputs": [],
   "source": [
    "레이블합=time_data.groupby([\"기업\",\"년\"]).sum()"
   ]
  },
  {
   "cell_type": "markdown",
   "metadata": {},
   "source": [
    "### 부도기사비율 도출"
   ]
  },
  {
   "cell_type": "code",
   "execution_count": 23,
   "metadata": {},
   "outputs": [
    {
     "data": {
      "text/html": [
       "<div>\n",
       "<style scoped>\n",
       "    .dataframe tbody tr th:only-of-type {\n",
       "        vertical-align: middle;\n",
       "    }\n",
       "\n",
       "    .dataframe tbody tr th {\n",
       "        vertical-align: top;\n",
       "    }\n",
       "\n",
       "    .dataframe thead th {\n",
       "        text-align: right;\n",
       "    }\n",
       "</style>\n",
       "<table border=\"1\" class=\"dataframe\">\n",
       "  <thead>\n",
       "    <tr style=\"text-align: right;\">\n",
       "      <th></th>\n",
       "      <th>기업</th>\n",
       "      <th>년</th>\n",
       "      <th>부도기사비율</th>\n",
       "    </tr>\n",
       "  </thead>\n",
       "  <tbody>\n",
       "    <tr>\n",
       "      <th>0</th>\n",
       "      <td>경창산업</td>\n",
       "      <td>2013</td>\n",
       "      <td>8.064516</td>\n",
       "    </tr>\n",
       "    <tr>\n",
       "      <th>1</th>\n",
       "      <td>고영테크놀러지</td>\n",
       "      <td>2011</td>\n",
       "      <td>19.148936</td>\n",
       "    </tr>\n",
       "    <tr>\n",
       "      <th>2</th>\n",
       "      <td>광림</td>\n",
       "      <td>2016</td>\n",
       "      <td>1.818182</td>\n",
       "    </tr>\n",
       "    <tr>\n",
       "      <th>3</th>\n",
       "      <td>금화피에스시</td>\n",
       "      <td>2013</td>\n",
       "      <td>16.901408</td>\n",
       "    </tr>\n",
       "    <tr>\n",
       "      <th>4</th>\n",
       "      <td>나스미디어</td>\n",
       "      <td>2017</td>\n",
       "      <td>1.449275</td>\n",
       "    </tr>\n",
       "    <tr>\n",
       "      <th>...</th>\n",
       "      <td>...</td>\n",
       "      <td>...</td>\n",
       "      <td>...</td>\n",
       "    </tr>\n",
       "    <tr>\n",
       "      <th>119</th>\n",
       "      <td>하이록코리아</td>\n",
       "      <td>2012</td>\n",
       "      <td>1.408451</td>\n",
       "    </tr>\n",
       "    <tr>\n",
       "      <th>120</th>\n",
       "      <td>한국정보통신</td>\n",
       "      <td>2015</td>\n",
       "      <td>4.545455</td>\n",
       "    </tr>\n",
       "    <tr>\n",
       "      <th>121</th>\n",
       "      <td>해성산업</td>\n",
       "      <td>2013</td>\n",
       "      <td>9.523810</td>\n",
       "    </tr>\n",
       "    <tr>\n",
       "      <th>122</th>\n",
       "      <td>홈캐스트</td>\n",
       "      <td>2016</td>\n",
       "      <td>8.695652</td>\n",
       "    </tr>\n",
       "    <tr>\n",
       "      <th>123</th>\n",
       "      <td>휴맥스</td>\n",
       "      <td>2011</td>\n",
       "      <td>3.947368</td>\n",
       "    </tr>\n",
       "  </tbody>\n",
       "</table>\n",
       "<p>124 rows × 3 columns</p>\n",
       "</div>"
      ],
      "text/plain": [
       "          기업     년     부도기사비율\n",
       "0       경창산업  2013   8.064516\n",
       "1    고영테크놀러지  2011  19.148936\n",
       "2         광림  2016   1.818182\n",
       "3     금화피에스시  2013  16.901408\n",
       "4      나스미디어  2017   1.449275\n",
       "..       ...   ...        ...\n",
       "119   하이록코리아  2012   1.408451\n",
       "120   한국정보통신  2015   4.545455\n",
       "121     해성산업  2013   9.523810\n",
       "122     홈캐스트  2016   8.695652\n",
       "123      휴맥스  2011   3.947368\n",
       "\n",
       "[124 rows x 3 columns]"
      ]
     },
     "execution_count": 23,
     "metadata": {},
     "output_type": "execute_result"
    }
   ],
   "source": [
    "기사수[\"부도기사비율\"]=기사수[\"기사제목\"]\n",
    "기사수[\"부도기사비율\"]=레이블합[\"뉴스기사 레이블\"]/기사수[\"뉴스기사 레이블\"]*100\n",
    "기사수.reset_index(inplace=True)\n",
    "기사수.drop(['기사제목', '뉴스기사본문전처리', '뉴스기사 레이블'], axis = 1, inplace=True)\n",
    "기사수.to_csv('./datasets/정상기업_부도기사 비율.csv', index=None)"
   ]
  }
 ],
 "metadata": {
  "kernelspec": {
   "display_name": "Python 3.8.0 64-bit",
   "language": "python",
   "name": "python3"
  },
  "language_info": {
   "codemirror_mode": {
    "name": "ipython",
    "version": 3
   },
   "file_extension": ".py",
   "mimetype": "text/x-python",
   "name": "python",
   "nbconvert_exporter": "python",
   "pygments_lexer": "ipython3",
   "version": "3.8.0"
  },
  "orig_nbformat": 4,
  "vscode": {
   "interpreter": {
    "hash": "c2e55c9285be7209c352033cdce09d8fd6005e5e0666f201e74b15d445dd77cd"
   }
  }
 },
 "nbformat": 4,
 "nbformat_minor": 2
}
