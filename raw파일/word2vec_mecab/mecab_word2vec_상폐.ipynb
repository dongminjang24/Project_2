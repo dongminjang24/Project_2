{
  "cells": [
    {
      "cell_type": "markdown",
      "metadata": {
        "id": "-Oy1dS1zvduy"
      },
      "source": [
        "한국어 Word2Vec 만들기(네이버 뉴스)"
      ]
    },
    {
      "cell_type": "code",
      "execution_count": 79,
      "metadata": {
        "id": "tq9sU5lCvkOk"
      },
      "outputs": [],
      "source": [
        "import pandas as pd\n",
        "import matplotlib.pyplot as plt\n",
        "import urllib.request\n",
        "import re\n",
        "from eunjeon import Mecab"
      ]
    },
    {
      "cell_type": "code",
      "execution_count": 80,
      "metadata": {
        "id": "TVx7eTAzwVHD"
      },
      "outputs": [],
      "source": [
        "정상기업 = pd.read_csv('./정상_새로합친거.csv',index_col=0)\n",
        "# 정상기업 = pd.read_csv('./data/정상기업뉴스.csv')\n"
      ]
    },
    {
      "cell_type": "code",
      "execution_count": 81,
      "metadata": {},
      "outputs": [],
      "source": [
        "data=정상기업\n",
        "# data=pd.concat([상폐기업, 정상기업], axis = 0)\n",
        "# data=pd.concat([상폐기업, 정상기업], axis = 0)"
      ]
    },
    {
      "cell_type": "code",
      "execution_count": 82,
      "metadata": {
        "id": "-Ctv17xtwdsQ"
      },
      "outputs": [
        {
          "data": {
            "text/html": [
              "<div>\n",
              "<style scoped>\n",
              "    .dataframe tbody tr th:only-of-type {\n",
              "        vertical-align: middle;\n",
              "    }\n",
              "\n",
              "    .dataframe tbody tr th {\n",
              "        vertical-align: top;\n",
              "    }\n",
              "\n",
              "    .dataframe thead th {\n",
              "        text-align: right;\n",
              "    }\n",
              "</style>\n",
              "<table border=\"1\" class=\"dataframe\">\n",
              "  <thead>\n",
              "    <tr style=\"text-align: right;\">\n",
              "      <th></th>\n",
              "      <th>기업</th>\n",
              "      <th>기사발행일</th>\n",
              "      <th>기사제목</th>\n",
              "      <th>뉴스기사본문전처리</th>\n",
              "      <th>뉴스기사본문</th>\n",
              "    </tr>\n",
              "  </thead>\n",
              "  <tbody>\n",
              "    <tr>\n",
              "      <th>0</th>\n",
              "      <td>씨제이이엔엠</td>\n",
              "      <td>2011.08.16. 오전 9:21</td>\n",
              "      <td>코스닥, IT부품주 '훨훨'</td>\n",
              "      <td>일 코스닥 시장에서는 부품주들이 강세를 보이고 있다. 특히 구글의 모토로라 인수 소...</td>\n",
              "      <td>NaN</td>\n",
              "    </tr>\n",
              "    <tr>\n",
              "      <th>1</th>\n",
              "      <td>씨제이이엔엠</td>\n",
              "      <td>2011.06.08. 오전 7:58</td>\n",
              "      <td>장마감후 주요 종목뉴스-7일</td>\n",
              "      <td>코스피 시장는 법인청산에 따라 푸드서비스를 계열사에서 제외한다고 일 공시했다. 푸드...</td>\n",
              "      <td>NaN</td>\n",
              "    </tr>\n",
              "    <tr>\n",
              "      <th>2</th>\n",
              "      <td>씨제이이엔엠</td>\n",
              "      <td>2011.06.07. 오후 5:31</td>\n",
              "      <td>CJ, CJ푸드서비스 계열사서 제외</td>\n",
              "      <td>는 법인청산에 따라 푸드서비스를 계열사에서 제외한다고 일 공시했다. 푸드서비스의 자...</td>\n",
              "      <td>NaN</td>\n",
              "    </tr>\n",
              "    <tr>\n",
              "      <th>3</th>\n",
              "      <td>씨제이이엔엠</td>\n",
              "      <td>2011.03.12. 오전 10:01</td>\n",
              "      <td>현대카드ㆍ현대캐피탈, 사업성공 프로그램 후원</td>\n",
              "      <td>현대카드현대캐피탈은 성공을 향해 열정적으로 도전하는 개인사업자들의 이야기를 담은 리...</td>\n",
              "      <td>NaN</td>\n",
              "    </tr>\n",
              "    <tr>\n",
              "      <th>4</th>\n",
              "      <td>씨제이이엔엠</td>\n",
              "      <td>2011.03.11. 오후 4:21</td>\n",
              "      <td>\"27일까지 사업성공 스토리에 도전하세요\"</td>\n",
              "      <td>현대카드현대캐피탈이 성공을 향해 열정적으로 도전하는 개인사업자들의 이야기를 담은 리...</td>\n",
              "      <td>NaN</td>\n",
              "    </tr>\n",
              "  </tbody>\n",
              "</table>\n",
              "</div>"
            ],
            "text/plain": [
              "       기업                 기사발행일                      기사제목  \\\n",
              "0  씨제이이엔엠   2011.08.16. 오전 9:21           코스닥, IT부품주 '훨훨'   \n",
              "1  씨제이이엔엠   2011.06.08. 오전 7:58           장마감후 주요 종목뉴스-7일   \n",
              "2  씨제이이엔엠   2011.06.07. 오후 5:31       CJ, CJ푸드서비스 계열사서 제외   \n",
              "3  씨제이이엔엠  2011.03.12. 오전 10:01  현대카드ㆍ현대캐피탈, 사업성공 프로그램 후원   \n",
              "4  씨제이이엔엠   2011.03.11. 오후 4:21   \"27일까지 사업성공 스토리에 도전하세요\"   \n",
              "\n",
              "                                           뉴스기사본문전처리 뉴스기사본문  \n",
              "0  일 코스닥 시장에서는 부품주들이 강세를 보이고 있다. 특히 구글의 모토로라 인수 소...    NaN  \n",
              "1  코스피 시장는 법인청산에 따라 푸드서비스를 계열사에서 제외한다고 일 공시했다. 푸드...    NaN  \n",
              "2  는 법인청산에 따라 푸드서비스를 계열사에서 제외한다고 일 공시했다. 푸드서비스의 자...    NaN  \n",
              "3  현대카드현대캐피탈은 성공을 향해 열정적으로 도전하는 개인사업자들의 이야기를 담은 리...    NaN  \n",
              "4  현대카드현대캐피탈이 성공을 향해 열정적으로 도전하는 개인사업자들의 이야기를 담은 리...    NaN  "
            ]
          },
          "execution_count": 82,
          "metadata": {},
          "output_type": "execute_result"
        }
      ],
      "source": [
        "data[:5]"
      ]
    },
    {
      "cell_type": "markdown",
      "metadata": {},
      "source": [
        "기사본문 전처리"
      ]
    },
    {
      "cell_type": "code",
      "execution_count": 6,
      "metadata": {},
      "outputs": [
        {
          "name": "stderr",
          "output_type": "stream",
          "text": [
            "C:\\Users\\jangd\\AppData\\Local\\Temp\\ipykernel_19360\\4129387148.py:36: SettingWithCopyWarning: \n",
            "A value is trying to be set on a copy of a slice from a DataFrame.\n",
            "Try using .loc[row_indexer,col_indexer] = value instead\n",
            "\n",
            "See the caveats in the documentation: https://pandas.pydata.org/pandas-docs/stable/user_guide/indexing.html#returning-a-view-versus-a-copy\n",
            "  data_result['뉴스기사본문전처리'] = [re.sub(pattern1, '', s) for s in data_result['뉴스기사본문']]\n",
            "C:\\Users\\jangd\\AppData\\Local\\Temp\\ipykernel_19360\\4129387148.py:37: SettingWithCopyWarning: \n",
            "A value is trying to be set on a copy of a slice from a DataFrame.\n",
            "Try using .loc[row_indexer,col_indexer] = value instead\n",
            "\n",
            "See the caveats in the documentation: https://pandas.pydata.org/pandas-docs/stable/user_guide/indexing.html#returning-a-view-versus-a-copy\n",
            "  data_result['뉴스기사본문전처리'] = [re.sub(pattern2, '', s) for s in data_result['뉴스기사본문전처리']]\n",
            "C:\\Users\\jangd\\AppData\\Local\\Temp\\ipykernel_19360\\4129387148.py:38: SettingWithCopyWarning: \n",
            "A value is trying to be set on a copy of a slice from a DataFrame.\n",
            "Try using .loc[row_indexer,col_indexer] = value instead\n",
            "\n",
            "See the caveats in the documentation: https://pandas.pydata.org/pandas-docs/stable/user_guide/indexing.html#returning-a-view-versus-a-copy\n",
            "  data_result['뉴스기사본문전처리'] = [re.sub('[^/^$|\\s+/가-힣\\.]', '', s) for s in data_result['뉴스기사본문전처리']]\n",
            "C:\\Users\\jangd\\AppData\\Local\\Temp\\ipykernel_19360\\4129387148.py:39: FutureWarning: Possible nested set at position 1\n",
            "  data_result['뉴스기사본문전처리'] = [re.sub('[[ \\s]{2,}\\.{2,}]', '', s) for s in data_result['뉴스기사본문전처리']]\n",
            "C:\\Users\\jangd\\AppData\\Local\\Temp\\ipykernel_19360\\4129387148.py:39: SettingWithCopyWarning: \n",
            "A value is trying to be set on a copy of a slice from a DataFrame.\n",
            "Try using .loc[row_indexer,col_indexer] = value instead\n",
            "\n",
            "See the caveats in the documentation: https://pandas.pydata.org/pandas-docs/stable/user_guide/indexing.html#returning-a-view-versus-a-copy\n",
            "  data_result['뉴스기사본문전처리'] = [re.sub('[[ \\s]{2,}\\.{2,}]', '', s) for s in data_result['뉴스기사본문전처리']]\n",
            "C:\\Users\\jangd\\AppData\\Local\\Temp\\ipykernel_19360\\4129387148.py:40: SettingWithCopyWarning: \n",
            "A value is trying to be set on a copy of a slice from a DataFrame.\n",
            "Try using .loc[row_indexer,col_indexer] = value instead\n",
            "\n",
            "See the caveats in the documentation: https://pandas.pydata.org/pandas-docs/stable/user_guide/indexing.html#returning-a-view-versus-a-copy\n",
            "  data_result['뉴스기사본문전처리'] = [re.sub('\\n', '', s) for s in data_result['뉴스기사본문전처리']]\n"
          ]
        }
      ],
      "source": [
        "# 제거할기사제목 = ['증시 일정', '증시일정', '장마감후', '장 마감 후', '장마감공시', '증시 캘린더', '재송', '투자정보', \\\n",
        "#     '코스닥 기업공시', '장중 주요', '코스닥 3분기 결산', '주요 뉴스 및 공시', '기업공시',' 기업 공시', '장 종료 후', \\\n",
        "#         '특징주A/S', '주요 정보', '오전 공시', '투자정보', '기업 공시', '오늘의 메모', '재테크 캘린더', '추천주 정리', '희망복원 주식클리닉', \\\n",
        "#         '\\d{1,2}월 \\d{1,2}일', '오늘의 주요 공시', '코스닥 공시', '코스닥 메모', '대박 공모주', '<표>', '오늘의 리포트', \\\n",
        "#         '공략주', '주식상담소', '주식왕 따라잡기', '주식컨설팅', '\\d{4} 증시', '춤추는 테마주', '개장시황', \\\n",
        "#         '폭등신호 터진', '대폭등', '매드머니', '주담과 Q&A', '굿바이 \\d{4}', '지금 당장 사라', '폭등주', \\\n",
        "#         '\\d{4}%', '김정일 사망', '종목대탐험', '종목신호등', 'VIP CLUB', '수급유망주', '기상도', '중소형주', \\\n",
        "#         '국민주식고충처리반', '유망주', '머니Q', '시초가잡아라', '기관 Q&A', '부동산에 투자하려면', '베스트애널리스트', \\\n",
        "#         '코스닥협회장 취임', '코스닥협회', '부동산에 투자하는 방법', '국가품질 경영대회', '증시일정', '머니Q', '추천종목', '티타임 공략주', \\\n",
        "#         '수급유망주', '종목배틀', '\\d{4} 증시 결산', '기업설명회', '종목신호등', 'VIP CLUB 추천주', '내일장 공략주 10선', '주간컨센서스동향', \\\n",
        "#         '주담과 Q&A', '조회공시', '주가급등 사유', '관련株들', '게임株', '이시각 Up&Down', '장내 매도', '[인사]', '증시기상도', \\\n",
        "#         '[재송]', '마감시황', '주식부자 속출', '교육주', '티타임 공략주', '\\d{1,2}일 증권사 추천종목', '기업IR소식', '[승부주]']\n",
        "# # 제거제목리스트=[]\n",
        "# 제거제목리스트 = '|'.join(제거할기사제목)\n",
        "# data_unique = data.drop_duplicates(['뉴스기사본문'])\n",
        "# data_result = data_unique[~data_unique['기사제목'].str.contains(제거제목리스트, na=False, case=False)]\n",
        "# #data_result.to_csv('dd.csv')\n",
        "# pattern1 = r'\\([^)]*\\)'\n",
        "# #pattern2 = r'\\[[^)]*\\]'\n",
        "# pattern2 = r\"\\[([^]]+)\\]\"\n",
        "\n",
        "\n",
        "\n",
        "# # data_unique['뉴스기사본문전처리'] = [re.sub(pattern1, '', s) for s in data_unique['뉴스기사본문']]\n",
        "# # data_unique['뉴스기사본문전처리'] = [re.sub(pattern2, '', s) for s in data_unique['뉴스기사본문전처리']]\n",
        "# # data_unique['뉴스기사본문전처리'] = [re.sub('[^/^$|\\s+/가-힣\\.]', '', s) for s in data_unique['뉴스기사본문전처리']]\n",
        "# # data_unique['뉴스기사본문전처리'] = [re.sub('[[ \\s]{2,}\\.{2,}]', '', s) for s in data_unique['뉴스기사본문전처리']]\n",
        "# # data_unique['뉴스기사본문전처리'] = [re.sub('\\n', '', s) for s in data_unique['뉴스기사본문전처리']]\n",
        "# # data_unique\n",
        "# # data_unique.to_csv('dd.csv', index=None)\n",
        "\n",
        "\n",
        "\n",
        "\n",
        "\n",
        "# data_result['뉴스기사본문전처리'] = [re.sub(pattern1, '', s) for s in data_result['뉴스기사본문']]\n",
        "# data_result['뉴스기사본문전처리'] = [re.sub(pattern2, '', s) for s in data_result['뉴스기사본문전처리']]\n",
        "# data_result['뉴스기사본문전처리'] = [re.sub('[^/^$|\\s+/가-힣\\.]', '', s) for s in data_result['뉴스기사본문전처리']]\n",
        "# data_result['뉴스기사본문전처리'] = [re.sub('[[ \\s]{2,}\\.{2,}]', '', s) for s in data_result['뉴스기사본문전처리']]\n",
        "# data_result['뉴스기사본문전처리'] = [re.sub('\\n', '', s) for s in data_result['뉴스기사본문전처리']]\n",
        "# data_result\n",
        "# data_result.to_csv('dd_상폐.csv', index=None)"
      ]
    },
    {
      "cell_type": "markdown",
      "metadata": {},
      "source": [
        "전처리된 기사 본문 불러와서 word2vec시작"
      ]
    },
    {
      "cell_type": "code",
      "execution_count": 7,
      "metadata": {},
      "outputs": [
        {
          "data": {
            "text/plain": [
              "0        2010.08.16. 오후 5:21\n",
              "1        2010.07.15. 오후 6:46\n",
              "2        2010.06.03. 오후 5:06\n",
              "3       2010.05.24. 오전 10:41\n",
              "4        2010.05.18. 오후 1:23\n",
              "                ...         \n",
              "2697    2020.01.09. 오전 10:07\n",
              "2698     2020.03.04. 오후 5:45\n",
              "2699     2020.01.10. 오후 6:42\n",
              "2700     2019.12.27. 오후 6:13\n",
              "2701     2019.12.20. 오후 6:05\n",
              "Name: 기사발행일, Length: 2702, dtype: object"
            ]
          },
          "execution_count": 7,
          "metadata": {},
          "output_type": "execute_result"
        }
      ],
      "source": [
        "train_data = pd.read_csv('./dd_상폐.csv')\n",
        "train_data[\"기사발행일\"]"
      ]
    },
    {
      "cell_type": "code",
      "execution_count": 83,
      "metadata": {},
      "outputs": [],
      "source": [
        "time=data[\"기사발행일\"].str.split('.').tolist()\n",
        "time_df=pd.DataFrame(time,columns=['년','월','일','시간'])\n",
        "time_df.drop(\"시간\",axis=1,inplace=True)"
      ]
    },
    {
      "cell_type": "code",
      "execution_count": 84,
      "metadata": {},
      "outputs": [
        {
          "data": {
            "text/html": [
              "<div>\n",
              "<style scoped>\n",
              "    .dataframe tbody tr th:only-of-type {\n",
              "        vertical-align: middle;\n",
              "    }\n",
              "\n",
              "    .dataframe tbody tr th {\n",
              "        vertical-align: top;\n",
              "    }\n",
              "\n",
              "    .dataframe thead th {\n",
              "        text-align: right;\n",
              "    }\n",
              "</style>\n",
              "<table border=\"1\" class=\"dataframe\">\n",
              "  <thead>\n",
              "    <tr style=\"text-align: right;\">\n",
              "      <th></th>\n",
              "      <th>년</th>\n",
              "      <th>월</th>\n",
              "      <th>일</th>\n",
              "    </tr>\n",
              "  </thead>\n",
              "  <tbody>\n",
              "    <tr>\n",
              "      <th>0</th>\n",
              "      <td>2011</td>\n",
              "      <td>08</td>\n",
              "      <td>16</td>\n",
              "    </tr>\n",
              "    <tr>\n",
              "      <th>1</th>\n",
              "      <td>2011</td>\n",
              "      <td>06</td>\n",
              "      <td>08</td>\n",
              "    </tr>\n",
              "    <tr>\n",
              "      <th>2</th>\n",
              "      <td>2011</td>\n",
              "      <td>06</td>\n",
              "      <td>07</td>\n",
              "    </tr>\n",
              "    <tr>\n",
              "      <th>3</th>\n",
              "      <td>2011</td>\n",
              "      <td>03</td>\n",
              "      <td>12</td>\n",
              "    </tr>\n",
              "    <tr>\n",
              "      <th>4</th>\n",
              "      <td>2011</td>\n",
              "      <td>03</td>\n",
              "      <td>11</td>\n",
              "    </tr>\n",
              "    <tr>\n",
              "      <th>...</th>\n",
              "      <td>...</td>\n",
              "      <td>...</td>\n",
              "      <td>...</td>\n",
              "    </tr>\n",
              "    <tr>\n",
              "      <th>6741</th>\n",
              "      <td>2020</td>\n",
              "      <td>09</td>\n",
              "      <td>22</td>\n",
              "    </tr>\n",
              "    <tr>\n",
              "      <th>6742</th>\n",
              "      <td>2020</td>\n",
              "      <td>09</td>\n",
              "      <td>21</td>\n",
              "    </tr>\n",
              "    <tr>\n",
              "      <th>6743</th>\n",
              "      <td>2020</td>\n",
              "      <td>12</td>\n",
              "      <td>04</td>\n",
              "    </tr>\n",
              "    <tr>\n",
              "      <th>6744</th>\n",
              "      <td>2020</td>\n",
              "      <td>12</td>\n",
              "      <td>30</td>\n",
              "    </tr>\n",
              "    <tr>\n",
              "      <th>6745</th>\n",
              "      <td>2020</td>\n",
              "      <td>12</td>\n",
              "      <td>22</td>\n",
              "    </tr>\n",
              "  </tbody>\n",
              "</table>\n",
              "<p>6746 rows × 3 columns</p>\n",
              "</div>"
            ],
            "text/plain": [
              "         년   월   일\n",
              "0     2011  08  16\n",
              "1     2011  06  08\n",
              "2     2011  06  07\n",
              "3     2011  03  12\n",
              "4     2011  03  11\n",
              "...    ...  ..  ..\n",
              "6741  2020  09  22\n",
              "6742  2020  09  21\n",
              "6743  2020  12  04\n",
              "6744  2020  12  30\n",
              "6745  2020  12  22\n",
              "\n",
              "[6746 rows x 3 columns]"
            ]
          },
          "execution_count": 84,
          "metadata": {},
          "output_type": "execute_result"
        }
      ],
      "source": [
        "time_df"
      ]
    },
    {
      "cell_type": "code",
      "execution_count": 13,
      "metadata": {
        "id": "WyDGfG_6xB0f"
      },
      "outputs": [
        {
          "name": "stdout",
          "output_type": "stream",
          "text": [
            "False\n"
          ]
        }
      ],
      "source": [
        "train_data = train_data.dropna(how = 'any')  # Null 값이 존재하는 행 제거\n",
        "print(train_data.isnull().values.any())      # Null 값이 존재하는지 확인"
      ]
    },
    {
      "cell_type": "code",
      "execution_count": 14,
      "metadata": {
        "id": "QsloTgDOxXAt"
      },
      "outputs": [
        {
          "name": "stdout",
          "output_type": "stream",
          "text": [
            "2702\n"
          ]
        }
      ],
      "source": [
        "print(len(train_data))   # 기사본문 개수 출력"
      ]
    },
    {
      "cell_type": "code",
      "execution_count": 15,
      "metadata": {
        "id": "f6UiCS6Rx3xz"
      },
      "outputs": [],
      "source": [
        "# 불용어 정의\n",
        "# stopwords = ['의','가','이','은','들','는','좀','잘','걍','과','도','를','으로','자','에','와','한','하다']"
      ]
    },
    {
      "cell_type": "code",
      "execution_count": 71,
      "metadata": {
        "id": "QIXqxhfy_nK5"
      },
      "outputs": [],
      "source": [
        "# 형태소 분석기 mecab를 사용한 토큰화 작업 (다소 시간 소요)\n",
        "\n",
        "mecab = Mecab()\n",
        "data['뉴스기사본문전처리'] = data['뉴스기사본문전처리'].apply(lambda x: mecab.nouns(x))\n",
        "# 한 글자 단어 제거\n",
        "data['뉴스기사본문전처리'] = data['뉴스기사본문전처리'].apply(lambda x: [word for word in x if len(word) > 1])\n",
        "\n",
        "\n",
        "# tokenized_data = []\n",
        "# output=[]\n",
        "# for sentence in data['뉴스기사본문전처리']:\n",
        "#     temp_X = mecab.nouns(sentence)  # 토큰화\n",
        "#      # 불용어 제거\n",
        "\n",
        "#     tokenized_data.append(temp_X)\n"
      ]
    },
    {
      "cell_type": "code",
      "execution_count": 72,
      "metadata": {},
      "outputs": [],
      "source": [
        "data.reset_index(inplace=True)"
      ]
    },
    {
      "cell_type": "code",
      "execution_count": 73,
      "metadata": {},
      "outputs": [
        {
          "data": {
            "text/plain": [
              "'폐지|격성|퇴출|실질|심사|속개|이의|심의|거절'"
            ]
          },
          "execution_count": 73,
          "metadata": {},
          "output_type": "execute_result"
        }
      ],
      "source": [
        "분류단어 = ['폐지', '격성', '퇴출', '실질', '심사', '속개', '이의', '심의', '거절']\n",
        "분류단어 = '|'.join(분류단어)\n",
        "분류단어"
      ]
    },
    {
      "cell_type": "code",
      "execution_count": 74,
      "metadata": {},
      "outputs": [],
      "source": [
        "data['뉴스기사_레이블']=data['기사제목']"
      ]
    },
    {
      "cell_type": "code",
      "execution_count": 75,
      "metadata": {},
      "outputs": [
        {
          "data": {
            "text/plain": [
              "0       0\n",
              "1       1\n",
              "2       0\n",
              "3       1\n",
              "4       1\n",
              "       ..\n",
              "6741    0\n",
              "6742    0\n",
              "6743    0\n",
              "6744    0\n",
              "6745    0\n",
              "Name: 뉴스기사본문전처리, Length: 6746, dtype: int64"
            ]
          },
          "execution_count": 75,
          "metadata": {},
          "output_type": "execute_result"
        }
      ],
      "source": [
        "라벨 = data['뉴스기사본문전처리'].apply(lambda x: [word for word in x if word in 분류단어])\n",
        "라벨 = 라벨.apply(lambda x: [word for word in x if word not in '상장'])\n",
        "라벨 = 라벨.apply(lambda x: 1 if (len(x)>=1) else 0)\n",
        "\n",
        "라벨"
      ]
    },
    {
      "cell_type": "code",
      "execution_count": 76,
      "metadata": {},
      "outputs": [
        {
          "name": "stderr",
          "output_type": "stream",
          "text": [
            "C:\\Users\\jangd\\AppData\\Local\\Temp\\ipykernel_20112\\3489174010.py:5: SettingWithCopyWarning: \n",
            "A value is trying to be set on a copy of a slice from a DataFrame\n",
            "\n",
            "See the caveats in the documentation: https://pandas.pydata.org/pandas-docs/stable/user_guide/indexing.html#returning-a-view-versus-a-copy\n",
            "  data['뉴스기사_레이블'][i]=라벨[i]\n"
          ]
        }
      ],
      "source": [
        "# plor=\n",
        "# a=\"|\".join(plor)\n",
        "# keywords= ['폐지', '격성', '퇴출', '실질', '심사', '속개', '이의', '심의', '거절']\n",
        "for i in range(len(data)):\n",
        "    data['뉴스기사_레이블'][i]=라벨[i]"
      ]
    },
    {
      "cell_type": "code",
      "execution_count": 77,
      "metadata": {},
      "outputs": [],
      "source": [
        "data.drop([\"index\",\"뉴스기사본문\"],inplace=True,axis=1)"
      ]
    },
    {
      "cell_type": "code",
      "execution_count": 78,
      "metadata": {},
      "outputs": [
        {
          "data": {
            "text/html": [
              "<div>\n",
              "<style scoped>\n",
              "    .dataframe tbody tr th:only-of-type {\n",
              "        vertical-align: middle;\n",
              "    }\n",
              "\n",
              "    .dataframe tbody tr th {\n",
              "        vertical-align: top;\n",
              "    }\n",
              "\n",
              "    .dataframe thead th {\n",
              "        text-align: right;\n",
              "    }\n",
              "</style>\n",
              "<table border=\"1\" class=\"dataframe\">\n",
              "  <thead>\n",
              "    <tr style=\"text-align: right;\">\n",
              "      <th></th>\n",
              "      <th>기업</th>\n",
              "      <th>기사발행일</th>\n",
              "      <th>기사제목</th>\n",
              "      <th>뉴스기사본문전처리</th>\n",
              "      <th>뉴스기사_레이블</th>\n",
              "    </tr>\n",
              "  </thead>\n",
              "  <tbody>\n",
              "    <tr>\n",
              "      <th>0</th>\n",
              "      <td>씨제이이엔엠</td>\n",
              "      <td>2011.08.16. 오전 9:21</td>\n",
              "      <td>코스닥, IT부품주 '훨훨'</td>\n",
              "      <td>[코스닥, 시장, 품주, 강세, 구글, 모토, 로라, 인수, 소식, 모토, 로라, ...</td>\n",
              "      <td>0</td>\n",
              "    </tr>\n",
              "    <tr>\n",
              "      <th>1</th>\n",
              "      <td>씨제이이엔엠</td>\n",
              "      <td>2011.06.08. 오전 7:58</td>\n",
              "      <td>장마감후 주요 종목뉴스-7일</td>\n",
              "      <td>[코스피, 시장, 법인, 청산, 푸드, 서비스, 계열사, 제외, 공시, 푸드, 서비...</td>\n",
              "      <td>1</td>\n",
              "    </tr>\n",
              "    <tr>\n",
              "      <th>2</th>\n",
              "      <td>씨제이이엔엠</td>\n",
              "      <td>2011.06.07. 오후 5:31</td>\n",
              "      <td>CJ, CJ푸드서비스 계열사서 제외</td>\n",
              "      <td>[법인, 청산, 푸드, 서비스, 계열사, 제외, 공시, 푸드, 서비스, 자본금, 억...</td>\n",
              "      <td>0</td>\n",
              "    </tr>\n",
              "    <tr>\n",
              "      <th>3</th>\n",
              "      <td>씨제이이엔엠</td>\n",
              "      <td>2011.03.12. 오전 10:01</td>\n",
              "      <td>현대카드ㆍ현대캐피탈, 사업성공 프로그램 후원</td>\n",
              "      <td>[현대, 카드, 현대캐피탈, 성공, 열정, 도전, 개인, 사업자, 이야기, 리얼리티...</td>\n",
              "      <td>1</td>\n",
              "    </tr>\n",
              "    <tr>\n",
              "      <th>4</th>\n",
              "      <td>씨제이이엔엠</td>\n",
              "      <td>2011.03.11. 오후 4:21</td>\n",
              "      <td>\"27일까지 사업성공 스토리에 도전하세요\"</td>\n",
              "      <td>[현대, 카드, 현대캐피탈, 성공, 열정, 도전, 개인, 사업자, 이야기, 리얼리티...</td>\n",
              "      <td>1</td>\n",
              "    </tr>\n",
              "    <tr>\n",
              "      <th>...</th>\n",
              "      <td>...</td>\n",
              "      <td>...</td>\n",
              "      <td>...</td>\n",
              "      <td>...</td>\n",
              "      <td>...</td>\n",
              "    </tr>\n",
              "    <tr>\n",
              "      <th>6741</th>\n",
              "      <td>에이치엘비</td>\n",
              "      <td>2020.09.22. 오전 5:20</td>\n",
              "      <td>에이치엘비 리보세라닙, 글로벌 항암제로 성공 가능성↑</td>\n",
              "      <td>[에이치엘비, 유럽, 종양, 학회, 리보, 세라, 가치, 입증, 사진, 에이치엘비,...</td>\n",
              "      <td>0</td>\n",
              "    </tr>\n",
              "    <tr>\n",
              "      <th>6742</th>\n",
              "      <td>에이치엘비</td>\n",
              "      <td>2020.09.21. 오후 4:18</td>\n",
              "      <td>에이치엘비, ESMO서 '리보세라닙' 관련 논문 23개 발표</td>\n",
              "      <td>[에이치엘비, 김제, 기자, 에이치엘비, 유럽, 종양, 학회, 리보, 세라, 관련,...</td>\n",
              "      <td>0</td>\n",
              "    </tr>\n",
              "    <tr>\n",
              "      <th>6743</th>\n",
              "      <td>에이치엘비</td>\n",
              "      <td>2020.12.04. 오후 4:15</td>\n",
              "      <td>에스퓨얼셀, 에이치엘비와 수소선박 공동개발 '맞손'…\"2023년 상용화 목표\"</td>\n",
              "      <td>[수소, 연료전지, 선박, 개발, 협력, 수소, 유람선, 상용, 목표, 설계, 모듈...</td>\n",
              "      <td>0</td>\n",
              "    </tr>\n",
              "    <tr>\n",
              "      <th>6744</th>\n",
              "      <td>에이치엘비</td>\n",
              "      <td>2020.12.30. 오후 5:45</td>\n",
              "      <td>코스닥, 23년만에 최고치…시총도 지각변동</td>\n",
              "      <td>[코스닥, 지수, 지난해, 대비, 상승, 개인, 비중, 확대, 거래량, 급등, 한국...</td>\n",
              "      <td>0</td>\n",
              "    </tr>\n",
              "    <tr>\n",
              "      <th>6745</th>\n",
              "      <td>에이치엘비</td>\n",
              "      <td>2020.12.22. 오전 9:17</td>\n",
              "      <td>리보세라닙, 병용임상서 담낭암·폐암 ‘완전 관해’ 관찰</td>\n",
              "      <td>[에이치엘비, 에이치엘비, 중국, 수행, 리주, 연구, 임상, 결과, 비소, 세포,...</td>\n",
              "      <td>0</td>\n",
              "    </tr>\n",
              "  </tbody>\n",
              "</table>\n",
              "<p>6746 rows × 5 columns</p>\n",
              "</div>"
            ],
            "text/plain": [
              "          기업                 기사발행일  \\\n",
              "0     씨제이이엔엠   2011.08.16. 오전 9:21   \n",
              "1     씨제이이엔엠   2011.06.08. 오전 7:58   \n",
              "2     씨제이이엔엠   2011.06.07. 오후 5:31   \n",
              "3     씨제이이엔엠  2011.03.12. 오전 10:01   \n",
              "4     씨제이이엔엠   2011.03.11. 오후 4:21   \n",
              "...      ...                   ...   \n",
              "6741   에이치엘비   2020.09.22. 오전 5:20   \n",
              "6742   에이치엘비   2020.09.21. 오후 4:18   \n",
              "6743   에이치엘비   2020.12.04. 오후 4:15   \n",
              "6744   에이치엘비   2020.12.30. 오후 5:45   \n",
              "6745   에이치엘비   2020.12.22. 오전 9:17   \n",
              "\n",
              "                                             기사제목  \\\n",
              "0                                 코스닥, IT부품주 '훨훨'   \n",
              "1                                 장마감후 주요 종목뉴스-7일   \n",
              "2                             CJ, CJ푸드서비스 계열사서 제외   \n",
              "3                        현대카드ㆍ현대캐피탈, 사업성공 프로그램 후원   \n",
              "4                         \"27일까지 사업성공 스토리에 도전하세요\"   \n",
              "...                                           ...   \n",
              "6741                에이치엘비 리보세라닙, 글로벌 항암제로 성공 가능성↑   \n",
              "6742            에이치엘비, ESMO서 '리보세라닙' 관련 논문 23개 발표   \n",
              "6743  에스퓨얼셀, 에이치엘비와 수소선박 공동개발 '맞손'…\"2023년 상용화 목표\"   \n",
              "6744                      코스닥, 23년만에 최고치…시총도 지각변동   \n",
              "6745               리보세라닙, 병용임상서 담낭암·폐암 ‘완전 관해’ 관찰   \n",
              "\n",
              "                                              뉴스기사본문전처리 뉴스기사_레이블  \n",
              "0     [코스닥, 시장, 품주, 강세, 구글, 모토, 로라, 인수, 소식, 모토, 로라, ...        0  \n",
              "1     [코스피, 시장, 법인, 청산, 푸드, 서비스, 계열사, 제외, 공시, 푸드, 서비...        1  \n",
              "2     [법인, 청산, 푸드, 서비스, 계열사, 제외, 공시, 푸드, 서비스, 자본금, 억...        0  \n",
              "3     [현대, 카드, 현대캐피탈, 성공, 열정, 도전, 개인, 사업자, 이야기, 리얼리티...        1  \n",
              "4     [현대, 카드, 현대캐피탈, 성공, 열정, 도전, 개인, 사업자, 이야기, 리얼리티...        1  \n",
              "...                                                 ...      ...  \n",
              "6741  [에이치엘비, 유럽, 종양, 학회, 리보, 세라, 가치, 입증, 사진, 에이치엘비,...        0  \n",
              "6742  [에이치엘비, 김제, 기자, 에이치엘비, 유럽, 종양, 학회, 리보, 세라, 관련,...        0  \n",
              "6743  [수소, 연료전지, 선박, 개발, 협력, 수소, 유람선, 상용, 목표, 설계, 모듈...        0  \n",
              "6744  [코스닥, 지수, 지난해, 대비, 상승, 개인, 비중, 확대, 거래량, 급등, 한국...        0  \n",
              "6745  [에이치엘비, 에이치엘비, 중국, 수행, 리주, 연구, 임상, 결과, 비소, 세포,...        0  \n",
              "\n",
              "[6746 rows x 5 columns]"
            ]
          },
          "execution_count": 78,
          "metadata": {},
          "output_type": "execute_result"
        }
      ],
      "source": [
        "data"
      ]
    },
    {
      "cell_type": "code",
      "execution_count": 46,
      "metadata": {},
      "outputs": [
        {
          "data": {
            "text/html": [
              "<div>\n",
              "<style scoped>\n",
              "    .dataframe tbody tr th:only-of-type {\n",
              "        vertical-align: middle;\n",
              "    }\n",
              "\n",
              "    .dataframe tbody tr th {\n",
              "        vertical-align: top;\n",
              "    }\n",
              "\n",
              "    .dataframe thead th {\n",
              "        text-align: right;\n",
              "    }\n",
              "</style>\n",
              "<table border=\"1\" class=\"dataframe\">\n",
              "  <thead>\n",
              "    <tr style=\"text-align: right;\">\n",
              "      <th></th>\n",
              "      <th>기사발행일</th>\n",
              "      <th>기사제목</th>\n",
              "      <th>뉴스기사본문전처리</th>\n",
              "      <th>뉴스기사_레이블</th>\n",
              "    </tr>\n",
              "    <tr>\n",
              "      <th>기업</th>\n",
              "      <th></th>\n",
              "      <th></th>\n",
              "      <th></th>\n",
              "      <th></th>\n",
              "    </tr>\n",
              "  </thead>\n",
              "  <tbody>\n",
              "    <tr>\n",
              "      <th>KCW</th>\n",
              "      <td>2015.06.02. 오후 2:582015.05.28. 오후 8:442015.05....</td>\n",
              "      <td>보쉬-KCW, 와이퍼시스템 합작회사 설립 '대구시와 MOU'KCW \"와이퍼 사업부문...</td>\n",
              "      <td>[본문, 이미지, 영역, 왼쪽, 보쉬, 조인트, 벤처, 와이퍼, 시스템, 대표, 이...</td>\n",
              "      <td>15</td>\n",
              "    </tr>\n",
              "    <tr>\n",
              "      <th>글로웍스</th>\n",
              "      <td>2011.03.22. 오후 6:472011.02.28. 오전 9:172011.02....</td>\n",
              "      <td>글로웍스, 불성실공시법인 지정 주권매매거래정지[특징주]글로웍스, 90% 감자 주총 ...</td>\n",
              "      <td>[웍스, 성실, 공시, 법인, 지정, 주권, 매매, 거래, 정지, 공시, 기법, 특...</td>\n",
              "      <td>11</td>\n",
              "    </tr>\n",
              "    <tr>\n",
              "      <th>금강제강</th>\n",
              "      <td>2012.03.28. 오후 3:282012.04.24. 오전 3:382012.04....</td>\n",
              "      <td>에이치디시에스, 금강제강으로 사명 변경[코스닥 메모] (24일) 무상권리락=인화정공...</td>\n",
              "      <td>[디시에스, 기업, 이미지, 제고, 금강, 제강, 사명, 변경, 공시, 한경, 닷컴...</td>\n",
              "      <td>4</td>\n",
              "    </tr>\n",
              "    <tr>\n",
              "      <th>나노트로닉스</th>\n",
              "      <td>2014.01.10. 오후 1:442014.01.10. 오후 4:162013.12....</td>\n",
              "      <td>[특징주]나노트로닉스, 현 대표 구속 소식에 '하한가'[오늘의 주요 공시]나노트로닉...</td>\n",
              "      <td>[노트, 닉스, 주가, 대표, 이사, 검찰, 구속, 소식, 하한가, 기록, 오후, ...</td>\n",
              "      <td>0</td>\n",
              "    </tr>\n",
              "    <tr>\n",
              "      <th>나이스메탈</th>\n",
              "      <td>2011.01.31. 오전 7:412011.01.26. 오후 4:002011.01....</td>\n",
              "      <td>나이스메탈, 사내이사의 이사회 결의금지 소송나이스메탈, 부당이득반환소송 항소심 승소...</td>\n",
              "      <td>[나이스, 메탈, 주식회사, 사내, 이사, 김성재, 감사, 김선희, 사회, 개최, ...</td>\n",
              "      <td>9</td>\n",
              "    </tr>\n",
              "    <tr>\n",
              "      <th>...</th>\n",
              "      <td>...</td>\n",
              "      <td>...</td>\n",
              "      <td>...</td>\n",
              "      <td>...</td>\n",
              "    </tr>\n",
              "    <tr>\n",
              "      <th>한와이어리스</th>\n",
              "      <td>2011.01.21. 오전 11:042010.12.16. 오전 9:412010.12...</td>\n",
              "      <td>한와이어리스, 신주인수권 행사가액 조정[특징주]급등랠리 멈춘 한와이어리스, 下[특징...</td>\n",
              "      <td>[와이어리스, 하락, 신주인수권, 행사, 기존, 조정, 공시, 뉴스, 고급, 증권,...</td>\n",
              "      <td>14</td>\n",
              "    </tr>\n",
              "    <tr>\n",
              "      <th>해피드림</th>\n",
              "      <td>2015.01.22. 오전 9:392014.12.29. 오후 5:112014.12....</td>\n",
              "      <td>[특징주]해피드림, 급등..흑전으로 관리종목 탈피 기대해피드림, 신주인수권 70만주...</td>\n",
              "      <td>[해피, 드림, 흑자, 전환, 관리, 종목, 탈피, 기대감, 급등세, 오전, 시분,...</td>\n",
              "      <td>14</td>\n",
              "    </tr>\n",
              "    <tr>\n",
              "      <th>핸디소프트</th>\n",
              "      <td>2010.11.19. 오후 5:232010.11.08. 오전 8:082010.11....</td>\n",
              "      <td>핸디소프트, 이사 직무정지 가처분 피소1세대 벤처 핸디소프트, 대주주 횡령에 매각 ...</td>\n",
              "      <td>[핸디, 소프트, 김상효, 회사, 대표, 상대, 제기, 이사, 감사, 해임, 청구,...</td>\n",
              "      <td>20</td>\n",
              "    </tr>\n",
              "    <tr>\n",
              "      <th>휴먼텍코리아</th>\n",
              "      <td>2013.01.11. 오전 10:192013.01.10. 오후 5:482012.12...</td>\n",
              "      <td>[특징주] 휴먼텍코리아 회생절차 개시…上휴먼텍코리아, 회생절차 개시..11일부터 거...</td>\n",
              "      <td>[휴먼, 코리아, 법원, 회생, 절차, 개시, 결정, 이후, 상한가, 기록, 오전,...</td>\n",
              "      <td>8</td>\n",
              "    </tr>\n",
              "    <tr>\n",
              "      <th>히스토스템</th>\n",
              "      <td>2011.05.17. 오전 9:182011.03.24. 오전 9:162011.02....</td>\n",
              "      <td>[특징주]'흑자 전환' 히스토스템 급등[특징주]히스토스템, 감사보고서 미제출..사흘...</td>\n",
              "      <td>[히스, 토스, 흑자, 전환, 소식, 급등세, 오전, 히스, 토스, 전일, 대비, ...</td>\n",
              "      <td>23</td>\n",
              "    </tr>\n",
              "  </tbody>\n",
              "</table>\n",
              "<p>133 rows × 4 columns</p>\n",
              "</div>"
            ],
            "text/plain": [
              "                                                    기사발행일  \\\n",
              "기업                                                          \n",
              "KCW     2015.06.02. 오후 2:582015.05.28. 오후 8:442015.05....   \n",
              "글로웍스    2011.03.22. 오후 6:472011.02.28. 오전 9:172011.02....   \n",
              "금강제강    2012.03.28. 오후 3:282012.04.24. 오전 3:382012.04....   \n",
              "나노트로닉스  2014.01.10. 오후 1:442014.01.10. 오후 4:162013.12....   \n",
              "나이스메탈   2011.01.31. 오전 7:412011.01.26. 오후 4:002011.01....   \n",
              "...                                                   ...   \n",
              "한와이어리스  2011.01.21. 오전 11:042010.12.16. 오전 9:412010.12...   \n",
              "해피드림    2015.01.22. 오전 9:392014.12.29. 오후 5:112014.12....   \n",
              "핸디소프트   2010.11.19. 오후 5:232010.11.08. 오전 8:082010.11....   \n",
              "휴먼텍코리아  2013.01.11. 오전 10:192013.01.10. 오후 5:482012.12...   \n",
              "히스토스템   2011.05.17. 오전 9:182011.03.24. 오전 9:162011.02....   \n",
              "\n",
              "                                                     기사제목  \\\n",
              "기업                                                          \n",
              "KCW     보쉬-KCW, 와이퍼시스템 합작회사 설립 '대구시와 MOU'KCW \"와이퍼 사업부문...   \n",
              "글로웍스    글로웍스, 불성실공시법인 지정 주권매매거래정지[특징주]글로웍스, 90% 감자 주총 ...   \n",
              "금강제강    에이치디시에스, 금강제강으로 사명 변경[코스닥 메모] (24일) 무상권리락=인화정공...   \n",
              "나노트로닉스  [특징주]나노트로닉스, 현 대표 구속 소식에 '하한가'[오늘의 주요 공시]나노트로닉...   \n",
              "나이스메탈   나이스메탈, 사내이사의 이사회 결의금지 소송나이스메탈, 부당이득반환소송 항소심 승소...   \n",
              "...                                                   ...   \n",
              "한와이어리스  한와이어리스, 신주인수권 행사가액 조정[특징주]급등랠리 멈춘 한와이어리스, 下[특징...   \n",
              "해피드림    [특징주]해피드림, 급등..흑전으로 관리종목 탈피 기대해피드림, 신주인수권 70만주...   \n",
              "핸디소프트   핸디소프트, 이사 직무정지 가처분 피소1세대 벤처 핸디소프트, 대주주 횡령에 매각 ...   \n",
              "휴먼텍코리아  [특징주] 휴먼텍코리아 회생절차 개시…上휴먼텍코리아, 회생절차 개시..11일부터 거...   \n",
              "히스토스템   [특징주]'흑자 전환' 히스토스템 급등[특징주]히스토스템, 감사보고서 미제출..사흘...   \n",
              "\n",
              "                                                뉴스기사본문전처리  뉴스기사_레이블  \n",
              "기업                                                                   \n",
              "KCW     [본문, 이미지, 영역, 왼쪽, 보쉬, 조인트, 벤처, 와이퍼, 시스템, 대표, 이...        15  \n",
              "글로웍스    [웍스, 성실, 공시, 법인, 지정, 주권, 매매, 거래, 정지, 공시, 기법, 특...        11  \n",
              "금강제강    [디시에스, 기업, 이미지, 제고, 금강, 제강, 사명, 변경, 공시, 한경, 닷컴...         4  \n",
              "나노트로닉스  [노트, 닉스, 주가, 대표, 이사, 검찰, 구속, 소식, 하한가, 기록, 오후, ...         0  \n",
              "나이스메탈   [나이스, 메탈, 주식회사, 사내, 이사, 김성재, 감사, 김선희, 사회, 개최, ...         9  \n",
              "...                                                   ...       ...  \n",
              "한와이어리스  [와이어리스, 하락, 신주인수권, 행사, 기존, 조정, 공시, 뉴스, 고급, 증권,...        14  \n",
              "해피드림    [해피, 드림, 흑자, 전환, 관리, 종목, 탈피, 기대감, 급등세, 오전, 시분,...        14  \n",
              "핸디소프트   [핸디, 소프트, 김상효, 회사, 대표, 상대, 제기, 이사, 감사, 해임, 청구,...        20  \n",
              "휴먼텍코리아  [휴먼, 코리아, 법원, 회생, 절차, 개시, 결정, 이후, 상한가, 기록, 오전,...         8  \n",
              "히스토스템   [히스, 토스, 흑자, 전환, 소식, 급등세, 오전, 히스, 토스, 전일, 대비, ...        23  \n",
              "\n",
              "[133 rows x 4 columns]"
            ]
          },
          "execution_count": 46,
          "metadata": {},
          "output_type": "execute_result"
        }
      ],
      "source": [
        "data_df=data.groupby([\"기업\"]).sum()\n",
        "data_df\n",
        "# data_df[\"부도기사 비율\"]=data_df[\"뉴스기사 레이블\"]\n",
        "# len(data_df[\"뉴스기사 레이블\"])\n"
      ]
    },
    {
      "cell_type": "code",
      "execution_count": 47,
      "metadata": {},
      "outputs": [
        {
          "data": {
            "text/html": [
              "<div>\n",
              "<style scoped>\n",
              "    .dataframe tbody tr th:only-of-type {\n",
              "        vertical-align: middle;\n",
              "    }\n",
              "\n",
              "    .dataframe tbody tr th {\n",
              "        vertical-align: top;\n",
              "    }\n",
              "\n",
              "    .dataframe thead th {\n",
              "        text-align: right;\n",
              "    }\n",
              "</style>\n",
              "<table border=\"1\" class=\"dataframe\">\n",
              "  <thead>\n",
              "    <tr style=\"text-align: right;\">\n",
              "      <th></th>\n",
              "      <th>기사발행일</th>\n",
              "      <th>기사제목</th>\n",
              "      <th>뉴스기사본문전처리</th>\n",
              "      <th>뉴스기사_레이블</th>\n",
              "    </tr>\n",
              "    <tr>\n",
              "      <th>기업</th>\n",
              "      <th></th>\n",
              "      <th></th>\n",
              "      <th></th>\n",
              "      <th></th>\n",
              "    </tr>\n",
              "  </thead>\n",
              "  <tbody>\n",
              "    <tr>\n",
              "      <th>KCW</th>\n",
              "      <td>35</td>\n",
              "      <td>35</td>\n",
              "      <td>35</td>\n",
              "      <td>35</td>\n",
              "    </tr>\n",
              "    <tr>\n",
              "      <th>글로웍스</th>\n",
              "      <td>73</td>\n",
              "      <td>73</td>\n",
              "      <td>73</td>\n",
              "      <td>73</td>\n",
              "    </tr>\n",
              "    <tr>\n",
              "      <th>금강제강</th>\n",
              "      <td>5</td>\n",
              "      <td>5</td>\n",
              "      <td>5</td>\n",
              "      <td>5</td>\n",
              "    </tr>\n",
              "    <tr>\n",
              "      <th>나노트로닉스</th>\n",
              "      <td>26</td>\n",
              "      <td>26</td>\n",
              "      <td>26</td>\n",
              "      <td>26</td>\n",
              "    </tr>\n",
              "    <tr>\n",
              "      <th>나이스메탈</th>\n",
              "      <td>77</td>\n",
              "      <td>77</td>\n",
              "      <td>77</td>\n",
              "      <td>77</td>\n",
              "    </tr>\n",
              "    <tr>\n",
              "      <th>...</th>\n",
              "      <td>...</td>\n",
              "      <td>...</td>\n",
              "      <td>...</td>\n",
              "      <td>...</td>\n",
              "    </tr>\n",
              "    <tr>\n",
              "      <th>한와이어리스</th>\n",
              "      <td>93</td>\n",
              "      <td>93</td>\n",
              "      <td>93</td>\n",
              "      <td>93</td>\n",
              "    </tr>\n",
              "    <tr>\n",
              "      <th>해피드림</th>\n",
              "      <td>64</td>\n",
              "      <td>64</td>\n",
              "      <td>64</td>\n",
              "      <td>64</td>\n",
              "    </tr>\n",
              "    <tr>\n",
              "      <th>핸디소프트</th>\n",
              "      <td>46</td>\n",
              "      <td>46</td>\n",
              "      <td>46</td>\n",
              "      <td>46</td>\n",
              "    </tr>\n",
              "    <tr>\n",
              "      <th>휴먼텍코리아</th>\n",
              "      <td>60</td>\n",
              "      <td>60</td>\n",
              "      <td>60</td>\n",
              "      <td>60</td>\n",
              "    </tr>\n",
              "    <tr>\n",
              "      <th>히스토스템</th>\n",
              "      <td>85</td>\n",
              "      <td>85</td>\n",
              "      <td>85</td>\n",
              "      <td>85</td>\n",
              "    </tr>\n",
              "  </tbody>\n",
              "</table>\n",
              "<p>133 rows × 4 columns</p>\n",
              "</div>"
            ],
            "text/plain": [
              "        기사발행일  기사제목  뉴스기사본문전처리  뉴스기사_레이블\n",
              "기업                                      \n",
              "KCW        35    35         35        35\n",
              "글로웍스       73    73         73        73\n",
              "금강제강        5     5          5         5\n",
              "나노트로닉스     26    26         26        26\n",
              "나이스메탈      77    77         77        77\n",
              "...       ...   ...        ...       ...\n",
              "한와이어리스     93    93         93        93\n",
              "해피드림       64    64         64        64\n",
              "핸디소프트      46    46         46        46\n",
              "휴먼텍코리아     60    60         60        60\n",
              "히스토스템      85    85         85        85\n",
              "\n",
              "[133 rows x 4 columns]"
            ]
          },
          "execution_count": 47,
          "metadata": {},
          "output_type": "execute_result"
        }
      ],
      "source": [
        "count_df=data.groupby([\"기업\"]).count()\n",
        "# count_df.columns=['기사발행일', '기사제목', '뉴스기사본문', '뉴스기사본문전처리', '뉴스기사 수']\n",
        "count_df"
      ]
    },
    {
      "cell_type": "code",
      "execution_count": 50,
      "metadata": {},
      "outputs": [],
      "source": [
        "count_df[\"부도기사비율\"]=data[\"기업\"]"
      ]
    },
    {
      "cell_type": "code",
      "execution_count": 51,
      "metadata": {},
      "outputs": [
        {
          "data": {
            "text/html": [
              "<div>\n",
              "<style scoped>\n",
              "    .dataframe tbody tr th:only-of-type {\n",
              "        vertical-align: middle;\n",
              "    }\n",
              "\n",
              "    .dataframe tbody tr th {\n",
              "        vertical-align: top;\n",
              "    }\n",
              "\n",
              "    .dataframe thead th {\n",
              "        text-align: right;\n",
              "    }\n",
              "</style>\n",
              "<table border=\"1\" class=\"dataframe\">\n",
              "  <thead>\n",
              "    <tr style=\"text-align: right;\">\n",
              "      <th></th>\n",
              "      <th>기사발행일</th>\n",
              "      <th>기사제목</th>\n",
              "      <th>뉴스기사본문전처리</th>\n",
              "      <th>뉴스기사_레이블</th>\n",
              "      <th>부도기사비율</th>\n",
              "    </tr>\n",
              "    <tr>\n",
              "      <th>기업</th>\n",
              "      <th></th>\n",
              "      <th></th>\n",
              "      <th></th>\n",
              "      <th></th>\n",
              "      <th></th>\n",
              "    </tr>\n",
              "  </thead>\n",
              "  <tbody>\n",
              "    <tr>\n",
              "      <th>KCW</th>\n",
              "      <td>35</td>\n",
              "      <td>35</td>\n",
              "      <td>35</td>\n",
              "      <td>35</td>\n",
              "      <td>NaN</td>\n",
              "    </tr>\n",
              "    <tr>\n",
              "      <th>글로웍스</th>\n",
              "      <td>73</td>\n",
              "      <td>73</td>\n",
              "      <td>73</td>\n",
              "      <td>73</td>\n",
              "      <td>NaN</td>\n",
              "    </tr>\n",
              "    <tr>\n",
              "      <th>금강제강</th>\n",
              "      <td>5</td>\n",
              "      <td>5</td>\n",
              "      <td>5</td>\n",
              "      <td>5</td>\n",
              "      <td>NaN</td>\n",
              "    </tr>\n",
              "    <tr>\n",
              "      <th>나노트로닉스</th>\n",
              "      <td>26</td>\n",
              "      <td>26</td>\n",
              "      <td>26</td>\n",
              "      <td>26</td>\n",
              "      <td>NaN</td>\n",
              "    </tr>\n",
              "    <tr>\n",
              "      <th>나이스메탈</th>\n",
              "      <td>77</td>\n",
              "      <td>77</td>\n",
              "      <td>77</td>\n",
              "      <td>77</td>\n",
              "      <td>NaN</td>\n",
              "    </tr>\n",
              "    <tr>\n",
              "      <th>...</th>\n",
              "      <td>...</td>\n",
              "      <td>...</td>\n",
              "      <td>...</td>\n",
              "      <td>...</td>\n",
              "      <td>...</td>\n",
              "    </tr>\n",
              "    <tr>\n",
              "      <th>한와이어리스</th>\n",
              "      <td>93</td>\n",
              "      <td>93</td>\n",
              "      <td>93</td>\n",
              "      <td>93</td>\n",
              "      <td>NaN</td>\n",
              "    </tr>\n",
              "    <tr>\n",
              "      <th>해피드림</th>\n",
              "      <td>64</td>\n",
              "      <td>64</td>\n",
              "      <td>64</td>\n",
              "      <td>64</td>\n",
              "      <td>NaN</td>\n",
              "    </tr>\n",
              "    <tr>\n",
              "      <th>핸디소프트</th>\n",
              "      <td>46</td>\n",
              "      <td>46</td>\n",
              "      <td>46</td>\n",
              "      <td>46</td>\n",
              "      <td>NaN</td>\n",
              "    </tr>\n",
              "    <tr>\n",
              "      <th>휴먼텍코리아</th>\n",
              "      <td>60</td>\n",
              "      <td>60</td>\n",
              "      <td>60</td>\n",
              "      <td>60</td>\n",
              "      <td>NaN</td>\n",
              "    </tr>\n",
              "    <tr>\n",
              "      <th>히스토스템</th>\n",
              "      <td>85</td>\n",
              "      <td>85</td>\n",
              "      <td>85</td>\n",
              "      <td>85</td>\n",
              "      <td>NaN</td>\n",
              "    </tr>\n",
              "  </tbody>\n",
              "</table>\n",
              "<p>133 rows × 5 columns</p>\n",
              "</div>"
            ],
            "text/plain": [
              "        기사발행일  기사제목  뉴스기사본문전처리  뉴스기사_레이블 부도기사비율\n",
              "기업                                             \n",
              "KCW        35    35         35        35    NaN\n",
              "글로웍스       73    73         73        73    NaN\n",
              "금강제강        5     5          5         5    NaN\n",
              "나노트로닉스     26    26         26        26    NaN\n",
              "나이스메탈      77    77         77        77    NaN\n",
              "...       ...   ...        ...       ...    ...\n",
              "한와이어리스     93    93         93        93    NaN\n",
              "해피드림       64    64         64        64    NaN\n",
              "핸디소프트      46    46         46        46    NaN\n",
              "휴먼텍코리아     60    60         60        60    NaN\n",
              "히스토스템      85    85         85        85    NaN\n",
              "\n",
              "[133 rows x 5 columns]"
            ]
          },
          "execution_count": 51,
          "metadata": {},
          "output_type": "execute_result"
        }
      ],
      "source": [
        "count_df"
      ]
    },
    {
      "cell_type": "code",
      "execution_count": 55,
      "metadata": {},
      "outputs": [],
      "source": [
        "count_df[\"부도기사비율\"]=data_df[\"뉴스기사_레이블\"]/count_df[\"뉴스기사_레이블\"]\n",
        "a=pd.DataFrame(count_df[\"부도기사비율\"])\n",
        "a.to_csv(\"새로운부도기사비율.csv\",encoding=\"utf-8-sig\")"
      ]
    },
    {
      "cell_type": "code",
      "execution_count": 19,
      "metadata": {},
      "outputs": [],
      "source": [
        "len(remove_one_word)\n",
        "list_text_1=sum(remove_one_word, [])"
      ]
    },
    {
      "cell_type": "code",
      "execution_count": 20,
      "metadata": {},
      "outputs": [],
      "source": [
        "word=pd.DataFrame(list_text_1)\n",
        "word.to_csv(\"word2vec_word.csv\",encoding=\"utf-8-sig\")"
      ]
    },
    {
      "cell_type": "code",
      "execution_count": 21,
      "metadata": {},
      "outputs": [],
      "source": [
        "from collections import Counter"
      ]
    },
    {
      "cell_type": "code",
      "execution_count": 22,
      "metadata": {},
      "outputs": [
        {
          "data": {
            "text/plain": [
              "1309"
            ]
          },
          "execution_count": 22,
          "metadata": {},
          "output_type": "execute_result"
        }
      ],
      "source": [
        "횟수=Counter(list_text_1)\n",
        "횟수['폐지']\n",
        "# for i in range(len(list_text_1)):\n",
        "    \n",
        "# print(Counter(list_text_1))"
      ]
    },
    {
      "cell_type": "markdown",
      "metadata": {},
      "source": [
        "기사의 길이 및 분포 확인"
      ]
    },
    {
      "cell_type": "code",
      "execution_count": 23,
      "metadata": {
        "id": "XhJDDC2GAJWN"
      },
      "outputs": [
        {
          "name": "stdout",
          "output_type": "stream",
          "text": [
            "기사의 최대 길이 : 1832\n",
            "기사의 평균 길이 : 156.29496669133974\n"
          ]
        },
        {
          "data": {
            "image/png": "[encoded data removed]",
            "text/plain": [
              "<Figure size 432x288 with 1 Axes>"
            ]
          },
          "metadata": {
            "needs_background": "light"
          },
          "output_type": "display_data"
        }
      ],
      "source": [
        "# 기사 길이 분포 확인\n",
        "\n",
        "print('기사의 최대 길이 :',max(len(l) for l in tokenized_data))\n",
        "print('기사의 평균 길이 :',sum(map(len, tokenized_data))/len(tokenized_data))\n",
        "plt.hist([len(s) for s in tokenized_data], bins=50)\n",
        "plt.xlabel('length of samples')\n",
        "plt.ylabel('number of samples')\n",
        "plt.show();"
      ]
    },
    {
      "cell_type": "markdown",
      "metadata": {},
      "source": [
        "word2vec훈련"
      ]
    },
    {
      "cell_type": "code",
      "execution_count": 24,
      "metadata": {
        "id": "Gwug1bpPC1ON"
      },
      "outputs": [],
      "source": [
        "# Word2Vec 훈련시키기\n",
        "\n",
        "from gensim.models import Word2Vec # \n",
        "model = Word2Vec(sentences = remove_one_word, window = 5, min_count = 5, workers = 4, sg = 1, )"
      ]
    },
    {
      "cell_type": "code",
      "execution_count": 25,
      "metadata": {
        "id": "70At5l-pDyXk"
      },
      "outputs": [
        {
          "data": {
            "text/plain": [
              "(5907, 100)"
            ]
          },
          "execution_count": 25,
          "metadata": {},
          "output_type": "execute_result"
        }
      ],
      "source": [
        "# 완성된 임베딩 매트릭스의 크기 확인\n",
        "\n",
        "model.wv.vectors.shape"
      ]
    },
    {
      "cell_type": "markdown",
      "metadata": {},
      "source": [
        "유사도확인"
      ]
    },
    {
      "cell_type": "code",
      "execution_count": 26,
      "metadata": {
        "id": "UFdR9uxaEH5j"
      },
      "outputs": [
        {
          "name": "stdout",
          "output_type": "stream",
          "text": [
            "[('퇴출', 0.8211759924888611), ('심사', 0.7924410104751587), ('격성', 0.7903725504875183), ('기로', 0.7850276231765747), ('요건', 0.7842447757720947), ('모면', 0.7801958322525024), ('벼랑', 0.7733277678489685), ('청구서', 0.7729319334030151), ('확인서', 0.7682451605796814), ('이의', 0.7620949149131775)]\n"
          ]
        }
      ],
      "source": [
        "print(model.wv.most_similar([\"폐지\"]))"
      ]
    },
    {
      "cell_type": "code",
      "execution_count": 27,
      "metadata": {},
      "outputs": [
        {
          "name": "stdout",
          "output_type": "stream",
          "text": [
            "[('미결재', 0.8926321864128113), ('제때', 0.8886010646820068), ('도출', 0.8559080362319946), ('소명', 0.8542006015777588), ('수시', 0.852849006652832), ('서류', 0.8481168150901794), ('의거', 0.8439792990684509), ('하도급', 0.8413634300231934), ('결론', 0.840756893157959), ('경영난', 0.8396047949790955), ('외상', 0.8349282741546631), ('처지', 0.8344768285751343), ('난항', 0.8326036334037781), ('이의', 0.8300736546516418), ('단의', 0.8286551237106323), ('종결', 0.8284042477607727), ('중재', 0.8279462456703186), ('납부', 0.8279149532318115), ('진통', 0.8268039226531982), ('기사회생', 0.8264684081077576)]\n"
          ]
        },
        {
          "data": {
            "text/html": [
              "<div>\n",
              "<style scoped>\n",
              "    .dataframe tbody tr th:only-of-type {\n",
              "        vertical-align: middle;\n",
              "    }\n",
              "\n",
              "    .dataframe tbody tr th {\n",
              "        vertical-align: top;\n",
              "    }\n",
              "\n",
              "    .dataframe thead th {\n",
              "        text-align: right;\n",
              "    }\n",
              "</style>\n",
              "<table border=\"1\" class=\"dataframe\">\n",
              "  <thead>\n",
              "    <tr style=\"text-align: right;\">\n",
              "      <th></th>\n",
              "      <th>단어</th>\n",
              "      <th>유사도</th>\n",
              "    </tr>\n",
              "  </thead>\n",
              "  <tbody>\n",
              "    <tr>\n",
              "      <th>0</th>\n",
              "      <td>미결재</td>\n",
              "      <td>0.892632</td>\n",
              "    </tr>\n",
              "    <tr>\n",
              "      <th>1</th>\n",
              "      <td>제때</td>\n",
              "      <td>0.888601</td>\n",
              "    </tr>\n",
              "    <tr>\n",
              "      <th>2</th>\n",
              "      <td>도출</td>\n",
              "      <td>0.855908</td>\n",
              "    </tr>\n",
              "    <tr>\n",
              "      <th>3</th>\n",
              "      <td>소명</td>\n",
              "      <td>0.854201</td>\n",
              "    </tr>\n",
              "    <tr>\n",
              "      <th>4</th>\n",
              "      <td>수시</td>\n",
              "      <td>0.852849</td>\n",
              "    </tr>\n",
              "    <tr>\n",
              "      <th>5</th>\n",
              "      <td>서류</td>\n",
              "      <td>0.848117</td>\n",
              "    </tr>\n",
              "    <tr>\n",
              "      <th>6</th>\n",
              "      <td>의거</td>\n",
              "      <td>0.843979</td>\n",
              "    </tr>\n",
              "    <tr>\n",
              "      <th>7</th>\n",
              "      <td>하도급</td>\n",
              "      <td>0.841363</td>\n",
              "    </tr>\n",
              "    <tr>\n",
              "      <th>8</th>\n",
              "      <td>결론</td>\n",
              "      <td>0.840757</td>\n",
              "    </tr>\n",
              "    <tr>\n",
              "      <th>9</th>\n",
              "      <td>경영난</td>\n",
              "      <td>0.839605</td>\n",
              "    </tr>\n",
              "    <tr>\n",
              "      <th>10</th>\n",
              "      <td>외상</td>\n",
              "      <td>0.834928</td>\n",
              "    </tr>\n",
              "    <tr>\n",
              "      <th>11</th>\n",
              "      <td>처지</td>\n",
              "      <td>0.834477</td>\n",
              "    </tr>\n",
              "    <tr>\n",
              "      <th>12</th>\n",
              "      <td>난항</td>\n",
              "      <td>0.832604</td>\n",
              "    </tr>\n",
              "    <tr>\n",
              "      <th>13</th>\n",
              "      <td>이의</td>\n",
              "      <td>0.830074</td>\n",
              "    </tr>\n",
              "    <tr>\n",
              "      <th>14</th>\n",
              "      <td>단의</td>\n",
              "      <td>0.828655</td>\n",
              "    </tr>\n",
              "    <tr>\n",
              "      <th>15</th>\n",
              "      <td>종결</td>\n",
              "      <td>0.828404</td>\n",
              "    </tr>\n",
              "    <tr>\n",
              "      <th>16</th>\n",
              "      <td>중재</td>\n",
              "      <td>0.827946</td>\n",
              "    </tr>\n",
              "    <tr>\n",
              "      <th>17</th>\n",
              "      <td>납부</td>\n",
              "      <td>0.827915</td>\n",
              "    </tr>\n",
              "    <tr>\n",
              "      <th>18</th>\n",
              "      <td>진통</td>\n",
              "      <td>0.826804</td>\n",
              "    </tr>\n",
              "    <tr>\n",
              "      <th>19</th>\n",
              "      <td>기사회생</td>\n",
              "      <td>0.826468</td>\n",
              "    </tr>\n",
              "  </tbody>\n",
              "</table>\n",
              "</div>"
            ],
            "text/plain": [
              "      단어       유사도\n",
              "0    미결재  0.892632\n",
              "1     제때  0.888601\n",
              "2     도출  0.855908\n",
              "3     소명  0.854201\n",
              "4     수시  0.852849\n",
              "5     서류  0.848117\n",
              "6     의거  0.843979\n",
              "7    하도급  0.841363\n",
              "8     결론  0.840757\n",
              "9    경영난  0.839605\n",
              "10    외상  0.834928\n",
              "11    처지  0.834477\n",
              "12    난항  0.832604\n",
              "13    이의  0.830074\n",
              "14    단의  0.828655\n",
              "15    종결  0.828404\n",
              "16    중재  0.827946\n",
              "17    납부  0.827915\n",
              "18    진통  0.826804\n",
              "19  기사회생  0.826468"
            ]
          },
          "execution_count": 27,
          "metadata": {},
          "output_type": "execute_result"
        }
      ],
      "source": [
        "print(model.wv.most_similar([\"부도\"],topn=20))\n",
        "dataframe_1=model.wv.most_similar([\"부도\"],topn=20)\n",
        "dataframe=pd.DataFrame(dataframe_1)\n",
        "dataframe.columns=['단어','유사도']\n",
        "dataframe"
      ]
    },
    {
      "cell_type": "code",
      "execution_count": 28,
      "metadata": {},
      "outputs": [
        {
          "name": "stdout",
          "output_type": "stream",
          "text": [
            "[('퇴출', 0.8211759924888611), ('심사', 0.7924410104751587), ('격성', 0.7903725504875183), ('기로', 0.7850276231765747), ('요건', 0.7842447757720947), ('모면', 0.7801958322525024), ('벼랑', 0.7733277678489685), ('청구서', 0.7729319334030151), ('확인서', 0.7682451605796814), ('이의', 0.7620949149131775)]\n"
          ]
        },
        {
          "data": {
            "text/html": [
              "<div>\n",
              "<style scoped>\n",
              "    .dataframe tbody tr th:only-of-type {\n",
              "        vertical-align: middle;\n",
              "    }\n",
              "\n",
              "    .dataframe tbody tr th {\n",
              "        vertical-align: top;\n",
              "    }\n",
              "\n",
              "    .dataframe thead th {\n",
              "        text-align: right;\n",
              "    }\n",
              "</style>\n",
              "<table border=\"1\" class=\"dataframe\">\n",
              "  <thead>\n",
              "    <tr style=\"text-align: right;\">\n",
              "      <th></th>\n",
              "      <th>단어</th>\n",
              "      <th>유사도</th>\n",
              "    </tr>\n",
              "  </thead>\n",
              "  <tbody>\n",
              "    <tr>\n",
              "      <th>0</th>\n",
              "      <td>퇴출</td>\n",
              "      <td>0.821176</td>\n",
              "    </tr>\n",
              "    <tr>\n",
              "      <th>1</th>\n",
              "      <td>심사</td>\n",
              "      <td>0.792441</td>\n",
              "    </tr>\n",
              "    <tr>\n",
              "      <th>2</th>\n",
              "      <td>격성</td>\n",
              "      <td>0.790373</td>\n",
              "    </tr>\n",
              "    <tr>\n",
              "      <th>3</th>\n",
              "      <td>기로</td>\n",
              "      <td>0.785028</td>\n",
              "    </tr>\n",
              "    <tr>\n",
              "      <th>4</th>\n",
              "      <td>요건</td>\n",
              "      <td>0.784245</td>\n",
              "    </tr>\n",
              "    <tr>\n",
              "      <th>5</th>\n",
              "      <td>모면</td>\n",
              "      <td>0.780196</td>\n",
              "    </tr>\n",
              "    <tr>\n",
              "      <th>6</th>\n",
              "      <td>벼랑</td>\n",
              "      <td>0.773328</td>\n",
              "    </tr>\n",
              "    <tr>\n",
              "      <th>7</th>\n",
              "      <td>청구서</td>\n",
              "      <td>0.772932</td>\n",
              "    </tr>\n",
              "    <tr>\n",
              "      <th>8</th>\n",
              "      <td>확인서</td>\n",
              "      <td>0.768245</td>\n",
              "    </tr>\n",
              "    <tr>\n",
              "      <th>9</th>\n",
              "      <td>이의</td>\n",
              "      <td>0.762095</td>\n",
              "    </tr>\n",
              "  </tbody>\n",
              "</table>\n",
              "</div>"
            ],
            "text/plain": [
              "    단어       유사도\n",
              "0   퇴출  0.821176\n",
              "1   심사  0.792441\n",
              "2   격성  0.790373\n",
              "3   기로  0.785028\n",
              "4   요건  0.784245\n",
              "5   모면  0.780196\n",
              "6   벼랑  0.773328\n",
              "7  청구서  0.772932\n",
              "8  확인서  0.768245\n",
              "9   이의  0.762095"
            ]
          },
          "execution_count": 28,
          "metadata": {},
          "output_type": "execute_result"
        }
      ],
      "source": [
        "print(model.wv.most_similar([\"폐지\"],topn=10))\n",
        "dataframe_1=model.wv.most_similar([\"폐지\"],topn=10)\n",
        "dataframe=pd.DataFrame(dataframe_1)\n",
        "dataframe.columns=['단어','유사도']\n",
        "dataframe"
      ]
    },
    {
      "cell_type": "code",
      "execution_count": 30,
      "metadata": {},
      "outputs": [],
      "source": [
        "from wordcloud import WordCloud\n",
        "import matplotlib.pyplot as plt\n",
        "from collections import Counter\n",
        "from konlpy.tag import Okt\n",
        "from PIL import Image\n",
        "import numpy as np"
      ]
    },
    {
      "cell_type": "code",
      "execution_count": 31,
      "metadata": {},
      "outputs": [],
      "source": [
        "train_data['뉴스기사 레이블']=train_data['기사제목']"
      ]
    },
    {
      "cell_type": "markdown",
      "metadata": {},
      "source": [
        "뉴스기사 레이블 시키기"
      ]
    },
    {
      "cell_type": "code",
      "execution_count": 32,
      "metadata": {},
      "outputs": [],
      "source": [
        "# plor=\n",
        "# a=\"|\".join(plor)\n",
        "keywords= ['폐지', '격성', '퇴출', '실질', '심사', '속개', '이의', '심의', '거절']\n",
        "for i in range(len(train_data)):\n",
        "    if any(keyword in str(train_data[\"뉴스기사본문전처리\"][i]) for keyword in keywords)==True:\n",
        "        train_data['뉴스기사 레이블'][i]=1\n",
        "    else:\n",
        "        train_data['뉴스기사 레이블'][i]=0"
      ]
    },
    {
      "cell_type": "markdown",
      "metadata": {},
      "source": [
        "뉴스기사 레이블 1인것 합친 수"
      ]
    },
    {
      "cell_type": "code",
      "execution_count": 33,
      "metadata": {},
      "outputs": [
        {
          "data": {
            "text/plain": [
              "665"
            ]
          },
          "execution_count": 33,
          "metadata": {},
          "output_type": "execute_result"
        }
      ],
      "source": [
        "train_data['뉴스기사 레이블'].sum()"
      ]
    },
    {
      "cell_type": "code",
      "execution_count": 34,
      "metadata": {},
      "outputs": [
        {
          "data": {
            "text/html": [
              "<div>\n",
              "<style scoped>\n",
              "    .dataframe tbody tr th:only-of-type {\n",
              "        vertical-align: middle;\n",
              "    }\n",
              "\n",
              "    .dataframe tbody tr th {\n",
              "        vertical-align: top;\n",
              "    }\n",
              "\n",
              "    .dataframe thead th {\n",
              "        text-align: right;\n",
              "    }\n",
              "</style>\n",
              "<table border=\"1\" class=\"dataframe\">\n",
              "  <thead>\n",
              "    <tr style=\"text-align: right;\">\n",
              "      <th></th>\n",
              "      <th>기업</th>\n",
              "      <th>기사발행일</th>\n",
              "      <th>기사제목</th>\n",
              "      <th>뉴스기사본문</th>\n",
              "      <th>뉴스기사본문전처리</th>\n",
              "      <th>뉴스기사 레이블</th>\n",
              "    </tr>\n",
              "  </thead>\n",
              "  <tbody>\n",
              "    <tr>\n",
              "      <th>0</th>\n",
              "      <td>네이쳐글로벌</td>\n",
              "      <td>2010.08.16. 오후 5:21</td>\n",
              "      <td>네이쳐글로벌, 반기검토의견 \"의견거절'…거래정지</td>\n",
              "      <td>네이쳐글로벌는 16일 반기 검토 의견이 \"의견거절\"로 관리종목 지정 사유가 발생했다...</td>\n",
              "      <td>네이쳐글로벌는 일 반기 검토 의견이 의견거절로 관리종목 지정 사유가 발생했다고 공시...</td>\n",
              "      <td>0</td>\n",
              "    </tr>\n",
              "    <tr>\n",
              "      <th>1</th>\n",
              "      <td>네이쳐글로벌</td>\n",
              "      <td>2010.07.15. 오후 6:46</td>\n",
              "      <td>네이쳐글로벌 신용등급 `CC`로 두단계 하향</td>\n",
              "      <td>[이데일리 이태호 기자] 네이쳐글로벌(088020)의 신용등급을 기존 `B-(부정적...</td>\n",
              "      <td>네이쳐글로벌의 신용등급을 기존 에서 으로 하향 조정한다고 한신정평가가 일 밝혔다....</td>\n",
              "      <td>0</td>\n",
              "    </tr>\n",
              "    <tr>\n",
              "      <th>2</th>\n",
              "      <td>네이쳐글로벌</td>\n",
              "      <td>2010.06.03. 오후 5:06</td>\n",
              "      <td>네이쳐글로벌, 20대 1 감자 실시</td>\n",
              "      <td>[이데일리 안재만 기자] 네이쳐글로벌(088020)은 20대 1 감자를 결의했다고 ...</td>\n",
              "      <td>네이쳐글로벌은 대  감자를 결의했다고 일 공시했다.감자 주주총회일은 다음달 일 감...</td>\n",
              "      <td>0</td>\n",
              "    </tr>\n",
              "    <tr>\n",
              "      <th>3</th>\n",
              "      <td>네이쳐글로벌</td>\n",
              "      <td>2010.05.24. 오전 10:41</td>\n",
              "      <td>&lt;생생코스닥&gt; 네이쳐글로벌 3거래일 연속 하한가</td>\n",
              "      <td>네이쳐글로벌(088020)이 연 3거래일 연속 하한가를 기록하며 주가가 200원 선...</td>\n",
              "      <td>네이쳐글로벌이 연 거래일 연속 하한가를 기록하며 주가가 원 선　마저 위협 받고 있다...</td>\n",
              "      <td>0</td>\n",
              "    </tr>\n",
              "    <tr>\n",
              "      <th>4</th>\n",
              "      <td>네이쳐글로벌</td>\n",
              "      <td>2010.05.18. 오후 1:23</td>\n",
              "      <td>네이쳐글로벌 \"생수시장 진출 하반기 150억 계획\"</td>\n",
              "      <td>[머니투데이 김경원 기자]네이쳐글로벌(대표 박지우)은 대규모 생수회사를 자산양수도 ...</td>\n",
              "      <td>네이쳐글로벌은 대규모 생수회사를 자산양수도 방식으로 인수 추진 중이라고 일 밝혔다....</td>\n",
              "      <td>0</td>\n",
              "    </tr>\n",
              "    <tr>\n",
              "      <th>...</th>\n",
              "      <td>...</td>\n",
              "      <td>...</td>\n",
              "      <td>...</td>\n",
              "      <td>...</td>\n",
              "      <td>...</td>\n",
              "      <td>...</td>\n",
              "    </tr>\n",
              "    <tr>\n",
              "      <th>2697</th>\n",
              "      <td>코썬바이오</td>\n",
              "      <td>2020.01.09. 오전 10:07</td>\n",
              "      <td>코썬바이오, 상한가 진입... 이평선 역배열 상황에서 반등 시도</td>\n",
              "      <td>[한국경제TV 라이온봇 기자]\\n코썬바이오\\n\\n\\n9일 오전 코썬바이오(20499...</td>\n",
              "      <td>코썬바이오일 오전 코썬바이오가 상한가를 기록했다. 코썬바이오는 균형생식환 황찬고 등...</td>\n",
              "      <td>0</td>\n",
              "    </tr>\n",
              "    <tr>\n",
              "      <th>2698</th>\n",
              "      <td>코썬바이오</td>\n",
              "      <td>2020.03.04. 오후 5:45</td>\n",
              "      <td>코썬바이오, 거래소에 개선계획서 제출</td>\n",
              "      <td>[이데일리 유현욱 기자] 한국거래소 코스닥시장본부는 4일 상장적격성 실질심사 대상으...</td>\n",
              "      <td>한국거래소 코스닥시장본부는 일 상장적격성 실질심사 대상으로 결정된 코썬바이오가 개...</td>\n",
              "      <td>1</td>\n",
              "    </tr>\n",
              "    <tr>\n",
              "      <th>2699</th>\n",
              "      <td>코썬바이오</td>\n",
              "      <td>2020.01.10. 오후 6:42</td>\n",
              "      <td>코썬바이오 거래정지</td>\n",
              "      <td>한국거래소는 코스닥 상장기업인 코썬바이오에 대해 1월 13일부터 상장적격성 실질심사...</td>\n",
              "      <td>한국거래소는 코스닥 상장기업인 코썬바이오에 대해 월 일부터 상장적격성 실질심사 대상...</td>\n",
              "      <td>0</td>\n",
              "    </tr>\n",
              "    <tr>\n",
              "      <th>2700</th>\n",
              "      <td>코썬바이오</td>\n",
              "      <td>2019.12.27. 오후 6:13</td>\n",
              "      <td>코썬바이오, 10억원 규모 유상증자 결정</td>\n",
              "      <td>[이데일리 김윤지 기자] 코썬바이오(204990)는 운영자금 10억원을 조달하기 위...</td>\n",
              "      <td>코썬바이오는 운영자금 억원을 조달하기 위해 제자배정증자 방식의 유상증자를 결정했다...</td>\n",
              "      <td>0</td>\n",
              "    </tr>\n",
              "    <tr>\n",
              "      <th>2701</th>\n",
              "      <td>코썬바이오</td>\n",
              "      <td>2019.12.20. 오후 6:05</td>\n",
              "      <td>코썬바이오 거래정지</td>\n",
              "      <td>한국거래소는 코스닥 상장기업인 코썬바이오에 대해 12월 23일 하루동안 보통주에 대...</td>\n",
              "      <td>한국거래소는 코스닥 상장기업인 코썬바이오에 대해 월 일 하루동안 보통주에 대한 주권...</td>\n",
              "      <td>0</td>\n",
              "    </tr>\n",
              "  </tbody>\n",
              "</table>\n",
              "<p>2702 rows × 6 columns</p>\n",
              "</div>"
            ],
            "text/plain": [
              "          기업                 기사발행일                                 기사제목  \\\n",
              "0     네이쳐글로벌   2010.08.16. 오후 5:21           네이쳐글로벌, 반기검토의견 \"의견거절'…거래정지   \n",
              "1     네이쳐글로벌   2010.07.15. 오후 6:46             네이쳐글로벌 신용등급 `CC`로 두단계 하향   \n",
              "2     네이쳐글로벌   2010.06.03. 오후 5:06                  네이쳐글로벌, 20대 1 감자 실시   \n",
              "3     네이쳐글로벌  2010.05.24. 오전 10:41           <생생코스닥> 네이쳐글로벌 3거래일 연속 하한가   \n",
              "4     네이쳐글로벌   2010.05.18. 오후 1:23         네이쳐글로벌 \"생수시장 진출 하반기 150억 계획\"   \n",
              "...      ...                   ...                                  ...   \n",
              "2697   코썬바이오  2020.01.09. 오전 10:07  코썬바이오, 상한가 진입... 이평선 역배열 상황에서 반등 시도   \n",
              "2698   코썬바이오   2020.03.04. 오후 5:45                 코썬바이오, 거래소에 개선계획서 제출   \n",
              "2699   코썬바이오   2020.01.10. 오후 6:42                           코썬바이오 거래정지   \n",
              "2700   코썬바이오   2019.12.27. 오후 6:13               코썬바이오, 10억원 규모 유상증자 결정   \n",
              "2701   코썬바이오   2019.12.20. 오후 6:05                           코썬바이오 거래정지   \n",
              "\n",
              "                                                 뉴스기사본문  \\\n",
              "0     네이쳐글로벌는 16일 반기 검토 의견이 \"의견거절\"로 관리종목 지정 사유가 발생했다...   \n",
              "1     [이데일리 이태호 기자] 네이쳐글로벌(088020)의 신용등급을 기존 `B-(부정적...   \n",
              "2     [이데일리 안재만 기자] 네이쳐글로벌(088020)은 20대 1 감자를 결의했다고 ...   \n",
              "3     네이쳐글로벌(088020)이 연 3거래일 연속 하한가를 기록하며 주가가 200원 선...   \n",
              "4     [머니투데이 김경원 기자]네이쳐글로벌(대표 박지우)은 대규모 생수회사를 자산양수도 ...   \n",
              "...                                                 ...   \n",
              "2697  [한국경제TV 라이온봇 기자]\\n코썬바이오\\n\\n\\n9일 오전 코썬바이오(20499...   \n",
              "2698  [이데일리 유현욱 기자] 한국거래소 코스닥시장본부는 4일 상장적격성 실질심사 대상으...   \n",
              "2699  한국거래소는 코스닥 상장기업인 코썬바이오에 대해 1월 13일부터 상장적격성 실질심사...   \n",
              "2700  [이데일리 김윤지 기자] 코썬바이오(204990)는 운영자금 10억원을 조달하기 위...   \n",
              "2701  한국거래소는 코스닥 상장기업인 코썬바이오에 대해 12월 23일 하루동안 보통주에 대...   \n",
              "\n",
              "                                              뉴스기사본문전처리 뉴스기사 레이블  \n",
              "0     네이쳐글로벌는 일 반기 검토 의견이 의견거절로 관리종목 지정 사유가 발생했다고 공시...        0  \n",
              "1      네이쳐글로벌의 신용등급을 기존 에서 으로 하향 조정한다고 한신정평가가 일 밝혔다....        0  \n",
              "2      네이쳐글로벌은 대  감자를 결의했다고 일 공시했다.감자 주주총회일은 다음달 일 감...        0  \n",
              "3     네이쳐글로벌이 연 거래일 연속 하한가를 기록하며 주가가 원 선　마저 위협 받고 있다...        0  \n",
              "4     네이쳐글로벌은 대규모 생수회사를 자산양수도 방식으로 인수 추진 중이라고 일 밝혔다....        0  \n",
              "...                                                 ...      ...  \n",
              "2697  코썬바이오일 오전 코썬바이오가 상한가를 기록했다. 코썬바이오는 균형생식환 황찬고 등...        0  \n",
              "2698   한국거래소 코스닥시장본부는 일 상장적격성 실질심사 대상으로 결정된 코썬바이오가 개...        1  \n",
              "2699  한국거래소는 코스닥 상장기업인 코썬바이오에 대해 월 일부터 상장적격성 실질심사 대상...        0  \n",
              "2700   코썬바이오는 운영자금 억원을 조달하기 위해 제자배정증자 방식의 유상증자를 결정했다...        0  \n",
              "2701  한국거래소는 코스닥 상장기업인 코썬바이오에 대해 월 일 하루동안 보통주에 대한 주권...        0  \n",
              "\n",
              "[2702 rows x 6 columns]"
            ]
          },
          "execution_count": 34,
          "metadata": {},
          "output_type": "execute_result"
        }
      ],
      "source": [
        "train_data"
      ]
    },
    {
      "cell_type": "code",
      "execution_count": 39,
      "metadata": {},
      "outputs": [
        {
          "data": {
            "text/plain": [
              "127"
            ]
          },
          "execution_count": 39,
          "metadata": {},
          "output_type": "execute_result"
        }
      ],
      "source": [
        "data_df=train_data.groupby([\"기업\"]).sum()\n",
        "data_df\n",
        "# data_df[\"부도기사 비율\"]=data_df[\"뉴스기사 레이블\"]\n",
        "len(data_df[\"뉴스기사 레이블\"])"
      ]
    },
    {
      "cell_type": "code",
      "execution_count": 36,
      "metadata": {},
      "outputs": [
        {
          "data": {
            "text/html": [
              "<div>\n",
              "<style scoped>\n",
              "    .dataframe tbody tr th:only-of-type {\n",
              "        vertical-align: middle;\n",
              "    }\n",
              "\n",
              "    .dataframe tbody tr th {\n",
              "        vertical-align: top;\n",
              "    }\n",
              "\n",
              "    .dataframe thead th {\n",
              "        text-align: right;\n",
              "    }\n",
              "</style>\n",
              "<table border=\"1\" class=\"dataframe\">\n",
              "  <thead>\n",
              "    <tr style=\"text-align: right;\">\n",
              "      <th></th>\n",
              "      <th>기사발행일</th>\n",
              "      <th>기사제목</th>\n",
              "      <th>뉴스기사본문</th>\n",
              "      <th>뉴스기사본문전처리</th>\n",
              "      <th>뉴스기사 수</th>\n",
              "    </tr>\n",
              "    <tr>\n",
              "      <th>기업</th>\n",
              "      <th></th>\n",
              "      <th></th>\n",
              "      <th></th>\n",
              "      <th></th>\n",
              "      <th></th>\n",
              "    </tr>\n",
              "  </thead>\n",
              "  <tbody>\n",
              "    <tr>\n",
              "      <th>KCW</th>\n",
              "      <td>14</td>\n",
              "      <td>14</td>\n",
              "      <td>14</td>\n",
              "      <td>14</td>\n",
              "      <td>14</td>\n",
              "    </tr>\n",
              "    <tr>\n",
              "      <th>글로웍스</th>\n",
              "      <td>24</td>\n",
              "      <td>24</td>\n",
              "      <td>24</td>\n",
              "      <td>24</td>\n",
              "      <td>24</td>\n",
              "    </tr>\n",
              "    <tr>\n",
              "      <th>나노트로닉스</th>\n",
              "      <td>10</td>\n",
              "      <td>10</td>\n",
              "      <td>10</td>\n",
              "      <td>10</td>\n",
              "      <td>10</td>\n",
              "    </tr>\n",
              "    <tr>\n",
              "      <th>나이스메탈</th>\n",
              "      <td>27</td>\n",
              "      <td>27</td>\n",
              "      <td>27</td>\n",
              "      <td>27</td>\n",
              "      <td>27</td>\n",
              "    </tr>\n",
              "    <tr>\n",
              "      <th>네스테크</th>\n",
              "      <td>29</td>\n",
              "      <td>29</td>\n",
              "      <td>29</td>\n",
              "      <td>29</td>\n",
              "      <td>29</td>\n",
              "    </tr>\n",
              "    <tr>\n",
              "      <th>...</th>\n",
              "      <td>...</td>\n",
              "      <td>...</td>\n",
              "      <td>...</td>\n",
              "      <td>...</td>\n",
              "      <td>...</td>\n",
              "    </tr>\n",
              "    <tr>\n",
              "      <th>한와이어리스</th>\n",
              "      <td>34</td>\n",
              "      <td>34</td>\n",
              "      <td>34</td>\n",
              "      <td>34</td>\n",
              "      <td>34</td>\n",
              "    </tr>\n",
              "    <tr>\n",
              "      <th>해피드림</th>\n",
              "      <td>28</td>\n",
              "      <td>28</td>\n",
              "      <td>28</td>\n",
              "      <td>28</td>\n",
              "      <td>28</td>\n",
              "    </tr>\n",
              "    <tr>\n",
              "      <th>핸디소프트</th>\n",
              "      <td>12</td>\n",
              "      <td>12</td>\n",
              "      <td>12</td>\n",
              "      <td>12</td>\n",
              "      <td>12</td>\n",
              "    </tr>\n",
              "    <tr>\n",
              "      <th>휴먼텍코리아</th>\n",
              "      <td>15</td>\n",
              "      <td>15</td>\n",
              "      <td>15</td>\n",
              "      <td>15</td>\n",
              "      <td>15</td>\n",
              "    </tr>\n",
              "    <tr>\n",
              "      <th>히스토스템</th>\n",
              "      <td>29</td>\n",
              "      <td>29</td>\n",
              "      <td>29</td>\n",
              "      <td>29</td>\n",
              "      <td>29</td>\n",
              "    </tr>\n",
              "  </tbody>\n",
              "</table>\n",
              "<p>127 rows × 5 columns</p>\n",
              "</div>"
            ],
            "text/plain": [
              "        기사발행일  기사제목  뉴스기사본문  뉴스기사본문전처리  뉴스기사 수\n",
              "기업                                            \n",
              "KCW        14    14      14         14      14\n",
              "글로웍스       24    24      24         24      24\n",
              "나노트로닉스     10    10      10         10      10\n",
              "나이스메탈      27    27      27         27      27\n",
              "네스테크       29    29      29         29      29\n",
              "...       ...   ...     ...        ...     ...\n",
              "한와이어리스     34    34      34         34      34\n",
              "해피드림       28    28      28         28      28\n",
              "핸디소프트      12    12      12         12      12\n",
              "휴먼텍코리아     15    15      15         15      15\n",
              "히스토스템      29    29      29         29      29\n",
              "\n",
              "[127 rows x 5 columns]"
            ]
          },
          "execution_count": 36,
          "metadata": {},
          "output_type": "execute_result"
        }
      ],
      "source": [
        "\n",
        "count_df=train_data.groupby([\"기업\"]).count()\n",
        "count_df.columns=['기사발행일', '기사제목', '뉴스기사본문', '뉴스기사본문전처리', '뉴스기사 수']\n",
        "count_df"
      ]
    },
    {
      "cell_type": "code",
      "execution_count": 37,
      "metadata": {},
      "outputs": [],
      "source": [
        "data_df[\"부도기사 비율\"]=round(data_df[\"뉴스기사 레이블\"]/count_df[\"뉴스기사 수\"]*100,2)\n",
        "final_df=pd.DataFrame(data_df[\"부도기사 비율\"])\n",
        "final_df.to_csv(\"상폐기업_부도기사 비율.csv\",encoding=\"utf-8-sig\")"
      ]
    },
    {
      "cell_type": "markdown",
      "metadata": {},
      "source": [
        "들어간 기사 수 개수 세기"
      ]
    },
    {
      "cell_type": "code",
      "execution_count": 38,
      "metadata": {},
      "outputs": [],
      "source": [
        "# plor=[\"폐지\",\"퇴출\",\"기로\",\"벼랑\"]\n",
        "# a=\"|\".join(plor)\n",
        "# df=train_data[train_data['뉴스기사본문전처리'].str.contains(a)]\n",
        "# df"
      ]
    },
    {
      "cell_type": "markdown",
      "metadata": {},
      "source": [
        "s"
      ]
    }
  ],
  "metadata": {
    "accelerator": "GPU",
    "colab": {
      "name": "nlp_1003_eng and kore word2vec.ipynb",
      "private_outputs": true,
      "provenance": []
    },
    "kernelspec": {
      "display_name": "Python 3.8.8rc1 64-bit",
      "language": "python",
      "name": "python3"
    },
    "language_info": {
      "codemirror_mode": {
        "name": "ipython",
        "version": 3
      },
      "file_extension": ".py",
      "mimetype": "text/x-python",
      "name": "python",
      "nbconvert_exporter": "python",
      "pygments_lexer": "ipython3",
      "version": "3.8.8rc1"
    },
    "vscode": {
      "interpreter": {
        "hash": "722b21b25ff779b5f304eaf92f77bc0ad07367ec915dcd732581241fa9ae9a7c"
      }
    }
  },
  "nbformat": 4,
  "nbformat_minor": 0
}
