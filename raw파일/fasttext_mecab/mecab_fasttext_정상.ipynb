{
  "cells": [
    {
      "cell_type": "markdown",
      "metadata": {
        "id": "-Oy1dS1zvduy"
      },
      "source": [
        "한국어 Word2Vec 만들기(네이버 뉴스)"
      ]
    },
    {
      "cell_type": "code",
      "execution_count": 1,
      "metadata": {
        "id": "tq9sU5lCvkOk"
      },
      "outputs": [],
      "source": [
        "import pandas as pd\n",
        "import matplotlib.pyplot as plt\n",
        "import urllib.request\n",
        "import re\n",
        "from gensim.models import FastText\n",
        "from eunjeon import Mecab"
      ]
    },
    {
      "cell_type": "code",
      "execution_count": 2,
      "metadata": {
        "id": "TVx7eTAzwVHD"
      },
      "outputs": [],
      "source": [
        "# 상폐기업 = pd.read_csv('./data/상폐기업뉴스.csv')\n",
        "정상기업 = pd.read_csv('./정상_새로합친거.csv',index_col=0)\n"
      ]
    },
    {
      "cell_type": "code",
      "execution_count": 3,
      "metadata": {},
      "outputs": [],
      "source": [
        "data=정상기업\n",
        "# data=pd.concat([상폐기업, 정상기업], axis = 0)\n",
        "# data=pd.concat([상폐기업, 정상기업], axis = 0)"
      ]
    },
    {
      "cell_type": "code",
      "execution_count": 14,
      "metadata": {
        "id": "-Ctv17xtwdsQ"
      },
      "outputs": [],
      "source": [
        "data.reset_index(inplace=True)"
      ]
    },
    {
      "cell_type": "code",
      "execution_count": 17,
      "metadata": {},
      "outputs": [],
      "source": [
        "data.drop(\"index\",inplace=True,axis=1)"
      ]
    },
    {
      "cell_type": "code",
      "execution_count": 18,
      "metadata": {},
      "outputs": [
        {
          "data": {
            "text/html": [
              "<div>\n",
              "<style scoped>\n",
              "    .dataframe tbody tr th:only-of-type {\n",
              "        vertical-align: middle;\n",
              "    }\n",
              "\n",
              "    .dataframe tbody tr th {\n",
              "        vertical-align: top;\n",
              "    }\n",
              "\n",
              "    .dataframe thead th {\n",
              "        text-align: right;\n",
              "    }\n",
              "</style>\n",
              "<table border=\"1\" class=\"dataframe\">\n",
              "  <thead>\n",
              "    <tr style=\"text-align: right;\">\n",
              "      <th></th>\n",
              "      <th>기업</th>\n",
              "      <th>기사발행일</th>\n",
              "      <th>기사제목</th>\n",
              "      <th>뉴스기사본문전처리</th>\n",
              "      <th>뉴스기사본문</th>\n",
              "    </tr>\n",
              "  </thead>\n",
              "  <tbody>\n",
              "    <tr>\n",
              "      <th>0</th>\n",
              "      <td>씨제이이엔엠</td>\n",
              "      <td>2011.08.16. 오전 9:21</td>\n",
              "      <td>코스닥, IT부품주 '훨훨'</td>\n",
              "      <td>일 코스닥 시장에서는 부품주들이 강세를 보이고 있다. 특히 구글의 모토로라 인수 소...</td>\n",
              "      <td>NaN</td>\n",
              "    </tr>\n",
              "    <tr>\n",
              "      <th>1</th>\n",
              "      <td>씨제이이엔엠</td>\n",
              "      <td>2011.06.08. 오전 7:58</td>\n",
              "      <td>장마감후 주요 종목뉴스-7일</td>\n",
              "      <td>코스피 시장는 법인청산에 따라 푸드서비스를 계열사에서 제외한다고 일 공시했다. 푸드...</td>\n",
              "      <td>NaN</td>\n",
              "    </tr>\n",
              "    <tr>\n",
              "      <th>2</th>\n",
              "      <td>씨제이이엔엠</td>\n",
              "      <td>2011.06.07. 오후 5:31</td>\n",
              "      <td>CJ, CJ푸드서비스 계열사서 제외</td>\n",
              "      <td>는 법인청산에 따라 푸드서비스를 계열사에서 제외한다고 일 공시했다. 푸드서비스의 자...</td>\n",
              "      <td>NaN</td>\n",
              "    </tr>\n",
              "    <tr>\n",
              "      <th>3</th>\n",
              "      <td>씨제이이엔엠</td>\n",
              "      <td>2011.03.12. 오전 10:01</td>\n",
              "      <td>현대카드ㆍ현대캐피탈, 사업성공 프로그램 후원</td>\n",
              "      <td>현대카드현대캐피탈은 성공을 향해 열정적으로 도전하는 개인사업자들의 이야기를 담은 리...</td>\n",
              "      <td>NaN</td>\n",
              "    </tr>\n",
              "    <tr>\n",
              "      <th>4</th>\n",
              "      <td>씨제이이엔엠</td>\n",
              "      <td>2011.03.11. 오후 4:21</td>\n",
              "      <td>\"27일까지 사업성공 스토리에 도전하세요\"</td>\n",
              "      <td>현대카드현대캐피탈이 성공을 향해 열정적으로 도전하는 개인사업자들의 이야기를 담은 리...</td>\n",
              "      <td>NaN</td>\n",
              "    </tr>\n",
              "    <tr>\n",
              "      <th>...</th>\n",
              "      <td>...</td>\n",
              "      <td>...</td>\n",
              "      <td>...</td>\n",
              "      <td>...</td>\n",
              "      <td>...</td>\n",
              "    </tr>\n",
              "    <tr>\n",
              "      <th>6741</th>\n",
              "      <td>에이치엘비</td>\n",
              "      <td>2020.09.22. 오전 5:20</td>\n",
              "      <td>에이치엘비 리보세라닙, 글로벌 항암제로 성공 가능성↑</td>\n",
              "      <td>에이치엘비가 유럽종양학회에서 리보세라닙의 가치를 입증했다./사진에이치엘비에이치엘비의...</td>\n",
              "      <td>에이치엘비가 유럽종양학회에서 리보세라닙의 가치를 입증했다./사진=에이치엘비\\n에이치...</td>\n",
              "    </tr>\n",
              "    <tr>\n",
              "      <th>6742</th>\n",
              "      <td>에이치엘비</td>\n",
              "      <td>2020.09.21. 오후 4:18</td>\n",
              "      <td>에이치엘비, ESMO서 '리보세라닙' 관련 논문 23개 발표</td>\n",
              "      <td>에이치엘비  김제이 기자  에이치엘비는 유럽종양학회에서 리보세라닙 관련 논문이 개...</td>\n",
              "      <td>[서울=뉴시스] 에이치엘비 CI\\n\\n\\n[서울=뉴시스] 김제이 기자 = 에이치엘비...</td>\n",
              "    </tr>\n",
              "    <tr>\n",
              "      <th>6743</th>\n",
              "      <td>에이치엘비</td>\n",
              "      <td>2020.12.04. 오후 4:15</td>\n",
              "      <td>에스퓨얼셀, 에이치엘비와 수소선박 공동개발 '맞손'…\"2023년 상용화 목표\"</td>\n",
              "      <td>급 수소연료전지선박 개발 협력년 수소유람선 상용화 목표설계 모듈화연료전지 전문업체 ...</td>\n",
              "      <td>[한국경제TV 김정필 IT벤처팀장]\\n\\n\\n-168·252kW급 수소연료전지선박 ...</td>\n",
              "    </tr>\n",
              "    <tr>\n",
              "      <th>6744</th>\n",
              "      <td>에이치엘비</td>\n",
              "      <td>2020.12.30. 오후 5:45</td>\n",
              "      <td>코스닥, 23년만에 최고치…시총도 지각변동</td>\n",
              "      <td>코스닥지수 지난해 말 대비 . 상승개인 비중 .로 확대거래량 급등한국거래소는 일 년...</td>\n",
              "      <td>코스닥지수, 지난해 말 대비 44.6% 상승\\n개인 비중 88.2%로 확대…거래량 ...</td>\n",
              "    </tr>\n",
              "    <tr>\n",
              "      <th>6745</th>\n",
              "      <td>에이치엘비</td>\n",
              "      <td>2020.12.22. 오전 9:17</td>\n",
              "      <td>리보세라닙, 병용임상서 담낭암·폐암 ‘완전 관해’ 관찰</td>\n",
              "      <td>에이치엘비  에이치엘비는 중국에서 수행된 리보세라닙과 캄렐리주맙 연구 임상 결과 비...</td>\n",
              "      <td>에이치엘비 CI\\n\\n\\n[파이낸셜뉴스] 에이치엘비는 중국에서 수행된 리보세라닙(중...</td>\n",
              "    </tr>\n",
              "  </tbody>\n",
              "</table>\n",
              "<p>6746 rows × 5 columns</p>\n",
              "</div>"
            ],
            "text/plain": [
              "          기업                 기사발행일  \\\n",
              "0     씨제이이엔엠   2011.08.16. 오전 9:21   \n",
              "1     씨제이이엔엠   2011.06.08. 오전 7:58   \n",
              "2     씨제이이엔엠   2011.06.07. 오후 5:31   \n",
              "3     씨제이이엔엠  2011.03.12. 오전 10:01   \n",
              "4     씨제이이엔엠   2011.03.11. 오후 4:21   \n",
              "...      ...                   ...   \n",
              "6741   에이치엘비   2020.09.22. 오전 5:20   \n",
              "6742   에이치엘비   2020.09.21. 오후 4:18   \n",
              "6743   에이치엘비   2020.12.04. 오후 4:15   \n",
              "6744   에이치엘비   2020.12.30. 오후 5:45   \n",
              "6745   에이치엘비   2020.12.22. 오전 9:17   \n",
              "\n",
              "                                             기사제목  \\\n",
              "0                                 코스닥, IT부품주 '훨훨'   \n",
              "1                                 장마감후 주요 종목뉴스-7일   \n",
              "2                             CJ, CJ푸드서비스 계열사서 제외   \n",
              "3                        현대카드ㆍ현대캐피탈, 사업성공 프로그램 후원   \n",
              "4                         \"27일까지 사업성공 스토리에 도전하세요\"   \n",
              "...                                           ...   \n",
              "6741                에이치엘비 리보세라닙, 글로벌 항암제로 성공 가능성↑   \n",
              "6742            에이치엘비, ESMO서 '리보세라닙' 관련 논문 23개 발표   \n",
              "6743  에스퓨얼셀, 에이치엘비와 수소선박 공동개발 '맞손'…\"2023년 상용화 목표\"   \n",
              "6744                      코스닥, 23년만에 최고치…시총도 지각변동   \n",
              "6745               리보세라닙, 병용임상서 담낭암·폐암 ‘완전 관해’ 관찰   \n",
              "\n",
              "                                              뉴스기사본문전처리  \\\n",
              "0     일 코스닥 시장에서는 부품주들이 강세를 보이고 있다. 특히 구글의 모토로라 인수 소...   \n",
              "1     코스피 시장는 법인청산에 따라 푸드서비스를 계열사에서 제외한다고 일 공시했다. 푸드...   \n",
              "2     는 법인청산에 따라 푸드서비스를 계열사에서 제외한다고 일 공시했다. 푸드서비스의 자...   \n",
              "3     현대카드현대캐피탈은 성공을 향해 열정적으로 도전하는 개인사업자들의 이야기를 담은 리...   \n",
              "4     현대카드현대캐피탈이 성공을 향해 열정적으로 도전하는 개인사업자들의 이야기를 담은 리...   \n",
              "...                                                 ...   \n",
              "6741  에이치엘비가 유럽종양학회에서 리보세라닙의 가치를 입증했다./사진에이치엘비에이치엘비의...   \n",
              "6742   에이치엘비  김제이 기자  에이치엘비는 유럽종양학회에서 리보세라닙 관련 논문이 개...   \n",
              "6743  급 수소연료전지선박 개발 협력년 수소유람선 상용화 목표설계 모듈화연료전지 전문업체 ...   \n",
              "6744  코스닥지수 지난해 말 대비 . 상승개인 비중 .로 확대거래량 급등한국거래소는 일 년...   \n",
              "6745  에이치엘비  에이치엘비는 중국에서 수행된 리보세라닙과 캄렐리주맙 연구 임상 결과 비...   \n",
              "\n",
              "                                                 뉴스기사본문  \n",
              "0                                                   NaN  \n",
              "1                                                   NaN  \n",
              "2                                                   NaN  \n",
              "3                                                   NaN  \n",
              "4                                                   NaN  \n",
              "...                                                 ...  \n",
              "6741  에이치엘비가 유럽종양학회에서 리보세라닙의 가치를 입증했다./사진=에이치엘비\\n에이치...  \n",
              "6742  [서울=뉴시스] 에이치엘비 CI\\n\\n\\n[서울=뉴시스] 김제이 기자 = 에이치엘비...  \n",
              "6743  [한국경제TV 김정필 IT벤처팀장]\\n\\n\\n-168·252kW급 수소연료전지선박 ...  \n",
              "6744  코스닥지수, 지난해 말 대비 44.6% 상승\\n개인 비중 88.2%로 확대…거래량 ...  \n",
              "6745  에이치엘비 CI\\n\\n\\n[파이낸셜뉴스] 에이치엘비는 중국에서 수행된 리보세라닙(중...  \n",
              "\n",
              "[6746 rows x 5 columns]"
            ]
          },
          "execution_count": 18,
          "metadata": {},
          "output_type": "execute_result"
        }
      ],
      "source": [
        "data"
      ]
    },
    {
      "cell_type": "code",
      "execution_count": 5,
      "metadata": {},
      "outputs": [],
      "source": [
        "time=data[\"기사발행일\"].str.split('.').tolist()\n",
        "time_df=pd.DataFrame(time,columns=['년','월','일','시간'])\n",
        "time_df.drop(\"시간\",axis=1,inplace=True)"
      ]
    },
    {
      "cell_type": "code",
      "execution_count": 6,
      "metadata": {},
      "outputs": [
        {
          "data": {
            "text/html": [
              "<div>\n",
              "<style scoped>\n",
              "    .dataframe tbody tr th:only-of-type {\n",
              "        vertical-align: middle;\n",
              "    }\n",
              "\n",
              "    .dataframe tbody tr th {\n",
              "        vertical-align: top;\n",
              "    }\n",
              "\n",
              "    .dataframe thead th {\n",
              "        text-align: right;\n",
              "    }\n",
              "</style>\n",
              "<table border=\"1\" class=\"dataframe\">\n",
              "  <thead>\n",
              "    <tr style=\"text-align: right;\">\n",
              "      <th></th>\n",
              "      <th>년</th>\n",
              "      <th>월</th>\n",
              "      <th>일</th>\n",
              "    </tr>\n",
              "  </thead>\n",
              "  <tbody>\n",
              "    <tr>\n",
              "      <th>0</th>\n",
              "      <td>2011</td>\n",
              "      <td>08</td>\n",
              "      <td>16</td>\n",
              "    </tr>\n",
              "    <tr>\n",
              "      <th>1</th>\n",
              "      <td>2011</td>\n",
              "      <td>06</td>\n",
              "      <td>08</td>\n",
              "    </tr>\n",
              "    <tr>\n",
              "      <th>2</th>\n",
              "      <td>2011</td>\n",
              "      <td>06</td>\n",
              "      <td>07</td>\n",
              "    </tr>\n",
              "    <tr>\n",
              "      <th>3</th>\n",
              "      <td>2011</td>\n",
              "      <td>03</td>\n",
              "      <td>12</td>\n",
              "    </tr>\n",
              "    <tr>\n",
              "      <th>4</th>\n",
              "      <td>2011</td>\n",
              "      <td>03</td>\n",
              "      <td>11</td>\n",
              "    </tr>\n",
              "    <tr>\n",
              "      <th>...</th>\n",
              "      <td>...</td>\n",
              "      <td>...</td>\n",
              "      <td>...</td>\n",
              "    </tr>\n",
              "    <tr>\n",
              "      <th>6741</th>\n",
              "      <td>2020</td>\n",
              "      <td>09</td>\n",
              "      <td>22</td>\n",
              "    </tr>\n",
              "    <tr>\n",
              "      <th>6742</th>\n",
              "      <td>2020</td>\n",
              "      <td>09</td>\n",
              "      <td>21</td>\n",
              "    </tr>\n",
              "    <tr>\n",
              "      <th>6743</th>\n",
              "      <td>2020</td>\n",
              "      <td>12</td>\n",
              "      <td>04</td>\n",
              "    </tr>\n",
              "    <tr>\n",
              "      <th>6744</th>\n",
              "      <td>2020</td>\n",
              "      <td>12</td>\n",
              "      <td>30</td>\n",
              "    </tr>\n",
              "    <tr>\n",
              "      <th>6745</th>\n",
              "      <td>2020</td>\n",
              "      <td>12</td>\n",
              "      <td>22</td>\n",
              "    </tr>\n",
              "  </tbody>\n",
              "</table>\n",
              "<p>6746 rows × 3 columns</p>\n",
              "</div>"
            ],
            "text/plain": [
              "         년   월   일\n",
              "0     2011  08  16\n",
              "1     2011  06  08\n",
              "2     2011  06  07\n",
              "3     2011  03  12\n",
              "4     2011  03  11\n",
              "...    ...  ..  ..\n",
              "6741  2020  09  22\n",
              "6742  2020  09  21\n",
              "6743  2020  12  04\n",
              "6744  2020  12  30\n",
              "6745  2020  12  22\n",
              "\n",
              "[6746 rows x 3 columns]"
            ]
          },
          "execution_count": 6,
          "metadata": {},
          "output_type": "execute_result"
        }
      ],
      "source": [
        "time_df"
      ]
    },
    {
      "cell_type": "code",
      "execution_count": 19,
      "metadata": {},
      "outputs": [],
      "source": [
        "time_data=pd.concat([time_df,data],axis=1)\n",
        "# time_data[\"기사제목\"].groupby(time_data[\"년\"]).count()\n",
        "# time_data"
      ]
    },
    {
      "cell_type": "code",
      "execution_count": 20,
      "metadata": {},
      "outputs": [],
      "source": [
        "# time_data.groupby([\"기업\",\"년\"]).sum()\n",
        "# time_data_1=time_data.groupby([\"기업\",\"년\"]).sum()\n",
        "# time_data_1"
      ]
    },
    {
      "cell_type": "code",
      "execution_count": 25,
      "metadata": {},
      "outputs": [],
      "source": [
        "time_data.drop(\"뉴스기사본문\",inplace=True,axis=1)"
      ]
    },
    {
      "cell_type": "code",
      "execution_count": 26,
      "metadata": {},
      "outputs": [
        {
          "data": {
            "text/html": [
              "<div>\n",
              "<style scoped>\n",
              "    .dataframe tbody tr th:only-of-type {\n",
              "        vertical-align: middle;\n",
              "    }\n",
              "\n",
              "    .dataframe tbody tr th {\n",
              "        vertical-align: top;\n",
              "    }\n",
              "\n",
              "    .dataframe thead th {\n",
              "        text-align: right;\n",
              "    }\n",
              "</style>\n",
              "<table border=\"1\" class=\"dataframe\">\n",
              "  <thead>\n",
              "    <tr style=\"text-align: right;\">\n",
              "      <th></th>\n",
              "      <th>년</th>\n",
              "      <th>월</th>\n",
              "      <th>일</th>\n",
              "      <th>기업</th>\n",
              "      <th>기사발행일</th>\n",
              "      <th>기사제목</th>\n",
              "      <th>뉴스기사본문전처리</th>\n",
              "    </tr>\n",
              "  </thead>\n",
              "  <tbody>\n",
              "    <tr>\n",
              "      <th>0</th>\n",
              "      <td>2011</td>\n",
              "      <td>08</td>\n",
              "      <td>16</td>\n",
              "      <td>씨제이이엔엠</td>\n",
              "      <td>2011.08.16. 오전 9:21</td>\n",
              "      <td>코스닥, IT부품주 '훨훨'</td>\n",
              "      <td>일 코스닥 시장에서는 부품주들이 강세를 보이고 있다. 특히 구글의 모토로라 인수 소...</td>\n",
              "    </tr>\n",
              "    <tr>\n",
              "      <th>1</th>\n",
              "      <td>2011</td>\n",
              "      <td>06</td>\n",
              "      <td>08</td>\n",
              "      <td>씨제이이엔엠</td>\n",
              "      <td>2011.06.08. 오전 7:58</td>\n",
              "      <td>장마감후 주요 종목뉴스-7일</td>\n",
              "      <td>코스피 시장는 법인청산에 따라 푸드서비스를 계열사에서 제외한다고 일 공시했다. 푸드...</td>\n",
              "    </tr>\n",
              "    <tr>\n",
              "      <th>2</th>\n",
              "      <td>2011</td>\n",
              "      <td>06</td>\n",
              "      <td>07</td>\n",
              "      <td>씨제이이엔엠</td>\n",
              "      <td>2011.06.07. 오후 5:31</td>\n",
              "      <td>CJ, CJ푸드서비스 계열사서 제외</td>\n",
              "      <td>는 법인청산에 따라 푸드서비스를 계열사에서 제외한다고 일 공시했다. 푸드서비스의 자...</td>\n",
              "    </tr>\n",
              "    <tr>\n",
              "      <th>3</th>\n",
              "      <td>2011</td>\n",
              "      <td>03</td>\n",
              "      <td>12</td>\n",
              "      <td>씨제이이엔엠</td>\n",
              "      <td>2011.03.12. 오전 10:01</td>\n",
              "      <td>현대카드ㆍ현대캐피탈, 사업성공 프로그램 후원</td>\n",
              "      <td>현대카드현대캐피탈은 성공을 향해 열정적으로 도전하는 개인사업자들의 이야기를 담은 리...</td>\n",
              "    </tr>\n",
              "    <tr>\n",
              "      <th>4</th>\n",
              "      <td>2011</td>\n",
              "      <td>03</td>\n",
              "      <td>11</td>\n",
              "      <td>씨제이이엔엠</td>\n",
              "      <td>2011.03.11. 오후 4:21</td>\n",
              "      <td>\"27일까지 사업성공 스토리에 도전하세요\"</td>\n",
              "      <td>현대카드현대캐피탈이 성공을 향해 열정적으로 도전하는 개인사업자들의 이야기를 담은 리...</td>\n",
              "    </tr>\n",
              "    <tr>\n",
              "      <th>...</th>\n",
              "      <td>...</td>\n",
              "      <td>...</td>\n",
              "      <td>...</td>\n",
              "      <td>...</td>\n",
              "      <td>...</td>\n",
              "      <td>...</td>\n",
              "      <td>...</td>\n",
              "    </tr>\n",
              "    <tr>\n",
              "      <th>6741</th>\n",
              "      <td>2020</td>\n",
              "      <td>09</td>\n",
              "      <td>22</td>\n",
              "      <td>에이치엘비</td>\n",
              "      <td>2020.09.22. 오전 5:20</td>\n",
              "      <td>에이치엘비 리보세라닙, 글로벌 항암제로 성공 가능성↑</td>\n",
              "      <td>에이치엘비가 유럽종양학회에서 리보세라닙의 가치를 입증했다./사진에이치엘비에이치엘비의...</td>\n",
              "    </tr>\n",
              "    <tr>\n",
              "      <th>6742</th>\n",
              "      <td>2020</td>\n",
              "      <td>09</td>\n",
              "      <td>21</td>\n",
              "      <td>에이치엘비</td>\n",
              "      <td>2020.09.21. 오후 4:18</td>\n",
              "      <td>에이치엘비, ESMO서 '리보세라닙' 관련 논문 23개 발표</td>\n",
              "      <td>에이치엘비  김제이 기자  에이치엘비는 유럽종양학회에서 리보세라닙 관련 논문이 개...</td>\n",
              "    </tr>\n",
              "    <tr>\n",
              "      <th>6743</th>\n",
              "      <td>2020</td>\n",
              "      <td>12</td>\n",
              "      <td>04</td>\n",
              "      <td>에이치엘비</td>\n",
              "      <td>2020.12.04. 오후 4:15</td>\n",
              "      <td>에스퓨얼셀, 에이치엘비와 수소선박 공동개발 '맞손'…\"2023년 상용화 목표\"</td>\n",
              "      <td>급 수소연료전지선박 개발 협력년 수소유람선 상용화 목표설계 모듈화연료전지 전문업체 ...</td>\n",
              "    </tr>\n",
              "    <tr>\n",
              "      <th>6744</th>\n",
              "      <td>2020</td>\n",
              "      <td>12</td>\n",
              "      <td>30</td>\n",
              "      <td>에이치엘비</td>\n",
              "      <td>2020.12.30. 오후 5:45</td>\n",
              "      <td>코스닥, 23년만에 최고치…시총도 지각변동</td>\n",
              "      <td>코스닥지수 지난해 말 대비 . 상승개인 비중 .로 확대거래량 급등한국거래소는 일 년...</td>\n",
              "    </tr>\n",
              "    <tr>\n",
              "      <th>6745</th>\n",
              "      <td>2020</td>\n",
              "      <td>12</td>\n",
              "      <td>22</td>\n",
              "      <td>에이치엘비</td>\n",
              "      <td>2020.12.22. 오전 9:17</td>\n",
              "      <td>리보세라닙, 병용임상서 담낭암·폐암 ‘완전 관해’ 관찰</td>\n",
              "      <td>에이치엘비  에이치엘비는 중국에서 수행된 리보세라닙과 캄렐리주맙 연구 임상 결과 비...</td>\n",
              "    </tr>\n",
              "  </tbody>\n",
              "</table>\n",
              "<p>6746 rows × 7 columns</p>\n",
              "</div>"
            ],
            "text/plain": [
              "         년   월   일      기업                 기사발행일  \\\n",
              "0     2011  08  16  씨제이이엔엠   2011.08.16. 오전 9:21   \n",
              "1     2011  06  08  씨제이이엔엠   2011.06.08. 오전 7:58   \n",
              "2     2011  06  07  씨제이이엔엠   2011.06.07. 오후 5:31   \n",
              "3     2011  03  12  씨제이이엔엠  2011.03.12. 오전 10:01   \n",
              "4     2011  03  11  씨제이이엔엠   2011.03.11. 오후 4:21   \n",
              "...    ...  ..  ..     ...                   ...   \n",
              "6741  2020  09  22   에이치엘비   2020.09.22. 오전 5:20   \n",
              "6742  2020  09  21   에이치엘비   2020.09.21. 오후 4:18   \n",
              "6743  2020  12  04   에이치엘비   2020.12.04. 오후 4:15   \n",
              "6744  2020  12  30   에이치엘비   2020.12.30. 오후 5:45   \n",
              "6745  2020  12  22   에이치엘비   2020.12.22. 오전 9:17   \n",
              "\n",
              "                                             기사제목  \\\n",
              "0                                 코스닥, IT부품주 '훨훨'   \n",
              "1                                 장마감후 주요 종목뉴스-7일   \n",
              "2                             CJ, CJ푸드서비스 계열사서 제외   \n",
              "3                        현대카드ㆍ현대캐피탈, 사업성공 프로그램 후원   \n",
              "4                         \"27일까지 사업성공 스토리에 도전하세요\"   \n",
              "...                                           ...   \n",
              "6741                에이치엘비 리보세라닙, 글로벌 항암제로 성공 가능성↑   \n",
              "6742            에이치엘비, ESMO서 '리보세라닙' 관련 논문 23개 발표   \n",
              "6743  에스퓨얼셀, 에이치엘비와 수소선박 공동개발 '맞손'…\"2023년 상용화 목표\"   \n",
              "6744                      코스닥, 23년만에 최고치…시총도 지각변동   \n",
              "6745               리보세라닙, 병용임상서 담낭암·폐암 ‘완전 관해’ 관찰   \n",
              "\n",
              "                                              뉴스기사본문전처리  \n",
              "0     일 코스닥 시장에서는 부품주들이 강세를 보이고 있다. 특히 구글의 모토로라 인수 소...  \n",
              "1     코스피 시장는 법인청산에 따라 푸드서비스를 계열사에서 제외한다고 일 공시했다. 푸드...  \n",
              "2     는 법인청산에 따라 푸드서비스를 계열사에서 제외한다고 일 공시했다. 푸드서비스의 자...  \n",
              "3     현대카드현대캐피탈은 성공을 향해 열정적으로 도전하는 개인사업자들의 이야기를 담은 리...  \n",
              "4     현대카드현대캐피탈이 성공을 향해 열정적으로 도전하는 개인사업자들의 이야기를 담은 리...  \n",
              "...                                                 ...  \n",
              "6741  에이치엘비가 유럽종양학회에서 리보세라닙의 가치를 입증했다./사진에이치엘비에이치엘비의...  \n",
              "6742   에이치엘비  김제이 기자  에이치엘비는 유럽종양학회에서 리보세라닙 관련 논문이 개...  \n",
              "6743  급 수소연료전지선박 개발 협력년 수소유람선 상용화 목표설계 모듈화연료전지 전문업체 ...  \n",
              "6744  코스닥지수 지난해 말 대비 . 상승개인 비중 .로 확대거래량 급등한국거래소는 일 년...  \n",
              "6745  에이치엘비  에이치엘비는 중국에서 수행된 리보세라닙과 캄렐리주맙 연구 임상 결과 비...  \n",
              "\n",
              "[6746 rows x 7 columns]"
            ]
          },
          "execution_count": 26,
          "metadata": {},
          "output_type": "execute_result"
        }
      ],
      "source": [
        "time_data"
      ]
    },
    {
      "cell_type": "code",
      "execution_count": 27,
      "metadata": {
        "id": "z7ZAyQXhwg1L"
      },
      "outputs": [
        {
          "name": "stdout",
          "output_type": "stream",
          "text": [
            "6746\n"
          ]
        }
      ],
      "source": [
        "print(len(time_data))  # 기사 개수 출력"
      ]
    },
    {
      "cell_type": "code",
      "execution_count": 28,
      "metadata": {
        "id": "KPIlTH_twq--"
      },
      "outputs": [
        {
          "name": "stdout",
          "output_type": "stream",
          "text": [
            "False\n"
          ]
        }
      ],
      "source": [
        "# NULL 값 존재 유무\n",
        "print(time_data.isnull().values.any())"
      ]
    },
    {
      "cell_type": "code",
      "execution_count": 29,
      "metadata": {
        "id": "f6UiCS6Rx3xz"
      },
      "outputs": [],
      "source": [
        "# 불용어 정의\n",
        "stopwords = ['의','가','이','은','들','는','좀','잘','걍','과','도','를','으로','자','에','와','한','하다']"
      ]
    },
    {
      "cell_type": "code",
      "execution_count": 30,
      "metadata": {
        "id": "QIXqxhfy_nK5"
      },
      "outputs": [],
      "source": [
        "# 형태소 분석기 mecab를 사용한 토큰화 작업 (다소 시간 소요)\n",
        "\n",
        "mecab = Mecab()\n",
        "tokenized_data = []\n",
        "output=[]\n",
        "for sentence in data['뉴스기사본문전처리']:\n",
        "    temp_X = mecab.nouns(sentence)  # 토큰화\n",
        "    temp_X = [word for word in temp_X if not word in stopwords]  # 불용어 제거\n",
        "\n",
        "    tokenized_data.append(temp_X)\n"
      ]
    },
    {
      "cell_type": "markdown",
      "metadata": {},
      "source": [
        "한글자제거"
      ]
    },
    {
      "cell_type": "code",
      "execution_count": 31,
      "metadata": {},
      "outputs": [],
      "source": [
        "remove_one_word=[]\n",
        "for j in range(len(tokenized_data)):\n",
        "    a=[x for x in tokenized_data[j] if len(x)>1]\n",
        "    remove_one_word.append(a)\n",
        "    "
      ]
    },
    {
      "cell_type": "code",
      "execution_count": null,
      "metadata": {},
      "outputs": [],
      "source": [
        "len(remove_one_word)\n",
        "list_text_1=sum(remove_one_word, [])"
      ]
    },
    {
      "cell_type": "code",
      "execution_count": null,
      "metadata": {},
      "outputs": [],
      "source": [
        "from collections import Counter"
      ]
    },
    {
      "cell_type": "code",
      "execution_count": null,
      "metadata": {},
      "outputs": [
        {
          "data": {
            "text/plain": [
              "70"
            ]
          },
          "execution_count": 50,
          "metadata": {},
          "output_type": "execute_result"
        }
      ],
      "source": [
        "횟수=Counter(list_text_1)\n",
        "횟수['폐지']\n",
        "# for i in range(len(list_text_1)):\n",
        "    \n",
        "# print(Counter(list_text_1))"
      ]
    },
    {
      "cell_type": "markdown",
      "metadata": {},
      "source": [
        "기사의 길이 및 분포 확인"
      ]
    },
    {
      "cell_type": "code",
      "execution_count": 32,
      "metadata": {
        "id": "XhJDDC2GAJWN"
      },
      "outputs": [
        {
          "name": "stdout",
          "output_type": "stream",
          "text": [
            "기사의 최대 길이 : 2042\n",
            "기사의 평균 길이 : 184.18307144974798\n"
          ]
        },
        {
          "data": {
            "image/png": "[encoded data removed]",
            "text/plain": [
              "<Figure size 432x288 with 1 Axes>"
            ]
          },
          "metadata": {
            "needs_background": "light"
          },
          "output_type": "display_data"
        }
      ],
      "source": [
        "# 기사 길이 분포 확인\n",
        "\n",
        "print('기사의 최대 길이 :',max(len(l) for l in tokenized_data))\n",
        "print('기사의 평균 길이 :',sum(map(len, tokenized_data))/len(tokenized_data))\n",
        "plt.hist([len(s) for s in tokenized_data], bins=50)\n",
        "plt.xlabel('length of samples')\n",
        "plt.ylabel('number of samples')\n",
        "plt.show();"
      ]
    },
    {
      "cell_type": "markdown",
      "metadata": {},
      "source": [
        "word2vec훈련"
      ]
    },
    {
      "cell_type": "code",
      "execution_count": 35,
      "metadata": {},
      "outputs": [],
      "source": [
        "time_data['뉴스기사 레이블']=time_data['기사제목']"
      ]
    },
    {
      "cell_type": "markdown",
      "metadata": {},
      "source": [
        "뉴스기사 레이블 시키기"
      ]
    },
    {
      "cell_type": "code",
      "execution_count": 36,
      "metadata": {},
      "outputs": [],
      "source": [
        "keywords=[\"퇴출\",\"재심사\",\"실질\",\"폐지\"]\n",
        "for i in range(len(time_data)):\n",
        "    if any(keyword in str(time_data[\"뉴스기사본문전처리\"][i]) for keyword in keywords)==True:\n",
        "        time_data['뉴스기사 레이블'][i]=1\n",
        "    else:\n",
        "        time_data['뉴스기사 레이블'][i]=0"
      ]
    },
    {
      "cell_type": "code",
      "execution_count": 37,
      "metadata": {},
      "outputs": [
        {
          "data": {
            "text/plain": [
              "259"
            ]
          },
          "execution_count": 37,
          "metadata": {},
          "output_type": "execute_result"
        }
      ],
      "source": [
        "time_data['뉴스기사 레이블'].sum()"
      ]
    },
    {
      "cell_type": "code",
      "execution_count": 42,
      "metadata": {},
      "outputs": [],
      "source": [
        "time_data.drop([\"월\",\"일\"],inplace=True,axis=1)"
      ]
    },
    {
      "cell_type": "code",
      "execution_count": 47,
      "metadata": {},
      "outputs": [],
      "source": [
        "df=time_data.groupby([\"기업\",\"년\"]).sum()\n",
        "df.drop(\"기사발행일\",inplace=True,axis=1)"
      ]
    },
    {
      "cell_type": "code",
      "execution_count": 51,
      "metadata": {},
      "outputs": [
        {
          "data": {
            "text/html": [
              "<div>\n",
              "<style scoped>\n",
              "    .dataframe tbody tr th:only-of-type {\n",
              "        vertical-align: middle;\n",
              "    }\n",
              "\n",
              "    .dataframe tbody tr th {\n",
              "        vertical-align: top;\n",
              "    }\n",
              "\n",
              "    .dataframe thead th {\n",
              "        text-align: right;\n",
              "    }\n",
              "</style>\n",
              "<table border=\"1\" class=\"dataframe\">\n",
              "  <thead>\n",
              "    <tr style=\"text-align: right;\">\n",
              "      <th></th>\n",
              "      <th></th>\n",
              "      <th>기사제목</th>\n",
              "      <th>뉴스기사본문전처리</th>\n",
              "      <th>뉴스기사 레이블</th>\n",
              "    </tr>\n",
              "    <tr>\n",
              "      <th>기업</th>\n",
              "      <th>년</th>\n",
              "      <th></th>\n",
              "      <th></th>\n",
              "      <th></th>\n",
              "    </tr>\n",
              "  </thead>\n",
              "  <tbody>\n",
              "    <tr>\n",
              "      <th>경창산업</th>\n",
              "      <th>2013</th>\n",
              "      <td>경창산업 \"내가 진짜 中수혜주\" 연초 대비 125%↑[특징주]경창산업, 3분기 호실...</td>\n",
              "      <td>자동차 부품업체 경창산업이 올해 분기 호실적을 기록하자 신고가를 다시 쓰며 급등세를...</td>\n",
              "      <td>3</td>\n",
              "    </tr>\n",
              "    <tr>\n",
              "      <th>고영테크놀러지</th>\n",
              "      <th>2011</th>\n",
              "      <td>고영테크, 10만주 규모 신주인수권 행사고영, 연 50% 성장 세계 1위…주가가 성...</td>\n",
              "      <td>고영테크놀러지는 만주의 신주인수권을 행사한다고 일 공시했다. 이는 발행주식총수 대비...</td>\n",
              "      <td>1</td>\n",
              "    </tr>\n",
              "    <tr>\n",
              "      <th>광림</th>\n",
              "      <th>2016</th>\n",
              "      <td>거래소, 광림 주가급등 조회공시 요구나노스, 최대주주 광림 외 1명으로 변경광림 \"...</td>\n",
              "      <td>김현정 기자  한국거래소는 코스닥 상장사 광림에 최근 주가급등과 관련한 조회공시를...</td>\n",
              "      <td>0</td>\n",
              "    </tr>\n",
              "    <tr>\n",
              "      <th>금화피에스시</th>\n",
              "      <th>2013</th>\n",
              "      <td>금화피에스시, 134억원 규모 복합화력발전소 폐열회수장치 교체공사 수주금화피에스시,...</td>\n",
              "      <td>금화피에스시는 현대건설로부터 복합화력발전소 폐열회수장치 교체공사를 수주했다고 일 ...</td>\n",
              "      <td>12</td>\n",
              "    </tr>\n",
              "    <tr>\n",
              "      <th>나스미디어</th>\n",
              "      <th>2017</th>\n",
              "      <td>[fnRASSI]나스미디어, 52주 신고가...3.22% ↑[ET투자뉴스][나스미디...</td>\n",
              "      <td>나스미디어는 주신고가를 기록하고 있어 주목할만하다. 동종목의 현재 주가는 원 선에서...</td>\n",
              "      <td>0</td>\n",
              "    </tr>\n",
              "    <tr>\n",
              "      <th>...</th>\n",
              "      <th>...</th>\n",
              "      <td>...</td>\n",
              "      <td>...</td>\n",
              "      <td>...</td>\n",
              "    </tr>\n",
              "    <tr>\n",
              "      <th>하이록코리아</th>\n",
              "      <th>2012</th>\n",
              "      <td>[특징주] 하이록코리아, 급락 하루만에 반등…\"눈높이 낮출 이유 없다\"\"피팅주 주식...</td>\n",
              "      <td>하이록코리아가 눈높이를 낮출 이유가 없다는 증권사의 분석에 급락 하루만에 상승 반등...</td>\n",
              "      <td>1</td>\n",
              "    </tr>\n",
              "    <tr>\n",
              "      <th>한국정보통신</th>\n",
              "      <th>2015</th>\n",
              "      <td>한국정보통신, 최대주주 변경 주식 담보제공 계약 체결[특징주]한국정보통신, 中알리페...</td>\n",
              "      <td>한국정보통신은 박헌서 한국정보통신 회장이 최대주주 변경을 수반하는 주식 담보제공 ...</td>\n",
              "      <td>0</td>\n",
              "    </tr>\n",
              "    <tr>\n",
              "      <th>해성산업</th>\n",
              "      <th>2013</th>\n",
              "      <td>&lt;생생코스닥&gt;해성산업，주당 100원 현금배당 결정&lt;표&gt; 코스닥 외국인 순매수도 상위...</td>\n",
              "      <td>해성산업은 보통주 주당 원의 현금배당을 결정했다고 일 공시했다.시가배당률 .이며 배...</td>\n",
              "      <td>2</td>\n",
              "    </tr>\n",
              "    <tr>\n",
              "      <th>홈캐스트</th>\n",
              "      <th>2016</th>\n",
              "      <td>[더벨]홈캐스트, 셋톱박스업체 '디엠티' 인수[로봇뉴스][홈캐스트 지분 변동] (주...</td>\n",
              "      <td>더벨|이 기사는 월일 자본시장 미디어 머니투데이 에 출고된 기사입니다.셋톱박스 제...</td>\n",
              "      <td>2</td>\n",
              "    </tr>\n",
              "    <tr>\n",
              "      <th>휴맥스</th>\n",
              "      <th>2011</th>\n",
              "      <td>\"휴맥스, 장기 우려보다는 단기 성장 주목\" - 대우[특징주]휴맥스, 나흘만에 반등...</td>\n",
              "      <td>대우증권은 일 휴맥스에 대해 회사가 속한 셋톱박스 사업에 대한 장기적인 우려는 있지...</td>\n",
              "      <td>0</td>\n",
              "    </tr>\n",
              "  </tbody>\n",
              "</table>\n",
              "<p>124 rows × 3 columns</p>\n",
              "</div>"
            ],
            "text/plain": [
              "                                                           기사제목  \\\n",
              "기업      년                                                         \n",
              "경창산업    2013  경창산업 \"내가 진짜 中수혜주\" 연초 대비 125%↑[특징주]경창산업, 3분기 호실...   \n",
              "고영테크놀러지 2011  고영테크, 10만주 규모 신주인수권 행사고영, 연 50% 성장 세계 1위…주가가 성...   \n",
              "광림      2016  거래소, 광림 주가급등 조회공시 요구나노스, 최대주주 광림 외 1명으로 변경광림 \"...   \n",
              "금화피에스시  2013  금화피에스시, 134억원 규모 복합화력발전소 폐열회수장치 교체공사 수주금화피에스시,...   \n",
              "나스미디어   2017  [fnRASSI]나스미디어, 52주 신고가...3.22% ↑[ET투자뉴스][나스미디...   \n",
              "...                                                         ...   \n",
              "하이록코리아  2012  [특징주] 하이록코리아, 급락 하루만에 반등…\"눈높이 낮출 이유 없다\"\"피팅주 주식...   \n",
              "한국정보통신  2015  한국정보통신, 최대주주 변경 주식 담보제공 계약 체결[특징주]한국정보통신, 中알리페...   \n",
              "해성산업    2013  <생생코스닥>해성산업，주당 100원 현금배당 결정<표> 코스닥 외국인 순매수도 상위...   \n",
              "홈캐스트    2016  [더벨]홈캐스트, 셋톱박스업체 '디엠티' 인수[로봇뉴스][홈캐스트 지분 변동] (주...   \n",
              "휴맥스     2011  \"휴맥스, 장기 우려보다는 단기 성장 주목\" - 대우[특징주]휴맥스, 나흘만에 반등...   \n",
              "\n",
              "                                                      뉴스기사본문전처리  뉴스기사 레이블  \n",
              "기업      년                                                                  \n",
              "경창산업    2013  자동차 부품업체 경창산업이 올해 분기 호실적을 기록하자 신고가를 다시 쓰며 급등세를...         3  \n",
              "고영테크놀러지 2011  고영테크놀러지는 만주의 신주인수권을 행사한다고 일 공시했다. 이는 발행주식총수 대비...         1  \n",
              "광림      2016   김현정 기자  한국거래소는 코스닥 상장사 광림에 최근 주가급등과 관련한 조회공시를...         0  \n",
              "금화피에스시  2013   금화피에스시는 현대건설로부터 복합화력발전소 폐열회수장치 교체공사를 수주했다고 일 ...        12  \n",
              "나스미디어   2017  나스미디어는 주신고가를 기록하고 있어 주목할만하다. 동종목의 현재 주가는 원 선에서...         0  \n",
              "...                                                         ...       ...  \n",
              "하이록코리아  2012  하이록코리아가 눈높이를 낮출 이유가 없다는 증권사의 분석에 급락 하루만에 상승 반등...         1  \n",
              "한국정보통신  2015   한국정보통신은 박헌서 한국정보통신 회장이 최대주주 변경을 수반하는 주식 담보제공 ...         0  \n",
              "해성산업    2013  해성산업은 보통주 주당 원의 현금배당을 결정했다고 일 공시했다.시가배당률 .이며 배...         2  \n",
              "홈캐스트    2016   더벨|이 기사는 월일 자본시장 미디어 머니투데이 에 출고된 기사입니다.셋톱박스 제...         2  \n",
              "휴맥스     2011  대우증권은 일 휴맥스에 대해 회사가 속한 셋톱박스 사업에 대한 장기적인 우려는 있지...         0  \n",
              "\n",
              "[124 rows x 3 columns]"
            ]
          },
          "execution_count": 51,
          "metadata": {},
          "output_type": "execute_result"
        }
      ],
      "source": [
        "df"
      ]
    },
    {
      "cell_type": "code",
      "execution_count": 50,
      "metadata": {},
      "outputs": [
        {
          "data": {
            "text/html": [
              "<div>\n",
              "<style scoped>\n",
              "    .dataframe tbody tr th:only-of-type {\n",
              "        vertical-align: middle;\n",
              "    }\n",
              "\n",
              "    .dataframe tbody tr th {\n",
              "        vertical-align: top;\n",
              "    }\n",
              "\n",
              "    .dataframe thead th {\n",
              "        text-align: right;\n",
              "    }\n",
              "</style>\n",
              "<table border=\"1\" class=\"dataframe\">\n",
              "  <thead>\n",
              "    <tr style=\"text-align: right;\">\n",
              "      <th></th>\n",
              "      <th></th>\n",
              "      <th>기사발행일</th>\n",
              "      <th>기사제목</th>\n",
              "      <th>뉴스기사본문전처리</th>\n",
              "      <th>뉴스기사 레이블</th>\n",
              "    </tr>\n",
              "    <tr>\n",
              "      <th>기업</th>\n",
              "      <th>년</th>\n",
              "      <th></th>\n",
              "      <th></th>\n",
              "      <th></th>\n",
              "      <th></th>\n",
              "    </tr>\n",
              "  </thead>\n",
              "  <tbody>\n",
              "    <tr>\n",
              "      <th>경창산업</th>\n",
              "      <th>2013</th>\n",
              "      <td>60</td>\n",
              "      <td>60</td>\n",
              "      <td>60</td>\n",
              "      <td>60</td>\n",
              "    </tr>\n",
              "    <tr>\n",
              "      <th>고영테크놀러지</th>\n",
              "      <th>2011</th>\n",
              "      <td>46</td>\n",
              "      <td>46</td>\n",
              "      <td>46</td>\n",
              "      <td>46</td>\n",
              "    </tr>\n",
              "    <tr>\n",
              "      <th>광림</th>\n",
              "      <th>2016</th>\n",
              "      <td>55</td>\n",
              "      <td>55</td>\n",
              "      <td>55</td>\n",
              "      <td>55</td>\n",
              "    </tr>\n",
              "    <tr>\n",
              "      <th>금화피에스시</th>\n",
              "      <th>2013</th>\n",
              "      <td>70</td>\n",
              "      <td>70</td>\n",
              "      <td>70</td>\n",
              "      <td>70</td>\n",
              "    </tr>\n",
              "    <tr>\n",
              "      <th>나스미디어</th>\n",
              "      <th>2017</th>\n",
              "      <td>69</td>\n",
              "      <td>69</td>\n",
              "      <td>69</td>\n",
              "      <td>69</td>\n",
              "    </tr>\n",
              "    <tr>\n",
              "      <th>...</th>\n",
              "      <th>...</th>\n",
              "      <td>...</td>\n",
              "      <td>...</td>\n",
              "      <td>...</td>\n",
              "      <td>...</td>\n",
              "    </tr>\n",
              "    <tr>\n",
              "      <th>하이록코리아</th>\n",
              "      <th>2012</th>\n",
              "      <td>69</td>\n",
              "      <td>69</td>\n",
              "      <td>69</td>\n",
              "      <td>69</td>\n",
              "    </tr>\n",
              "    <tr>\n",
              "      <th>한국정보통신</th>\n",
              "      <th>2015</th>\n",
              "      <td>22</td>\n",
              "      <td>22</td>\n",
              "      <td>22</td>\n",
              "      <td>22</td>\n",
              "    </tr>\n",
              "    <tr>\n",
              "      <th>해성산업</th>\n",
              "      <th>2013</th>\n",
              "      <td>20</td>\n",
              "      <td>20</td>\n",
              "      <td>20</td>\n",
              "      <td>20</td>\n",
              "    </tr>\n",
              "    <tr>\n",
              "      <th>홈캐스트</th>\n",
              "      <th>2016</th>\n",
              "      <td>44</td>\n",
              "      <td>44</td>\n",
              "      <td>44</td>\n",
              "      <td>44</td>\n",
              "    </tr>\n",
              "    <tr>\n",
              "      <th>휴맥스</th>\n",
              "      <th>2011</th>\n",
              "      <td>76</td>\n",
              "      <td>76</td>\n",
              "      <td>76</td>\n",
              "      <td>76</td>\n",
              "    </tr>\n",
              "  </tbody>\n",
              "</table>\n",
              "<p>124 rows × 4 columns</p>\n",
              "</div>"
            ],
            "text/plain": [
              "              기사발행일  기사제목  뉴스기사본문전처리  뉴스기사 레이블\n",
              "기업      년                                     \n",
              "경창산업    2013     60    60         60        60\n",
              "고영테크놀러지 2011     46    46         46        46\n",
              "광림      2016     55    55         55        55\n",
              "금화피에스시  2013     70    70         70        70\n",
              "나스미디어   2017     69    69         69        69\n",
              "...             ...   ...        ...       ...\n",
              "하이록코리아  2012     69    69         69        69\n",
              "한국정보통신  2015     22    22         22        22\n",
              "해성산업    2013     20    20         20        20\n",
              "홈캐스트    2016     44    44         44        44\n",
              "휴맥스     2011     76    76         76        76\n",
              "\n",
              "[124 rows x 4 columns]"
            ]
          },
          "execution_count": 50,
          "metadata": {},
          "output_type": "execute_result"
        }
      ],
      "source": [
        "df_count=time_data.groupby([\"기업\",\"년\"]).count()\n",
        "df_count"
      ]
    },
    {
      "cell_type": "code",
      "execution_count": 52,
      "metadata": {},
      "outputs": [],
      "source": [
        "df[\"부도기사 비율\"]=df[\"뉴스기사 레이블\"]"
      ]
    },
    {
      "cell_type": "code",
      "execution_count": 54,
      "metadata": {},
      "outputs": [
        {
          "data": {
            "text/html": [
              "<div>\n",
              "<style scoped>\n",
              "    .dataframe tbody tr th:only-of-type {\n",
              "        vertical-align: middle;\n",
              "    }\n",
              "\n",
              "    .dataframe tbody tr th {\n",
              "        vertical-align: top;\n",
              "    }\n",
              "\n",
              "    .dataframe thead th {\n",
              "        text-align: right;\n",
              "    }\n",
              "</style>\n",
              "<table border=\"1\" class=\"dataframe\">\n",
              "  <thead>\n",
              "    <tr style=\"text-align: right;\">\n",
              "      <th></th>\n",
              "      <th></th>\n",
              "      <th>부도기사 비율</th>\n",
              "    </tr>\n",
              "    <tr>\n",
              "      <th>기업</th>\n",
              "      <th>년</th>\n",
              "      <th></th>\n",
              "    </tr>\n",
              "  </thead>\n",
              "  <tbody>\n",
              "    <tr>\n",
              "      <th>경창산업</th>\n",
              "      <th>2013</th>\n",
              "      <td>5.00</td>\n",
              "    </tr>\n",
              "    <tr>\n",
              "      <th>고영테크놀러지</th>\n",
              "      <th>2011</th>\n",
              "      <td>2.17</td>\n",
              "    </tr>\n",
              "    <tr>\n",
              "      <th>광림</th>\n",
              "      <th>2016</th>\n",
              "      <td>0.00</td>\n",
              "    </tr>\n",
              "    <tr>\n",
              "      <th>금화피에스시</th>\n",
              "      <th>2013</th>\n",
              "      <td>17.14</td>\n",
              "    </tr>\n",
              "    <tr>\n",
              "      <th>나스미디어</th>\n",
              "      <th>2017</th>\n",
              "      <td>0.00</td>\n",
              "    </tr>\n",
              "    <tr>\n",
              "      <th>...</th>\n",
              "      <th>...</th>\n",
              "      <td>...</td>\n",
              "    </tr>\n",
              "    <tr>\n",
              "      <th>하이록코리아</th>\n",
              "      <th>2012</th>\n",
              "      <td>1.45</td>\n",
              "    </tr>\n",
              "    <tr>\n",
              "      <th>한국정보통신</th>\n",
              "      <th>2015</th>\n",
              "      <td>0.00</td>\n",
              "    </tr>\n",
              "    <tr>\n",
              "      <th>해성산업</th>\n",
              "      <th>2013</th>\n",
              "      <td>10.00</td>\n",
              "    </tr>\n",
              "    <tr>\n",
              "      <th>홈캐스트</th>\n",
              "      <th>2016</th>\n",
              "      <td>4.55</td>\n",
              "    </tr>\n",
              "    <tr>\n",
              "      <th>휴맥스</th>\n",
              "      <th>2011</th>\n",
              "      <td>0.00</td>\n",
              "    </tr>\n",
              "  </tbody>\n",
              "</table>\n",
              "<p>124 rows × 1 columns</p>\n",
              "</div>"
            ],
            "text/plain": [
              "              부도기사 비율\n",
              "기업      년            \n",
              "경창산업    2013     5.00\n",
              "고영테크놀러지 2011     2.17\n",
              "광림      2016     0.00\n",
              "금화피에스시  2013    17.14\n",
              "나스미디어   2017     0.00\n",
              "...               ...\n",
              "하이록코리아  2012     1.45\n",
              "한국정보통신  2015     0.00\n",
              "해성산업    2013    10.00\n",
              "홈캐스트    2016     4.55\n",
              "휴맥스     2011     0.00\n",
              "\n",
              "[124 rows x 1 columns]"
            ]
          },
          "execution_count": 54,
          "metadata": {},
          "output_type": "execute_result"
        }
      ],
      "source": [
        "df[\"부도기사 비율\"]=round(df[\"뉴스기사 레이블\"]/df_count[\"뉴스기사 레이블\"]*100,2)\n",
        "final_df=pd.DataFrame(df[\"부도기사 비율\"])\n",
        "final_df.to_csv(\"fasttext_mecab_정상기업_부도기사 비율.csv\",encoding=\"utf-8-sig\")\n",
        "final_df"
      ]
    },
    {
      "cell_type": "code",
      "execution_count": null,
      "metadata": {},
      "outputs": [
        {
          "data": {
            "text/html": [
              "<div>\n",
              "<style scoped>\n",
              "    .dataframe tbody tr th:only-of-type {\n",
              "        vertical-align: middle;\n",
              "    }\n",
              "\n",
              "    .dataframe tbody tr th {\n",
              "        vertical-align: top;\n",
              "    }\n",
              "\n",
              "    .dataframe thead th {\n",
              "        text-align: right;\n",
              "    }\n",
              "</style>\n",
              "<table border=\"1\" class=\"dataframe\">\n",
              "  <thead>\n",
              "    <tr style=\"text-align: right;\">\n",
              "      <th></th>\n",
              "      <th></th>\n",
              "      <th>부도기사 비율</th>\n",
              "    </tr>\n",
              "    <tr>\n",
              "      <th>기업</th>\n",
              "      <th>년</th>\n",
              "      <th></th>\n",
              "    </tr>\n",
              "  </thead>\n",
              "  <tbody>\n",
              "    <tr>\n",
              "      <th>경창산업</th>\n",
              "      <th>2013</th>\n",
              "      <td>6.67</td>\n",
              "    </tr>\n",
              "    <tr>\n",
              "      <th>고영테크놀러지</th>\n",
              "      <th>2011</th>\n",
              "      <td>12.00</td>\n",
              "    </tr>\n",
              "    <tr>\n",
              "      <th>광림</th>\n",
              "      <th>2016</th>\n",
              "      <td>0.00</td>\n",
              "    </tr>\n",
              "    <tr>\n",
              "      <th>금화피에스시</th>\n",
              "      <th>2013</th>\n",
              "      <td>33.33</td>\n",
              "    </tr>\n",
              "    <tr>\n",
              "      <th>나스미디어</th>\n",
              "      <th>2017</th>\n",
              "      <td>4.00</td>\n",
              "    </tr>\n",
              "    <tr>\n",
              "      <th>...</th>\n",
              "      <th>...</th>\n",
              "      <td>...</td>\n",
              "    </tr>\n",
              "    <tr>\n",
              "      <th>하이록코리아</th>\n",
              "      <th>2012</th>\n",
              "      <td>6.45</td>\n",
              "    </tr>\n",
              "    <tr>\n",
              "      <th>한국정보통신</th>\n",
              "      <th>2015</th>\n",
              "      <td>0.00</td>\n",
              "    </tr>\n",
              "    <tr>\n",
              "      <th>해성산업</th>\n",
              "      <th>2013</th>\n",
              "      <td>14.29</td>\n",
              "    </tr>\n",
              "    <tr>\n",
              "      <th>홈캐스트</th>\n",
              "      <th>2016</th>\n",
              "      <td>14.29</td>\n",
              "    </tr>\n",
              "    <tr>\n",
              "      <th>휴맥스</th>\n",
              "      <th>2011</th>\n",
              "      <td>12.00</td>\n",
              "    </tr>\n",
              "  </tbody>\n",
              "</table>\n",
              "<p>116 rows × 1 columns</p>\n",
              "</div>"
            ],
            "text/plain": [
              "              부도기사 비율\n",
              "기업      년            \n",
              "경창산업    2013     6.67\n",
              "고영테크놀러지 2011    12.00\n",
              "광림      2016     0.00\n",
              "금화피에스시  2013    33.33\n",
              "나스미디어   2017     4.00\n",
              "...               ...\n",
              "하이록코리아  2012     6.45\n",
              "한국정보통신  2015     0.00\n",
              "해성산업    2013    14.29\n",
              "홈캐스트    2016    14.29\n",
              "휴맥스     2011    12.00\n",
              "\n",
              "[116 rows x 1 columns]"
            ]
          },
          "metadata": {},
          "output_type": "display_data"
        }
      ],
      "source": [
        "time_data_1[\"부도기사 비율\"]=round(sum_df[\"뉴스기사 레이블\"]/time_data_1[\"뉴스기사 레이블\"]*100,2)\n",
        "final_df=pd.DataFrame(time_data_1[\"부도기사 비율\"])\n",
        "final_df.to_csv(\"정상기업_부도기사 비율.csv\",encoding=\"utf-8-sig\")\n",
        "final_df"
      ]
    },
    {
      "cell_type": "code",
      "execution_count": null,
      "metadata": {},
      "outputs": [
        {
          "data": {
            "text/plain": [
              "241"
            ]
          },
          "execution_count": 67,
          "metadata": {},
          "output_type": "execute_result"
        }
      ],
      "source": [
        "plor=[\"폐지\",\"퇴출\",\"기로\",\"벼랑\"]\n",
        "a=\"|\".join(plor)\n",
        "df=train_data[train_data['뉴스기사본문전처리'].str.contains(a)]\n",
        "\n",
        "len(df)\n"
      ]
    },
    {
      "cell_type": "markdown",
      "metadata": {},
      "source": [
        "s"
      ]
    },
    {
      "cell_type": "code",
      "execution_count": null,
      "metadata": {},
      "outputs": [],
      "source": [
        "import pandas as pd"
      ]
    },
    {
      "cell_type": "code",
      "execution_count": null,
      "metadata": {},
      "outputs": [],
      "source": []
    }
  ],
  "metadata": {
    "accelerator": "GPU",
    "colab": {
      "name": "nlp_1003_eng and kore word2vec.ipynb",
      "private_outputs": true,
      "provenance": []
    },
    "kernelspec": {
      "display_name": "Python 3.8.8rc1 64-bit",
      "language": "python",
      "name": "python3"
    },
    "language_info": {
      "codemirror_mode": {
        "name": "ipython",
        "version": 3
      },
      "file_extension": ".py",
      "mimetype": "text/x-python",
      "name": "python",
      "nbconvert_exporter": "python",
      "pygments_lexer": "ipython3",
      "version": "3.8.8rc1"
    },
    "vscode": {
      "interpreter": {
        "hash": "722b21b25ff779b5f304eaf92f77bc0ad07367ec915dcd732581241fa9ae9a7c"
      }
    }
  },
  "nbformat": 4,
  "nbformat_minor": 0
}
