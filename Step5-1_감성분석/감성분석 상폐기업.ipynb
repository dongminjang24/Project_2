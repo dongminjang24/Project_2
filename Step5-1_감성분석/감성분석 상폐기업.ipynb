{
 "cells": [
  {
   "cell_type": "code",
   "execution_count": 1,
   "metadata": {},
   "outputs": [],
   "source": [
    "import pandas as pd\n",
    "import re\n",
    "import nltk\n",
    "import numpy as np\n",
    "\n",
    "from nltk.corpus import sentiwordnet as swn"
   ]
  },
  {
   "cell_type": "code",
   "execution_count": 7,
   "metadata": {},
   "outputs": [
    {
     "name": "stdout",
     "output_type": "stream",
     "text": [
      "showing info https://raw.githubusercontent.com/nltk/nltk_data/gh-pages/index.xml\n"
     ]
    },
    {
     "data": {
      "text/plain": [
       "True"
      ]
     },
     "execution_count": 7,
     "metadata": {},
     "output_type": "execute_result"
    }
   ],
   "source": [
    "# 처음에 nltk 가 import 안될 경우는 패키지가 제대로 다운이 되지 않은 것 때문이므로 아래 명령어로 다운로드\n",
    "#nltk.download()"
   ]
  },
  {
   "cell_type": "code",
   "execution_count": 23,
   "metadata": {},
   "outputs": [],
   "source": [
    "## 나눠서 수집한 기사 결합\n",
    "상폐기업뉴스1 = pd.read_csv('./datasets/상폐기업번역파일.csv')\n",
    "상폐기업뉴스1.drop('뉴스기사본문전처리', axis=1, inplace=True)\n",
    "\n",
    "상폐기업뉴스2 = pd.read_csv('./datasets/상폐기업번역파일추가.csv', encoding='utf-8', index_col=0)\n",
    "상폐기업뉴스2.drop('뉴스기사본문전처리', axis=1, inplace=True)\n",
    "상폐기업뉴스2.columns = ['기업', '기사발행일', '기사제목', '기사본문번역']\n",
    "\n",
    "상폐기업뉴스 = pd.concat([상폐기업뉴스1, 상폐기업뉴스2], axis=0)\n",
    "상폐기업뉴스.reset_index(inplace=True, drop=True)\n",
    "상폐기업뉴스.drop('기사발행일', inplace=True, axis=1)\n",
    "\n",
    "## 파파고가 번역할 때 생략된 한글 제거\n",
    "상폐기업뉴스['기사본문번역'] = [re.sub('[가-힣]', '', s) for s in 상폐기업뉴스['기사본문번역']]\n"
   ]
  },
  {
   "cell_type": "code",
   "execution_count": 25,
   "metadata": {},
   "outputs": [],
   "source": [
    "## 기사 토큰화 및 품사 태깅\n",
    "상폐기업뉴스['기사본문번역토큰'] = 상폐기업뉴스['기사본문번역'].apply(lambda x: nltk.word_tokenize(x))\n",
    "상폐기업뉴스['기사본문번역토큰'] = 상폐기업뉴스['기사본문번역토큰'].apply(lambda x: nltk.pos_tag(x))"
   ]
  },
  {
   "cell_type": "code",
   "execution_count": 26,
   "metadata": {},
   "outputs": [],
   "source": [
    "## 문장에서 명사 동사 형용사 부사에 한하여 부정 긍정지수 계산\n",
    "def word_sentiment_calculator(word, tag):\n",
    "    pos_score = 0\n",
    "    neg_score = 0\n",
    "    \n",
    "    if 'NN' in tag and len(list(swn.senti_synsets(word, 'n')))>0:\n",
    "        syn_set = list(swn.senti_synsets(word, 'n'))\n",
    "    elif 'VB' in tag and len(list(swn.senti_synsets(word, 'v')))>0:\n",
    "        syn_set = list(swn.senti_synsets(word, 'v'))\n",
    "    elif 'JJ' in tag and len(list(swn.senti_synsets(word, 'a')))>0:\n",
    "        syn_set = list(swn.senti_synsets(word, 'a'))\n",
    "    elif 'RB' in tag and len(list(swn.senti_synsets(word, 'r')))>0:\n",
    "        syn_set = list(swn.senti_synsets(word, 'r'))\n",
    "    else:\n",
    "        return (0,0)\n",
    "    \n",
    "    for syn in syn_set:\n",
    "        pos_score += syn.pos_score()\n",
    "        neg_score += syn.neg_score()\n",
    "    return (pos_score/len(syn_set), neg_score/len(syn_set))\n",
    "\n",
    "## 출처 : https://github.com/buomsoo-kim/Sentiment-Analysis-with-Python/blob/master/source%20code/session%204%20-%20Text%20analysis/iphynb%20files/%5B4-1%5D%20SentiwordNet.ipynb"
   ]
  },
  {
   "cell_type": "code",
   "execution_count": 1,
   "metadata": {},
   "outputs": [],
   "source": [
    "## 문장의 감성 지수 계산하기 위한 함수\n",
    "def sentence_sentiment_calculator(sent):\n",
    "    tokens =  nltk.word_tokenize(sent)\n",
    "    pos_tags = nltk.pos_tag(tokens)\n",
    "    \n",
    "    pos_score = 0\n",
    "    neg_score = 0\n",
    "    for word, tag in pos_tags:\n",
    "        pos_score += word_sentiment_calculator(word, tag)[0]\n",
    "        neg_score += word_sentiment_calculator(word, tag)[1]\n",
    "    return (pos_score, neg_score)\n",
    "\n",
    "## 출처 : https://github.com/buomsoo-kim/Sentiment-Analysis-with-Python/blob/master/source%20code/session%204%20-%20Text%20analysis/iphynb%20files/%5B4-1%5D%20SentiwordNet.ipynb"
   ]
  },
  {
   "cell_type": "code",
   "execution_count": 28,
   "metadata": {},
   "outputs": [],
   "source": [
    "## 긍정일경우 0 부정일경우 1\n",
    "predicted = []\n",
    "\n",
    "for i in range(len(상폐기업뉴스)):\n",
    "    scores = sentence_sentiment_calculator(상폐기업뉴스.기사본문번역[i])\n",
    "    \n",
    "    #긍정점수 >= 부정점수 일 경우 긍정\n",
    "    if scores[0] >= scores[1]:\n",
    "        predicted.append(0)\n",
    "    #부정점수 < 긍정점수 일 경우 부정\n",
    "    else:\n",
    "        predicted.append(1)\n",
    "\n",
    "상폐기업뉴스['긍정부정분류'] = predicted"
   ]
  },
  {
   "cell_type": "code",
   "execution_count": 29,
   "metadata": {},
   "outputs": [
    {
     "data": {
      "text/html": [
       "<div>\n",
       "<style scoped>\n",
       "    .dataframe tbody tr th:only-of-type {\n",
       "        vertical-align: middle;\n",
       "    }\n",
       "\n",
       "    .dataframe tbody tr th {\n",
       "        vertical-align: top;\n",
       "    }\n",
       "\n",
       "    .dataframe thead th {\n",
       "        text-align: right;\n",
       "    }\n",
       "</style>\n",
       "<table border=\"1\" class=\"dataframe\">\n",
       "  <thead>\n",
       "    <tr style=\"text-align: right;\">\n",
       "      <th></th>\n",
       "      <th>회사명</th>\n",
       "      <th>부정기사비율</th>\n",
       "    </tr>\n",
       "  </thead>\n",
       "  <tbody>\n",
       "    <tr>\n",
       "      <th>0</th>\n",
       "      <td>KCW</td>\n",
       "      <td>33.333333</td>\n",
       "    </tr>\n",
       "    <tr>\n",
       "      <th>1</th>\n",
       "      <td>글로웍스</td>\n",
       "      <td>26.923077</td>\n",
       "    </tr>\n",
       "    <tr>\n",
       "      <th>2</th>\n",
       "      <td>금강제강</td>\n",
       "      <td>0.000000</td>\n",
       "    </tr>\n",
       "    <tr>\n",
       "      <th>3</th>\n",
       "      <td>나노트로닉스</td>\n",
       "      <td>19.230769</td>\n",
       "    </tr>\n",
       "    <tr>\n",
       "      <th>4</th>\n",
       "      <td>나이스메탈</td>\n",
       "      <td>28.048780</td>\n",
       "    </tr>\n",
       "    <tr>\n",
       "      <th>...</th>\n",
       "      <td>...</td>\n",
       "      <td>...</td>\n",
       "    </tr>\n",
       "    <tr>\n",
       "      <th>128</th>\n",
       "      <td>한와이어리스</td>\n",
       "      <td>31.578947</td>\n",
       "    </tr>\n",
       "    <tr>\n",
       "      <th>129</th>\n",
       "      <td>해피드림</td>\n",
       "      <td>11.428571</td>\n",
       "    </tr>\n",
       "    <tr>\n",
       "      <th>130</th>\n",
       "      <td>핸디소프트</td>\n",
       "      <td>32.608696</td>\n",
       "    </tr>\n",
       "    <tr>\n",
       "      <th>131</th>\n",
       "      <td>휴먼텍코리아</td>\n",
       "      <td>33.333333</td>\n",
       "    </tr>\n",
       "    <tr>\n",
       "      <th>132</th>\n",
       "      <td>히스토스템</td>\n",
       "      <td>44.318182</td>\n",
       "    </tr>\n",
       "  </tbody>\n",
       "</table>\n",
       "<p>133 rows × 2 columns</p>\n",
       "</div>"
      ],
      "text/plain": [
       "        회사명     부정기사비율\n",
       "0       KCW  33.333333\n",
       "1      글로웍스  26.923077\n",
       "2      금강제강   0.000000\n",
       "3    나노트로닉스  19.230769\n",
       "4     나이스메탈  28.048780\n",
       "..      ...        ...\n",
       "128  한와이어리스  31.578947\n",
       "129    해피드림  11.428571\n",
       "130   핸디소프트  32.608696\n",
       "131  휴먼텍코리아  33.333333\n",
       "132   히스토스템  44.318182\n",
       "\n",
       "[133 rows x 2 columns]"
      ]
     },
     "execution_count": 29,
     "metadata": {},
     "output_type": "execute_result"
    }
   ],
   "source": [
    "## Groupby활용하여 기업별 부정기사수, 전체기사수를 추출하고 부정기사비율로 계산\n",
    "전체기사수 = pd.DataFrame(상폐기업뉴스.groupby(['기업']).count()['긍정부정분류'])\n",
    "전체기사수.reset_index(drop = False, inplace = True)\n",
    "전체기사수.columns = ['기업', '전체기사수']\n",
    "\n",
    "부정기사수 = pd.DataFrame(상폐기업뉴스[상폐기업뉴스.긍정부정분류==1].groupby(['기업']).count()['긍정부정분류'])\n",
    "부정기사수.reset_index(drop = False, inplace = True)\n",
    "부정기사수.columns = ['기업', '부정기사수']\n",
    "\n",
    "상폐기업 = pd.merge(전체기사수, 부정기사수, on=['기업'], how='left')\n",
    "상폐기업['부정기사비율'] = (상폐기업['부정기사수'] / 상폐기업['전체기사수']) * 100\n",
    "상폐기업.fillna(0, inplace=True)\n",
    "상폐기업.drop(['전체기사수', '부정기사수'], axis=1, inplace=True)\n",
    "상폐기업.columns = ['회사명', '부정기사비율']\n",
    "상폐기업"
   ]
  },
  {
   "cell_type": "code",
   "execution_count": 32,
   "metadata": {},
   "outputs": [],
   "source": [
    "## 상폐기업 재무비율을 가져와서 부정기사비율과 결합하여 저장\n",
    "상폐기업재무비율 = pd.read_csv('../Step1-2_재무비율_모델링/datasets/재무비율.csv')\n",
    "상폐기업재무비율 = 상폐기업재무비율[상폐기업재무비율.부실기업여부==1]\n",
    "상폐기업_감성분석 = pd.merge(상폐기업재무비율, 상폐기업, how='left', on=['회사명'])\n",
    "상폐기업_감성분석.fillna(0, inplace=True)\n",
    "상폐기업_감성분석.to_csv('../Step5-2_감성분석_모델링/datasets/상폐기업_부정기사비율_데이터.csv', index=None, encoding='utf-8-sig')\n"
   ]
  }
 ],
 "metadata": {
  "kernelspec": {
   "display_name": "Python 3.8.8 64-bit",
   "language": "python",
   "name": "python3"
  },
  "language_info": {
   "codemirror_mode": {
    "name": "ipython",
    "version": 3
   },
   "file_extension": ".py",
   "mimetype": "text/x-python",
   "name": "python",
   "nbconvert_exporter": "python",
   "pygments_lexer": "ipython3",
   "version": "3.8.0"
  },
  "orig_nbformat": 4,
  "vscode": {
   "interpreter": {
    "hash": "c2e55c9285be7209c352033cdce09d8fd6005e5e0666f201e74b15d445dd77cd"
   }
  }
 },
 "nbformat": 4,
 "nbformat_minor": 2
}
