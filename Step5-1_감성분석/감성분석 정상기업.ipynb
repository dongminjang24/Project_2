{
 "cells": [
  {
   "cell_type": "code",
   "execution_count": 2,
   "metadata": {},
   "outputs": [],
   "source": [
    "import pandas as pd\n",
    "import re\n",
    "import nltk\n",
    "import numpy as np\n",
    "\n",
    "from nltk.corpus import sentiwordnet as swn"
   ]
  },
  {
   "cell_type": "code",
   "execution_count": 7,
   "metadata": {},
   "outputs": [
    {
     "name": "stdout",
     "output_type": "stream",
     "text": [
      "showing info https://raw.githubusercontent.com/nltk/nltk_data/gh-pages/index.xml\n"
     ]
    },
    {
     "data": {
      "text/plain": [
       "True"
      ]
     },
     "execution_count": 7,
     "metadata": {},
     "output_type": "execute_result"
    }
   ],
   "source": [
    "# 처음에 nltk 가 import 안될 경우는 패키지가 제대로 다운이 되지 않은 것 때문이므로 아래 명령어로 다운로드\n",
    "#nltk.download()"
   ]
  },
  {
   "cell_type": "code",
   "execution_count": 4,
   "metadata": {},
   "outputs": [],
   "source": [
    "## 나눠서 수집한 기사 결합\n",
    "정상기업뉴스1 = pd.read_csv('./datasets/정상기업번역파일.csv')\n",
    "정상기업뉴스1.drop('뉴스기사본문전처리', axis=1, inplace=True)\n",
    "\n",
    "정상기업뉴스2 = pd.read_csv('./datasets/정상기업번역파일추가.csv')\n",
    "정상기업뉴스2.drop('뉴스기사본문전처리', axis=1, inplace=True)\n",
    "\n",
    "정상기업뉴스 = pd.concat([정상기업뉴스1, 정상기업뉴스2], axis=0)\n",
    "정상기업뉴스.reset_index(inplace=True, drop=True)\n",
    "\n",
    "정상기업뉴스['기사본문번역'] = [re.sub('[가-힣]', '', s) for s in 정상기업뉴스['기사본문번역']]\n",
    "## 정상기업 표본에서는 년도만 다르고 이름이 같은 기업이 있기 때문에 Groupby할때 기사발행년도와 기업이름 필요\n",
    "정상기업뉴스['기사발행일'] = 정상기업뉴스['기사발행일'].apply(lambda x: x[:4])"
   ]
  },
  {
   "cell_type": "code",
   "execution_count": 10,
   "metadata": {},
   "outputs": [],
   "source": [
    "## 기사 토큰화 및 품사 태깅\n",
    "정상기업뉴스['기사본문번역토큰'] = 정상기업뉴스['기사본문번역'].apply(lambda x: nltk.word_tokenize(x))\n",
    "정상기업뉴스['기사본문번역토큰'] = 정상기업뉴스['기사본문번역토큰'].apply(lambda x: nltk.pos_tag(x))"
   ]
  },
  {
   "cell_type": "code",
   "execution_count": 11,
   "metadata": {},
   "outputs": [],
   "source": [
    "## 문장에서 명사 동사 형용사 부사에 한하여 부정 긍정지수 계산\n",
    "def word_sentiment_calculator(word, tag):\n",
    "    pos_score = 0\n",
    "    neg_score = 0\n",
    "    \n",
    "    if 'NN' in tag and len(list(swn.senti_synsets(word, 'n')))>0:\n",
    "        syn_set = list(swn.senti_synsets(word, 'n'))\n",
    "    elif 'VB' in tag and len(list(swn.senti_synsets(word, 'v')))>0:\n",
    "        syn_set = list(swn.senti_synsets(word, 'v'))\n",
    "    elif 'JJ' in tag and len(list(swn.senti_synsets(word, 'a')))>0:\n",
    "        syn_set = list(swn.senti_synsets(word, 'a'))\n",
    "    elif 'RB' in tag and len(list(swn.senti_synsets(word, 'r')))>0:\n",
    "        syn_set = list(swn.senti_synsets(word, 'r'))\n",
    "    else:\n",
    "        return (0,0)\n",
    "    \n",
    "    for syn in syn_set:\n",
    "        pos_score += syn.pos_score()\n",
    "        neg_score += syn.neg_score()\n",
    "    return (pos_score/len(syn_set), neg_score/len(syn_set))\n",
    "\n",
    "## 출처 : https://github.com/buomsoo-kim/Sentiment-Analysis-with-Python/blob/master/source%20code/session%204%20-%20Text%20analysis/iphynb%20files/%5B4-1%5D%20SentiwordNet.ipynb"
   ]
  },
  {
   "cell_type": "code",
   "execution_count": 13,
   "metadata": {},
   "outputs": [],
   "source": [
    "## 문장의 감성 지수 계산하기 위한 함수\n",
    "def sentence_sentiment_calculator(sent):\n",
    "    tokens =  nltk.word_tokenize(sent)\n",
    "    pos_tags = nltk.pos_tag(tokens)\n",
    "    \n",
    "    pos_score = 0\n",
    "    neg_score = 0\n",
    "    for word, tag in pos_tags:\n",
    "        pos_score += word_sentiment_calculator(word, tag)[0]\n",
    "        neg_score += word_sentiment_calculator(word, tag)[1]\n",
    "    return (pos_score, neg_score)\n",
    "\n",
    "## 출처 : https://github.com/buomsoo-kim/Sentiment-Analysis-with-Python/blob/master/source%20code/session%204%20-%20Text%20analysis/iphynb%20files/%5B4-1%5D%20SentiwordNet.ipynb"
   ]
  },
  {
   "cell_type": "code",
   "execution_count": 15,
   "metadata": {},
   "outputs": [],
   "source": [
    "## 긍정일경우 0 부정일경우 1\n",
    "predicted = []\n",
    "\n",
    "for i in range(len(정상기업뉴스)):\n",
    "    scores = sentence_sentiment_calculator(정상기업뉴스.기사본문번역[i])\n",
    "\n",
    "    #긍정점수 >= 부정점수 일 경우 긍정\n",
    "    if scores[0] >= scores[1]:\n",
    "        predicted.append(0)\n",
    "    #부정점수 < 긍정점수 일 경우 부정\n",
    "    else:\n",
    "        predicted.append(1)\n",
    "\n",
    "정상기업뉴스['긍정부정분류'] = predicted"
   ]
  },
  {
   "cell_type": "code",
   "execution_count": 18,
   "metadata": {},
   "outputs": [
    {
     "data": {
      "text/html": [
       "<div>\n",
       "<style scoped>\n",
       "    .dataframe tbody tr th:only-of-type {\n",
       "        vertical-align: middle;\n",
       "    }\n",
       "\n",
       "    .dataframe tbody tr th {\n",
       "        vertical-align: top;\n",
       "    }\n",
       "\n",
       "    .dataframe thead th {\n",
       "        text-align: right;\n",
       "    }\n",
       "</style>\n",
       "<table border=\"1\" class=\"dataframe\">\n",
       "  <thead>\n",
       "    <tr style=\"text-align: right;\">\n",
       "      <th></th>\n",
       "      <th>회사명</th>\n",
       "      <th>회계년도</th>\n",
       "      <th>부정기사비율</th>\n",
       "    </tr>\n",
       "  </thead>\n",
       "  <tbody>\n",
       "    <tr>\n",
       "      <th>0</th>\n",
       "      <td>경창산업</td>\n",
       "      <td>2011</td>\n",
       "      <td>8.064516</td>\n",
       "    </tr>\n",
       "    <tr>\n",
       "      <th>1</th>\n",
       "      <td>고영테크놀러지</td>\n",
       "      <td>2009</td>\n",
       "      <td>4.255319</td>\n",
       "    </tr>\n",
       "    <tr>\n",
       "      <th>2</th>\n",
       "      <td>광림</td>\n",
       "      <td>2014</td>\n",
       "      <td>25.454545</td>\n",
       "    </tr>\n",
       "    <tr>\n",
       "      <th>3</th>\n",
       "      <td>금화피에스시</td>\n",
       "      <td>2011</td>\n",
       "      <td>28.169014</td>\n",
       "    </tr>\n",
       "    <tr>\n",
       "      <th>4</th>\n",
       "      <td>나스미디어</td>\n",
       "      <td>2015</td>\n",
       "      <td>11.594203</td>\n",
       "    </tr>\n",
       "    <tr>\n",
       "      <th>...</th>\n",
       "      <td>...</td>\n",
       "      <td>...</td>\n",
       "      <td>...</td>\n",
       "    </tr>\n",
       "    <tr>\n",
       "      <th>119</th>\n",
       "      <td>하이록코리아</td>\n",
       "      <td>2010</td>\n",
       "      <td>1.408451</td>\n",
       "    </tr>\n",
       "    <tr>\n",
       "      <th>120</th>\n",
       "      <td>한국정보통신</td>\n",
       "      <td>2013</td>\n",
       "      <td>9.090909</td>\n",
       "    </tr>\n",
       "    <tr>\n",
       "      <th>121</th>\n",
       "      <td>해성산업</td>\n",
       "      <td>2011</td>\n",
       "      <td>14.285714</td>\n",
       "    </tr>\n",
       "    <tr>\n",
       "      <th>122</th>\n",
       "      <td>홈캐스트</td>\n",
       "      <td>2014</td>\n",
       "      <td>23.913043</td>\n",
       "    </tr>\n",
       "    <tr>\n",
       "      <th>123</th>\n",
       "      <td>휴맥스</td>\n",
       "      <td>2009</td>\n",
       "      <td>3.947368</td>\n",
       "    </tr>\n",
       "  </tbody>\n",
       "</table>\n",
       "<p>124 rows × 3 columns</p>\n",
       "</div>"
      ],
      "text/plain": [
       "         회사명  회계년도     부정기사비율\n",
       "0       경창산업  2011   8.064516\n",
       "1    고영테크놀러지  2009   4.255319\n",
       "2         광림  2014  25.454545\n",
       "3     금화피에스시  2011  28.169014\n",
       "4      나스미디어  2015  11.594203\n",
       "..       ...   ...        ...\n",
       "119   하이록코리아  2010   1.408451\n",
       "120   한국정보통신  2013   9.090909\n",
       "121     해성산업  2011  14.285714\n",
       "122     홈캐스트  2014  23.913043\n",
       "123      휴맥스  2009   3.947368\n",
       "\n",
       "[124 rows x 3 columns]"
      ]
     },
     "execution_count": 18,
     "metadata": {},
     "output_type": "execute_result"
    }
   ],
   "source": [
    "## Groupby활용하여 기업별 부정기사수, 전체기사수를 추출하고 부정기사비율로 계산\n",
    "## 위에서 언급한 것처럼 정상기업은 중복되는 경우가 있어 Groupby할때 기사발행일까지 필요\n",
    "전체기사수 = pd.DataFrame(정상기업뉴스.groupby(['기업', '기사발행일']).count()['긍정부정분류'])\n",
    "전체기사수.reset_index(drop = False, inplace = True)\n",
    "전체기사수.columns = ['기업', '기사발행일', '전체기사수']\n",
    "\n",
    "부정기사수 = pd.DataFrame(정상기업뉴스[정상기업뉴스.긍정부정분류==1].groupby(['기업', '기사발행일']).count()['긍정부정분류'])\n",
    "부정기사수.reset_index(drop = False, inplace = True)\n",
    "부정기사수.columns = ['기업', '기사발행일', '부정기사수']\n",
    "\n",
    "정상기업 = pd.merge(전체기사수, 부정기사수, on=['기업', '기사발행일'], how='left')\n",
    "정상기업['부정기사비율'] = (정상기업['부정기사수'] / 정상기업['전체기사수']) * 100\n",
    "정상기업.fillna(0, inplace=True)\n",
    "정상기업['기사발행일'] = 정상기업['기사발행일'].astype(int)\n",
    "정상기업['기사발행일'] = 정상기업['기사발행일'].apply(lambda x: x-2)\n",
    "정상기업.drop(['전체기사수', '부정기사수'], axis=1, inplace=True)\n",
    "정상기업.columns = ['회사명', '회계년도', '부정기사비율']\n",
    "정상기업"
   ]
  },
  {
   "cell_type": "code",
   "execution_count": 24,
   "metadata": {},
   "outputs": [],
   "source": [
    "## 정상기업 재무비율을 가져와서 부정기사비율과 결합하여 저장\n",
    "정상기업재무비율 = pd.read_csv('../Step1-2_재무비율_모델링/datasets/재무비율.csv')\n",
    "정상기업재무비율 = 정상기업재무비율[정상기업재무비율.부실기업여부==0]\n",
    "정상기업_감성분석 = pd.merge(정상기업재무비율, 정상기업, how='left', on=['회사명', '회계년도'])\n",
    "정상기업_감성분석.fillna(0, inplace=True)\n",
    "정상기업_감성분석.to_csv('../Step5-2_감성분석_모델링/datasets/정상기업_부정기사비율_데이터.csv', index=None, encoding='utf-8-sig')\n"
   ]
  }
 ],
 "metadata": {
  "kernelspec": {
   "display_name": "Python 3.8.8 64-bit",
   "language": "python",
   "name": "python3"
  },
  "language_info": {
   "codemirror_mode": {
    "name": "ipython",
    "version": 3
   },
   "file_extension": ".py",
   "mimetype": "text/x-python",
   "name": "python",
   "nbconvert_exporter": "python",
   "pygments_lexer": "ipython3",
   "version": "3.8.0"
  },
  "orig_nbformat": 4,
  "vscode": {
   "interpreter": {
    "hash": "c2e55c9285be7209c352033cdce09d8fd6005e5e0666f201e74b15d445dd77cd"
   }
  }
 },
 "nbformat": 4,
 "nbformat_minor": 2
}
