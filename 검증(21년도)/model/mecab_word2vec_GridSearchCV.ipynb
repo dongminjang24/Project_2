{
 "cells": [
  {
   "cell_type": "code",
   "execution_count": 3,
   "metadata": {},
   "outputs": [],
   "source": [
    "from catboost import CatBoostClassifier\n",
    "from xgboost import XGBClassifier\n",
    "from sklearn.ensemble import RandomForestClassifier\n",
    "from sklearn.preprocessing import RobustScaler\n",
    "from sklearn.model_selection import train_test_split, GridSearchCV\n",
    "from sklearn.linear_model import LogisticRegression\n",
    "from sklearn.ensemble import VotingClassifier\n",
    "from sklearn.metrics import f1_score, accuracy_score, recall_score, precision_score, roc_auc_score\n",
    "from sklearn.svm import SVC\n",
    "from xgboost import XGBClassifier\n",
    "from catboost import CatBoostClassifier\n",
    "\n",
    "import random\n",
    "import pandas as pd\n",
    "import numpy as np\n"
   ]
  },
  {
   "cell_type": "code",
   "execution_count": 4,
   "metadata": {},
   "outputs": [
    {
     "data": {
      "text/html": [
       "<div>\n",
       "<style scoped>\n",
       "    .dataframe tbody tr th:only-of-type {\n",
       "        vertical-align: middle;\n",
       "    }\n",
       "\n",
       "    .dataframe tbody tr th {\n",
       "        vertical-align: top;\n",
       "    }\n",
       "\n",
       "    .dataframe thead th {\n",
       "        text-align: right;\n",
       "    }\n",
       "</style>\n",
       "<table border=\"1\" class=\"dataframe\">\n",
       "  <thead>\n",
       "    <tr style=\"text-align: right;\">\n",
       "      <th></th>\n",
       "      <th>회사명</th>\n",
       "      <th>회계년도</th>\n",
       "      <th>운전자본비율</th>\n",
       "      <th>이익잉여금총자산비율</th>\n",
       "      <th>총자산이익율</th>\n",
       "      <th>시장가부채비율</th>\n",
       "      <th>매출액회전율</th>\n",
       "      <th>부도기사비율</th>\n",
       "      <th>부실기업여부</th>\n",
       "    </tr>\n",
       "  </thead>\n",
       "  <tbody>\n",
       "    <tr>\n",
       "      <th>0</th>\n",
       "      <td>네이쳐글로벌</td>\n",
       "      <td>2009</td>\n",
       "      <td>74.492049</td>\n",
       "      <td>-49.803589</td>\n",
       "      <td>-3.371182</td>\n",
       "      <td>673.432622</td>\n",
       "      <td>6.028268</td>\n",
       "      <td>10.810811</td>\n",
       "      <td>1</td>\n",
       "    </tr>\n",
       "    <tr>\n",
       "      <th>1</th>\n",
       "      <td>네프로아이티</td>\n",
       "      <td>2009</td>\n",
       "      <td>-0.465154</td>\n",
       "      <td>19.338150</td>\n",
       "      <td>13.884726</td>\n",
       "      <td>157.344363</td>\n",
       "      <td>76.780711</td>\n",
       "      <td>38.235294</td>\n",
       "      <td>1</td>\n",
       "    </tr>\n",
       "    <tr>\n",
       "      <th>2</th>\n",
       "      <td>뉴젠아이씨티</td>\n",
       "      <td>2009</td>\n",
       "      <td>27.593677</td>\n",
       "      <td>-1075.333708</td>\n",
       "      <td>-28.342808</td>\n",
       "      <td>136.342262</td>\n",
       "      <td>40.747316</td>\n",
       "      <td>16.494845</td>\n",
       "      <td>1</td>\n",
       "    </tr>\n",
       "    <tr>\n",
       "      <th>3</th>\n",
       "      <td>트루아워</td>\n",
       "      <td>2009</td>\n",
       "      <td>52.368738</td>\n",
       "      <td>-19.102365</td>\n",
       "      <td>-25.573719</td>\n",
       "      <td>412.297157</td>\n",
       "      <td>33.436299</td>\n",
       "      <td>46.341463</td>\n",
       "      <td>1</td>\n",
       "    </tr>\n",
       "    <tr>\n",
       "      <th>4</th>\n",
       "      <td>디패션</td>\n",
       "      <td>2009</td>\n",
       "      <td>20.920391</td>\n",
       "      <td>-333.294194</td>\n",
       "      <td>-23.158301</td>\n",
       "      <td>170.052742</td>\n",
       "      <td>71.074703</td>\n",
       "      <td>30.000000</td>\n",
       "      <td>1</td>\n",
       "    </tr>\n",
       "    <tr>\n",
       "      <th>...</th>\n",
       "      <td>...</td>\n",
       "      <td>...</td>\n",
       "      <td>...</td>\n",
       "      <td>...</td>\n",
       "      <td>...</td>\n",
       "      <td>...</td>\n",
       "      <td>...</td>\n",
       "      <td>...</td>\n",
       "      <td>...</td>\n",
       "    </tr>\n",
       "    <tr>\n",
       "      <th>265</th>\n",
       "      <td>지니뮤직</td>\n",
       "      <td>2016</td>\n",
       "      <td>45.063046</td>\n",
       "      <td>-14.623948</td>\n",
       "      <td>4.450491</td>\n",
       "      <td>262.390477</td>\n",
       "      <td>101.096537</td>\n",
       "      <td>4.761905</td>\n",
       "      <td>0</td>\n",
       "    </tr>\n",
       "    <tr>\n",
       "      <th>266</th>\n",
       "      <td>대주전자재료</td>\n",
       "      <td>2016</td>\n",
       "      <td>-8.786573</td>\n",
       "      <td>9.737698</td>\n",
       "      <td>2.277756</td>\n",
       "      <td>170.648920</td>\n",
       "      <td>48.084200</td>\n",
       "      <td>0.000000</td>\n",
       "      <td>0</td>\n",
       "    </tr>\n",
       "    <tr>\n",
       "      <th>267</th>\n",
       "      <td>크리스에프앤씨</td>\n",
       "      <td>2016</td>\n",
       "      <td>30.558431</td>\n",
       "      <td>46.651963</td>\n",
       "      <td>19.919396</td>\n",
       "      <td>213.287219</td>\n",
       "      <td>133.252743</td>\n",
       "      <td>15.789474</td>\n",
       "      <td>0</td>\n",
       "    </tr>\n",
       "    <tr>\n",
       "      <th>268</th>\n",
       "      <td>앤디포스</td>\n",
       "      <td>2016</td>\n",
       "      <td>81.281282</td>\n",
       "      <td>35.275974</td>\n",
       "      <td>18.934118</td>\n",
       "      <td>1071.393920</td>\n",
       "      <td>79.493948</td>\n",
       "      <td>0.000000</td>\n",
       "      <td>0</td>\n",
       "    </tr>\n",
       "    <tr>\n",
       "      <th>269</th>\n",
       "      <td>에이치엘비</td>\n",
       "      <td>2018</td>\n",
       "      <td>31.643601</td>\n",
       "      <td>13.030604</td>\n",
       "      <td>0.544161</td>\n",
       "      <td>321.677578</td>\n",
       "      <td>11.901687</td>\n",
       "      <td>5.714286</td>\n",
       "      <td>0</td>\n",
       "    </tr>\n",
       "  </tbody>\n",
       "</table>\n",
       "<p>270 rows × 9 columns</p>\n",
       "</div>"
      ],
      "text/plain": [
       "         회사명  회계년도     운전자본비율   이익잉여금총자산비율     총자산이익율      시장가부채비율  \\\n",
       "0     네이쳐글로벌  2009  74.492049   -49.803589  -3.371182   673.432622   \n",
       "1     네프로아이티  2009  -0.465154    19.338150  13.884726   157.344363   \n",
       "2     뉴젠아이씨티  2009  27.593677 -1075.333708 -28.342808   136.342262   \n",
       "3       트루아워  2009  52.368738   -19.102365 -25.573719   412.297157   \n",
       "4        디패션  2009  20.920391  -333.294194 -23.158301   170.052742   \n",
       "..       ...   ...        ...          ...        ...          ...   \n",
       "265     지니뮤직  2016  45.063046   -14.623948   4.450491   262.390477   \n",
       "266   대주전자재료  2016  -8.786573     9.737698   2.277756   170.648920   \n",
       "267  크리스에프앤씨  2016  30.558431    46.651963  19.919396   213.287219   \n",
       "268     앤디포스  2016  81.281282    35.275974  18.934118  1071.393920   \n",
       "269    에이치엘비  2018  31.643601    13.030604   0.544161   321.677578   \n",
       "\n",
       "         매출액회전율     부도기사비율  부실기업여부  \n",
       "0      6.028268  10.810811       1  \n",
       "1     76.780711  38.235294       1  \n",
       "2     40.747316  16.494845       1  \n",
       "3     33.436299  46.341463       1  \n",
       "4     71.074703  30.000000       1  \n",
       "..          ...        ...     ...  \n",
       "265  101.096537   4.761905       0  \n",
       "266   48.084200   0.000000       0  \n",
       "267  133.252743  15.789474       0  \n",
       "268   79.493948   0.000000       0  \n",
       "269   11.901687   5.714286       0  \n",
       "\n",
       "[270 rows x 9 columns]"
      ]
     },
     "execution_count": 4,
     "metadata": {},
     "output_type": "execute_result"
    }
   ],
   "source": [
    "data = pd.read_csv('./mecab_word2vec_재무비율.csv')\n",
    "data.rename(columns={'운전자산총자본비율':'운전자본비율'}, inplace=True)\n",
    "data.fillna(0, inplace=True)\n",
    "# data.drop(['회사명', '회계년도', '폐지일자'], axis=1, inplace=True)\n",
    "input = data.iloc[:,2:8]\n",
    "target = data.iloc[:,8]\n",
    "\n",
    "columns = ['Accuracy', 'Roc_auc_score', 'Recall']\n",
    "비교테이블 = pd.DataFrame(columns = columns)\n",
    "\n",
    "np.random.seed(42)\n",
    "data"
   ]
  },
  {
   "cell_type": "markdown",
   "metadata": {},
   "source": [
    "## XGBClassifier\n",
    "##### 설명 참고 : https://wooono.tistory.com/97"
   ]
  },
  {
   "cell_type": "code",
   "execution_count": 33,
   "metadata": {},
   "outputs": [
    {
     "name": "stdout",
     "output_type": "stream",
     "text": [
      "best f1 : 0.9255411255411256\n",
      "best param :  {'gamma': 2, 'learning_rate': 0.1, 'max_depth': 3, 'n_estimators': 100}\n"
     ]
    }
   ],
   "source": [
    "x_train, x_test, y_train, y_test = train_test_split(input, target, random_state=42, test_size=0.2)\n",
    "\n",
    "rs = RobustScaler()\n",
    "x_train = rs.fit_transform(x_train)\n",
    "x_test = rs.fit_transform(x_test)\n",
    "\n",
    "xgb = XGBClassifier(random_state=42)\n",
    "\n",
    "xgb_param_grid = {'n_estimators' : [100, 200],\n",
    "                'learning_rate' : [0.01, 0.05, 0.1],\n",
    "                'max_depth' : [3, 5, 7],\n",
    "                'gamma' : [0, 1, 2]}\n",
    "\n",
    "xgb_grid = GridSearchCV(xgb, param_grid=xgb_param_grid, scoring='roc_auc', verbose=0, n_jobs=1)\n",
    "xgb_grid.fit(x_train, y_train)\n",
    "\n",
    "print(f'best f1 : {xgb_grid.best_score_}')\n",
    "print('best param : ', xgb_grid.best_params_)\n",
    "\n",
    "## 참고 : https://cjh34544.tistory.com/m/4\n",
    "## http://aispiration.com/model/model-python-xgboost-hyper.html"
   ]
  },
  {
   "cell_type": "code",
   "execution_count": 4,
   "metadata": {},
   "outputs": [
    {
     "name": "stdout",
     "output_type": "stream",
     "text": [
      "best f1 : 0.9532664305391577\n",
      "best param :  {'gamma': 2, 'learning_rate': 0.01, 'max_depth': 3, 'n_estimators': 200}\n"
     ]
    }
   ],
   "source": [
    "x_train, x_test, y_train, y_test = train_test_split(input, target, random_state=42, test_size=0.2)\n",
    "\n",
    "xgb = XGBClassifier(random_state=42)\n",
    "\n",
    "xgb_param_grid = {'n_estimators' : [100, 200],\n",
    "                'learning_rate' : [0.01, 0.05, 0.1],\n",
    "                'max_depth' : [3, 5, 7],\n",
    "                'gamma' : [0, 1, 2]}\n",
    "\n",
    "xgb_grid = GridSearchCV(xgb, param_grid=xgb_param_grid, scoring='roc_auc', verbose=0, n_jobs=1)\n",
    "xgb_grid.fit(x_train, y_train)\n",
    "\n",
    "print(f'best f1 : {xgb_grid.best_score_}')\n",
    "print('best param : ', xgb_grid.best_params_)\n",
    "\n",
    "## 참고 : https://cjh34544.tistory.com/m/4\n",
    "## http://aispiration.com/model/model-python-xgboost-hyper.html"
   ]
  },
  {
   "cell_type": "markdown",
   "metadata": {},
   "source": [
    "## Logistic"
   ]
  },
  {
   "cell_type": "code",
   "execution_count": 5,
   "metadata": {},
   "outputs": [
    {
     "name": "stdout",
     "output_type": "stream",
     "text": [
      "best f1 : 0.9374458874458875\n",
      "best param :  {'C': 0.1, 'penalty': 'l2'}\n"
     ]
    },
    {
     "name": "stderr",
     "output_type": "stream",
     "text": [
      "c:\\Users\\dbswo\\AppData\\Local\\Programs\\Python\\Python38\\lib\\site-packages\\sklearn\\model_selection\\_validation.py:378: FitFailedWarning: \n",
      "25 fits failed out of a total of 50.\n",
      "The score on these train-test partitions for these parameters will be set to nan.\n",
      "If these failures are not expected, you can try to debug them by setting error_score='raise'.\n",
      "\n",
      "Below are more details about the failures:\n",
      "--------------------------------------------------------------------------------\n",
      "25 fits failed with the following error:\n",
      "Traceback (most recent call last):\n",
      "  File \"c:\\Users\\dbswo\\AppData\\Local\\Programs\\Python\\Python38\\lib\\site-packages\\sklearn\\model_selection\\_validation.py\", line 686, in _fit_and_score\n",
      "    estimator.fit(X_train, y_train, **fit_params)\n",
      "  File \"c:\\Users\\dbswo\\AppData\\Local\\Programs\\Python\\Python38\\lib\\site-packages\\sklearn\\linear_model\\_logistic.py\", line 1091, in fit\n",
      "    solver = _check_solver(self.solver, self.penalty, self.dual)\n",
      "  File \"c:\\Users\\dbswo\\AppData\\Local\\Programs\\Python\\Python38\\lib\\site-packages\\sklearn\\linear_model\\_logistic.py\", line 61, in _check_solver\n",
      "    raise ValueError(\n",
      "ValueError: Solver lbfgs supports only 'l2' or 'none' penalties, got l1 penalty.\n",
      "\n",
      "  warnings.warn(some_fits_failed_message, FitFailedWarning)\n",
      "c:\\Users\\dbswo\\AppData\\Local\\Programs\\Python\\Python38\\lib\\site-packages\\sklearn\\model_selection\\_search.py:953: UserWarning: One or more of the test scores are non-finite: [       nan 0.92884691        nan 0.93266431        nan 0.93744589\n",
      "        nan 0.9311098         nan 0.92640693]\n",
      "  warnings.warn(\n"
     ]
    }
   ],
   "source": [
    "x_train, x_test, y_train, y_test = train_test_split(input, target, random_state=42, test_size=0.2)\n",
    "\n",
    "rs = RobustScaler()\n",
    "x_train = rs.fit_transform(x_train)\n",
    "x_test = rs.fit_transform(x_test)\n",
    "\n",
    "lr = LogisticRegression(random_state=42)\n",
    "\n",
    "lr_param_grid = {'C' : [0.001, 0.01, 0.1, 1, 10],\n",
    "                'penalty' : ['l1', 'l2']}\n",
    "\n",
    "lr_grid = GridSearchCV(lr, param_grid=lr_param_grid, scoring='roc_auc', verbose=0, n_jobs=1)\n",
    "lr_grid.fit(x_train, y_train)\n",
    "\n",
    "print(f'best f1 : {lr_grid.best_score_}')\n",
    "print('best param : ', lr_grid.best_params_)\n",
    "\n",
    "# 참고 : https://wikidocs.net/16594\n"
   ]
  },
  {
   "cell_type": "code",
   "execution_count": 6,
   "metadata": {},
   "outputs": [
    {
     "name": "stdout",
     "output_type": "stream",
     "text": [
      "0.8804945054945055\n"
     ]
    }
   ],
   "source": [
    "pred = lr_grid.best_estimator_.predict_proba(x_test)\n",
    "roc = roc_auc_score(y_test, pred[:,1])\n",
    "print(roc)"
   ]
  },
  {
   "cell_type": "code",
   "execution_count": 3,
   "metadata": {},
   "outputs": [
    {
     "name": "stdout",
     "output_type": "stream",
     "text": [
      "best f1 : 0.9328807556080283\n",
      "best param :  {'C': 0.001, 'penalty': 'l2'}\n"
     ]
    },
    {
     "name": "stderr",
     "output_type": "stream",
     "text": [
      "c:\\Users\\dbswo\\AppData\\Local\\Programs\\Python\\Python38\\lib\\site-packages\\sklearn\\model_selection\\_validation.py:378: FitFailedWarning: \n",
      "25 fits failed out of a total of 50.\n",
      "The score on these train-test partitions for these parameters will be set to nan.\n",
      "If these failures are not expected, you can try to debug them by setting error_score='raise'.\n",
      "\n",
      "Below are more details about the failures:\n",
      "--------------------------------------------------------------------------------\n",
      "25 fits failed with the following error:\n",
      "Traceback (most recent call last):\n",
      "  File \"c:\\Users\\dbswo\\AppData\\Local\\Programs\\Python\\Python38\\lib\\site-packages\\sklearn\\model_selection\\_validation.py\", line 686, in _fit_and_score\n",
      "    estimator.fit(X_train, y_train, **fit_params)\n",
      "  File \"c:\\Users\\dbswo\\AppData\\Local\\Programs\\Python\\Python38\\lib\\site-packages\\sklearn\\linear_model\\_logistic.py\", line 1091, in fit\n",
      "    solver = _check_solver(self.solver, self.penalty, self.dual)\n",
      "  File \"c:\\Users\\dbswo\\AppData\\Local\\Programs\\Python\\Python38\\lib\\site-packages\\sklearn\\linear_model\\_logistic.py\", line 61, in _check_solver\n",
      "    raise ValueError(\n",
      "ValueError: Solver lbfgs supports only 'l2' or 'none' penalties, got l1 penalty.\n",
      "\n",
      "  warnings.warn(some_fits_failed_message, FitFailedWarning)\n",
      "c:\\Users\\dbswo\\AppData\\Local\\Programs\\Python\\Python38\\lib\\site-packages\\sklearn\\model_selection\\_search.py:953: UserWarning: One or more of the test scores are non-finite: [       nan 0.93288076        nan 0.92943723        nan 0.92683983\n",
      "        nan 0.92640693        nan 0.92640693]\n",
      "  warnings.warn(\n"
     ]
    }
   ],
   "source": [
    "x_train, x_test, y_train, y_test = train_test_split(input, target, random_state=42, test_size=0.2)\n",
    "\n",
    "lr = LogisticRegression(random_state=42)\n",
    "\n",
    "lr_param_grid = {'C' : [0.001, 0.01, 0.1, 1, 10],\n",
    "                'penalty' : ['l1', 'l2']}\n",
    "\n",
    "lr_grid = GridSearchCV(lr, param_grid=lr_param_grid, scoring='roc_auc', verbose=0, n_jobs=1)\n",
    "lr_grid.fit(x_train, y_train)\n",
    "\n",
    "print(f'best f1 : {lr_grid.best_score_}')\n",
    "print('best param : ', lr_grid.best_params_)\n",
    "\n",
    "# 참고 : https://wikidocs.net/16594"
   ]
  },
  {
   "cell_type": "markdown",
   "metadata": {},
   "source": [
    "## RandomForest"
   ]
  },
  {
   "cell_type": "code",
   "execution_count": 7,
   "metadata": {},
   "outputs": [
    {
     "name": "stdout",
     "output_type": "stream",
     "text": [
      "best roc : 0.9254624163715072\n",
      "best param :  {'max_depth': 5, 'min_samples_leaf': 8, 'min_samples_split': 8, 'n_estimators': 200}\n"
     ]
    }
   ],
   "source": [
    "x_train, x_test, y_train, y_test = train_test_split(input, target, random_state=42, test_size=0.2)\n",
    "\n",
    "rs = RobustScaler()\n",
    "x_train = rs.fit_transform(x_train)\n",
    "x_test = rs.fit_transform(x_test)\n",
    "\n",
    "rf = RandomForestClassifier(random_state=42)\n",
    "\n",
    "rf_param_grid = {'n_estimators' : [100, 200],\n",
    "                'max_depth' : [3, 5, 7],\n",
    "                'min_samples_leaf' : [8, 12, 16],\n",
    "                'min_samples_split' : [8, 16, 20]}\n",
    "\n",
    "rf_grid = GridSearchCV(rf, param_grid=rf_param_grid, scoring='roc_auc', verbose=0, n_jobs=1)\n",
    "rf_grid.fit(x_train, y_train)\n",
    "\n",
    "print(f'best roc : {rf_grid.best_score_}')\n",
    "print('best param : ', rf_grid.best_params_)\n",
    "\n",
    "## 참고 : https://techblog-history-younghunjo1.tistory.com/102\n",
    "## https://jaaamj.tistory.com/35\n"
   ]
  },
  {
   "cell_type": "code",
   "execution_count": 8,
   "metadata": {},
   "outputs": [
    {
     "name": "stdout",
     "output_type": "stream",
     "text": [
      "0.9065934065934065\n"
     ]
    }
   ],
   "source": [
    "pred = rf_grid.best_estimator_.predict_proba(x_test)\n",
    "roc = roc_auc_score(y_test, pred[:,1])\n",
    "print(roc)"
   ]
  },
  {
   "cell_type": "code",
   "execution_count": 5,
   "metadata": {},
   "outputs": [
    {
     "name": "stdout",
     "output_type": "stream",
     "text": [
      "best f1 : 0.9254624163715072\n",
      "best param :  {'max_depth': 5, 'min_samples_leaf': 8, 'min_samples_split': 8, 'n_estimators': 200}\n"
     ]
    }
   ],
   "source": [
    "x_train, x_test, y_train, y_test = train_test_split(input, target, random_state=42, test_size=0.2)\n",
    "\n",
    "rf = RandomForestClassifier(random_state=42)\n",
    "\n",
    "rf_param_grid = {'n_estimators' : [100, 200],\n",
    "                'max_depth' : [3, 5, 7],\n",
    "                'min_samples_leaf' : [8, 12, 16],\n",
    "                'min_samples_split' : [8, 16, 20]}\n",
    "\n",
    "rf_grid = GridSearchCV(rf, param_grid=rf_param_grid, scoring='roc_auc', verbose=0, n_jobs=1)\n",
    "rf_grid.fit(x_train, y_train)\n",
    "\n",
    "print(f'best f1 : {rf_grid.best_score_}')\n",
    "print('best param : ', rf_grid.best_params_)\n",
    "\n",
    "## 참고 : https://techblog-history-younghunjo1.tistory.com/102\n",
    "## https://jaaamj.tistory.com/35"
   ]
  },
  {
   "cell_type": "markdown",
   "metadata": {},
   "source": [
    "## SVM"
   ]
  },
  {
   "cell_type": "code",
   "execution_count": 14,
   "metadata": {},
   "outputs": [
    {
     "name": "stdout",
     "output_type": "stream",
     "text": [
      "best roc : 0.9378591105863834\n",
      "best param :  {'C': 10, 'gamma': 0.001}\n"
     ]
    }
   ],
   "source": [
    "x_train, x_test, y_train, y_test = train_test_split(input, target, random_state=42, test_size=0.2)\n",
    "\n",
    "rs = RobustScaler()\n",
    "x_train = rs.fit_transform(x_train)\n",
    "x_test = rs.fit_transform(x_test)\n",
    "\n",
    "svc = SVC(random_state=42)\n",
    "\n",
    "svc_param_grid = {'C' : [0.001, 0.01, 0.1, 1, 10],\n",
    "                'gamma' : [0.001, 0.01, 0.1, 1, 10]}\n",
    "\n",
    "svc_grid = GridSearchCV(svc, param_grid=svc_param_grid, scoring='roc_auc', verbose=0, n_jobs=1)\n",
    "svc_grid.fit(x_train, y_train)\n",
    "\n",
    "print(f'best roc : {svc_grid.best_score_}')\n",
    "print('best param : ', svc_grid.best_params_)"
   ]
  },
  {
   "cell_type": "code",
   "execution_count": 15,
   "metadata": {},
   "outputs": [
    {
     "data": {
      "text/plain": [
       "['robustscaler.pkl']"
      ]
     },
     "execution_count": 15,
     "metadata": {},
     "output_type": "execute_result"
    }
   ],
   "source": [
    "import joblib\n",
    "joblib.dump(rs, 'robustscaler.pkl')"
   ]
  },
  {
   "cell_type": "code",
   "execution_count": 10,
   "metadata": {},
   "outputs": [
    {
     "name": "stdout",
     "output_type": "stream",
     "text": [
      "0.9065934065934065\n"
     ]
    }
   ],
   "source": [
    "pred = rf_grid.best_estimator_.predict_proba(x_test)\n",
    "roc = roc_auc_score(y_test, pred[:,1])\n",
    "print(roc)"
   ]
  },
  {
   "cell_type": "code",
   "execution_count": 16,
   "metadata": {},
   "outputs": [
    {
     "name": "stdout",
     "output_type": "stream",
     "text": [
      "best f1 : 0.8655745769382133\n",
      "best param :  {'C': 1, 'gamma': 0.001}\n"
     ]
    }
   ],
   "source": [
    "x_train, x_test, y_train, y_test = train_test_split(input, target, random_state=42, test_size=0.2)\n",
    "\n",
    "svc = SVC(random_state=42)\n",
    "\n",
    "svc_param_grid = {'C' : [0.001, 0.01, 0.1, 1, 10],\n",
    "                'gamma' : [0.001, 0.01, 0.1, 1, 10]}\n",
    "\n",
    "svc_grid = GridSearchCV(svc, param_grid=svc_param_grid, scoring='roc_auc', verbose=0, n_jobs=1)\n",
    "svc_grid.fit(x_train, y_train)\n",
    "\n",
    "print(f'best f1 : {svc_grid.best_score_}')\n",
    "print('best param : ', svc_grid.best_params_)"
   ]
  },
  {
   "cell_type": "markdown",
   "metadata": {},
   "source": [
    "### CatBoostClassifier는 파라미터 조정이 성능에 크게 영향을 미치지 않는다는 말이 많아 일단 생략함\n",
    "##### https://velog.io/@jus6886/Catboost\n",
    "##### https://undeadkwandoll.tistory.com/61\n",
    "##### https://www.kci.go.kr/kciportal/ci/sereArticleSearch/ciSereArtiView.kci?sereArticleSearchBean.artiId=ART002698429\n",
    "#### CatBoost 설명\n",
    "##### https://dailyheumsi.tistory.com/136\n",
    "##### https://techblog-history-younghunjo1.tistory.com/199\n",
    "##### https://heeya-stupidbutstudying.tistory.com/43?category=950711\n"
   ]
  },
  {
   "cell_type": "code",
   "execution_count": 37,
   "metadata": {},
   "outputs": [
    {
     "name": "stdout",
     "output_type": "stream",
     "text": [
      "0.8145604395604396\n"
     ]
    }
   ],
   "source": [
    "x_train, x_test, y_train, y_test = train_test_split(input, target, random_state=42, test_size=0.2)\n",
    "\n",
    "rs = RobustScaler()\n",
    "x_train = rs.fit_transform(x_train)\n",
    "x_test = rs.fit_transform(x_test)\n",
    "\n",
    "cat = CatBoostClassifier(random_state=42, verbose=0)\n",
    "cat.fit(x_train, y_train)\n",
    "pred = cat.predict(x_test)\n",
    "\n",
    "acc = accuracy_score(y_test, pred)\n",
    "recall = recall_score(y_test, pred)\n",
    "precision = precision_score(y_test, pred)\n",
    "roc = roc_auc_score(y_test, pred)\n",
    "\n",
    "print(roc)"
   ]
  }
 ],
 "metadata": {
  "kernelspec": {
   "display_name": "Python 3.8.0 64-bit",
   "language": "python",
   "name": "python3"
  },
  "language_info": {
   "codemirror_mode": {
    "name": "ipython",
    "version": 3
   },
   "file_extension": ".py",
   "mimetype": "text/x-python",
   "name": "python",
   "nbconvert_exporter": "python",
   "pygments_lexer": "ipython3",
   "version": "3.8.0"
  },
  "orig_nbformat": 4,
  "vscode": {
   "interpreter": {
    "hash": "c2e55c9285be7209c352033cdce09d8fd6005e5e0666f201e74b15d445dd77cd"
   }
  }
 },
 "nbformat": 4,
 "nbformat_minor": 2
}
