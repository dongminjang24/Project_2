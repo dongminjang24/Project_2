{
 "cells": [
  {
   "cell_type": "code",
   "execution_count": 1,
   "metadata": {},
   "outputs": [],
   "source": [
    "import pandas as pd"
   ]
  },
  {
   "cell_type": "code",
   "execution_count": 15,
   "metadata": {},
   "outputs": [
    {
     "data": {
      "text/html": [
       "<div>\n",
       "<style scoped>\n",
       "    .dataframe tbody tr th:only-of-type {\n",
       "        vertical-align: middle;\n",
       "    }\n",
       "\n",
       "    .dataframe tbody tr th {\n",
       "        vertical-align: top;\n",
       "    }\n",
       "\n",
       "    .dataframe thead th {\n",
       "        text-align: right;\n",
       "    }\n",
       "</style>\n",
       "<table border=\"1\" class=\"dataframe\">\n",
       "  <thead>\n",
       "    <tr style=\"text-align: right;\">\n",
       "      <th></th>\n",
       "      <th>기업</th>\n",
       "      <th>기사발행일</th>\n",
       "      <th>기사제목</th>\n",
       "      <th>뉴스기사본문전처리</th>\n",
       "      <th>기사번역</th>\n",
       "    </tr>\n",
       "  </thead>\n",
       "  <tbody>\n",
       "    <tr>\n",
       "      <th>0</th>\n",
       "      <td>네이쳐글로벌</td>\n",
       "      <td>2010.10.01. 오전 9:23</td>\n",
       "      <td>[특징주] 네이쳐글로벌 상한가…\"전 대표 횡령 확인 안돼\"</td>\n",
       "      <td>비메모리 반도체 업체인 네이쳐글로벌이 전 대표 횡령 혐의에 대해 확인된 바 없다고 ...</td>\n",
       "      <td>[특징주] 네이쳐글로벌 상한가…\"전 대표 횡령 확인 안돼\"</td>\n",
       "    </tr>\n",
       "    <tr>\n",
       "      <th>1</th>\n",
       "      <td>네이쳐글로벌</td>\n",
       "      <td>2010.09.28. 오후 4:29</td>\n",
       "      <td>네이쳐글로벌, 네비스탁측이 74만여주 장내매도</td>\n",
       "      <td>네비스탁은 특별관계자로 포함된 개인투자자들이 네이쳐글로벌 주식 만주를 장내 매도했...</td>\n",
       "      <td>네이쳐글로벌, 네비스탁측이 74만여주 장내매도</td>\n",
       "    </tr>\n",
       "    <tr>\n",
       "      <th>2</th>\n",
       "      <td>네이쳐글로벌</td>\n",
       "      <td>2010.09.16. 오전 9:23</td>\n",
       "      <td>[특징주] 네이쳐글로벌, 투자경고 지정 이후 약세</td>\n",
       "      <td>네이쳐글로벌이 투자경고 지정 소식에 이어 전환사채 물량 상장에 따른 수급 불안으로 ...</td>\n",
       "      <td>[특징주] 네이쳐글로벌, 투자경고 지정 이후 약세</td>\n",
       "    </tr>\n",
       "    <tr>\n",
       "      <th>3</th>\n",
       "      <td>네이쳐글로벌</td>\n",
       "      <td>2010.09.14. 오후 4:21</td>\n",
       "      <td>네비스탁외 51인, 네이쳐글로벌 지분 1.26% 줄어</td>\n",
       "      <td>네비스탁외 인은 일 신규 소액주주 의결권 규합 및 보유주식수 변동에 따라 네이쳐글...</td>\n",
       "      <td>네비스탁외 51인, 네이쳐글로벌 지분 1.26% 줄어</td>\n",
       "    </tr>\n",
       "    <tr>\n",
       "      <th>4</th>\n",
       "      <td>네이쳐글로벌</td>\n",
       "      <td>2010.09.16. 오후 8:08</td>\n",
       "      <td>네이쳐글로벌, 공시번복..불성실공시법인 지정</td>\n",
       "      <td>한국거래소 코스닥시장본부는 일 네이쳐글로벌에 대해 공시번복으로 인해 불성실공시법인...</td>\n",
       "      <td>네이쳐글로벌, 공시번복..불성실공시법인 지정</td>\n",
       "    </tr>\n",
       "    <tr>\n",
       "      <th>...</th>\n",
       "      <td>...</td>\n",
       "      <td>...</td>\n",
       "      <td>...</td>\n",
       "      <td>...</td>\n",
       "      <td>...</td>\n",
       "    </tr>\n",
       "    <tr>\n",
       "      <th>5787</th>\n",
       "      <td>코썬바이오</td>\n",
       "      <td>2020.01.10. 오후 7:40</td>\n",
       "      <td>코썬바이오, 불성실공시법인 지정</td>\n",
       "      <td>한국거래소 코스닥시장본부는 일 코썬바이오가 지난해 월 최대주주 변경을 수반하는 주...</td>\n",
       "      <td>코썬바이오, 불성실공시법인 지정</td>\n",
       "    </tr>\n",
       "    <tr>\n",
       "      <th>5788</th>\n",
       "      <td>코썬바이오</td>\n",
       "      <td>2019.12.20. 오후 6:53</td>\n",
       "      <td>거래소, 코썬바이오 불성실 공시법인 지정…23일 주식거래 정지</td>\n",
       "      <td>한국거래소 코스닥시장본부는 오는 일 코썬바이오를 불성실 공시 법인으로 지정한다고 ...</td>\n",
       "      <td>거래소, 코썬바이오 불성실 공시법인 지정…23일 주식거래 정지</td>\n",
       "    </tr>\n",
       "    <tr>\n",
       "      <th>5789</th>\n",
       "      <td>코썬바이오</td>\n",
       "      <td>2019.12.23. 오후 5:17</td>\n",
       "      <td>코썬바이오 불성실 공시법인 지정예고</td>\n",
       "      <td>코썬바이오는 공시불이행으로 불성실 공시법인으로 지정예고 됐다고 일 공시했다.사유는 ...</td>\n",
       "      <td>코썬바이오 불성실 공시법인 지정예고</td>\n",
       "    </tr>\n",
       "    <tr>\n",
       "      <th>5790</th>\n",
       "      <td>코썬바이오</td>\n",
       "      <td>2019.12.23. 오후 5:23</td>\n",
       "      <td>거래소, 코썬바이오 불성실 공시법인 지정예고</td>\n",
       "      <td>한국거래소 코스닥시장본부는 코썬바이오가 공시불이행에 따라 불성실 공시법인으로 지정...</td>\n",
       "      <td>거래소, 코썬바이오 불성실 공시법인 지정예고</td>\n",
       "    </tr>\n",
       "    <tr>\n",
       "      <th>5791</th>\n",
       "      <td>코썬바이오</td>\n",
       "      <td>2020.02.07. 오전 9:58</td>\n",
       "      <td>인프라웨어, 최대주주는 누구?…‘호텔·바이오’ 사업 진출하나</td>\n",
       "      <td>소프트웨어 기업 인프라웨어의 최대주주가 변경된다. 새 최대주주는 호텔업을 운영하는...</td>\n",
       "      <td>인프라웨어, 최대주주는 누구?…‘호텔·바이오’ 사업 진출하나</td>\n",
       "    </tr>\n",
       "  </tbody>\n",
       "</table>\n",
       "<p>5792 rows × 5 columns</p>\n",
       "</div>"
      ],
      "text/plain": [
       "          기업                기사발행일                                기사제목  \\\n",
       "0     네이쳐글로벌  2010.10.01. 오전 9:23    [특징주] 네이쳐글로벌 상한가…\"전 대표 횡령 확인 안돼\"   \n",
       "1     네이쳐글로벌  2010.09.28. 오후 4:29           네이쳐글로벌, 네비스탁측이 74만여주 장내매도   \n",
       "2     네이쳐글로벌  2010.09.16. 오전 9:23         [특징주] 네이쳐글로벌, 투자경고 지정 이후 약세   \n",
       "3     네이쳐글로벌  2010.09.14. 오후 4:21       네비스탁외 51인, 네이쳐글로벌 지분 1.26% 줄어   \n",
       "4     네이쳐글로벌  2010.09.16. 오후 8:08            네이쳐글로벌, 공시번복..불성실공시법인 지정   \n",
       "...      ...                  ...                                 ...   \n",
       "5787   코썬바이오  2020.01.10. 오후 7:40                   코썬바이오, 불성실공시법인 지정   \n",
       "5788   코썬바이오  2019.12.20. 오후 6:53  거래소, 코썬바이오 불성실 공시법인 지정…23일 주식거래 정지   \n",
       "5789   코썬바이오  2019.12.23. 오후 5:17                 코썬바이오 불성실 공시법인 지정예고   \n",
       "5790   코썬바이오  2019.12.23. 오후 5:23            거래소, 코썬바이오 불성실 공시법인 지정예고   \n",
       "5791   코썬바이오  2020.02.07. 오전 9:58   인프라웨어, 최대주주는 누구?…‘호텔·바이오’ 사업 진출하나   \n",
       "\n",
       "                                              뉴스기사본문전처리  \\\n",
       "0     비메모리 반도체 업체인 네이쳐글로벌이 전 대표 횡령 혐의에 대해 확인된 바 없다고 ...   \n",
       "1      네비스탁은 특별관계자로 포함된 개인투자자들이 네이쳐글로벌 주식 만주를 장내 매도했...   \n",
       "2     네이쳐글로벌이 투자경고 지정 소식에 이어 전환사채 물량 상장에 따른 수급 불안으로 ...   \n",
       "3      네비스탁외 인은 일 신규 소액주주 의결권 규합 및 보유주식수 변동에 따라 네이쳐글...   \n",
       "4      한국거래소 코스닥시장본부는 일 네이쳐글로벌에 대해 공시번복으로 인해 불성실공시법인...   \n",
       "...                                                 ...   \n",
       "5787   한국거래소 코스닥시장본부는 일 코썬바이오가 지난해 월 최대주주 변경을 수반하는 주...   \n",
       "5788   한국거래소 코스닥시장본부는 오는 일 코썬바이오를 불성실 공시 법인으로 지정한다고 ...   \n",
       "5789  코썬바이오는 공시불이행으로 불성실 공시법인으로 지정예고 됐다고 일 공시했다.사유는 ...   \n",
       "5790   한국거래소 코스닥시장본부는 코썬바이오가 공시불이행에 따라 불성실 공시법인으로 지정...   \n",
       "5791   소프트웨어 기업 인프라웨어의 최대주주가 변경된다. 새 최대주주는 호텔업을 운영하는...   \n",
       "\n",
       "                                    기사번역  \n",
       "0       [특징주] 네이쳐글로벌 상한가…\"전 대표 횡령 확인 안돼\"  \n",
       "1              네이쳐글로벌, 네비스탁측이 74만여주 장내매도  \n",
       "2            [특징주] 네이쳐글로벌, 투자경고 지정 이후 약세  \n",
       "3          네비스탁외 51인, 네이쳐글로벌 지분 1.26% 줄어  \n",
       "4               네이쳐글로벌, 공시번복..불성실공시법인 지정  \n",
       "...                                  ...  \n",
       "5787                   코썬바이오, 불성실공시법인 지정  \n",
       "5788  거래소, 코썬바이오 불성실 공시법인 지정…23일 주식거래 정지  \n",
       "5789                 코썬바이오 불성실 공시법인 지정예고  \n",
       "5790            거래소, 코썬바이오 불성실 공시법인 지정예고  \n",
       "5791   인프라웨어, 최대주주는 누구?…‘호텔·바이오’ 사업 진출하나  \n",
       "\n",
       "[5792 rows x 5 columns]"
      ]
     },
     "execution_count": 15,
     "metadata": {},
     "output_type": "execute_result"
    }
   ],
   "source": [
    "기사원본=pd.read_csv(\"상폐기업뉴스0702.csv\",encoding=\"utf-8-sig\")\n",
    "기사원본[\"기사번역\"]=기사원본[\"기사제목\"]\n",
    "기사원본"
   ]
  },
  {
   "cell_type": "code",
   "execution_count": 2,
   "metadata": {},
   "outputs": [
    {
     "data": {
      "text/html": [
       "<div>\n",
       "<style scoped>\n",
       "    .dataframe tbody tr th:only-of-type {\n",
       "        vertical-align: middle;\n",
       "    }\n",
       "\n",
       "    .dataframe tbody tr th {\n",
       "        vertical-align: top;\n",
       "    }\n",
       "\n",
       "    .dataframe thead th {\n",
       "        text-align: right;\n",
       "    }\n",
       "</style>\n",
       "<table border=\"1\" class=\"dataframe\">\n",
       "  <thead>\n",
       "    <tr style=\"text-align: right;\">\n",
       "      <th></th>\n",
       "      <th>index</th>\n",
       "      <th>번역</th>\n",
       "    </tr>\n",
       "  </thead>\n",
       "  <tbody>\n",
       "    <tr>\n",
       "      <th>0</th>\n",
       "      <td>0</td>\n",
       "      <td>The KOSDAQ market headquarters of the Korea Ex...</td>\n",
       "    </tr>\n",
       "    <tr>\n",
       "      <th>1</th>\n",
       "      <td>1</td>\n",
       "      <td>The KOSDAQ Market Headquarters of the Korea Ex...</td>\n",
       "    </tr>\n",
       "    <tr>\n",
       "      <th>2</th>\n",
       "      <td>2</td>\n",
       "      <td>Epivally made a public announcement that its r...</td>\n",
       "    </tr>\n",
       "    <tr>\n",
       "      <th>3</th>\n",
       "      <td>3</td>\n",
       "      <td>Epivalry, a backlight unit company, announced ...</td>\n",
       "    </tr>\n",
       "    <tr>\n",
       "      <th>4</th>\n",
       "      <td>4</td>\n",
       "      <td>After the Epi Valley hit its lower limit for a...</td>\n",
       "    </tr>\n",
       "    <tr>\n",
       "      <th>...</th>\n",
       "      <td>...</td>\n",
       "      <td>...</td>\n",
       "    </tr>\n",
       "    <tr>\n",
       "      <th>382</th>\n",
       "      <td>382</td>\n",
       "      <td>Curious announced that it decided to withdraw ...</td>\n",
       "    </tr>\n",
       "    <tr>\n",
       "      <th>383</th>\n",
       "      <td>383</td>\n",
       "      <td>The KOSPI fluctuated without a clear direction...</td>\n",
       "    </tr>\n",
       "    <tr>\n",
       "      <th>384</th>\n",
       "      <td>384</td>\n",
       "      <td>KOSDAQ is maintaining a strong hold as foreign...</td>\n",
       "    </tr>\n",
       "    <tr>\n",
       "      <th>385</th>\n",
       "      <td>385</td>\n",
       "      <td>Tomato Savings Bank, the largest shareholder o...</td>\n",
       "    </tr>\n",
       "    <tr>\n",
       "      <th>386</th>\n",
       "      <td>386</td>\n",
       "      <td>More than 10,000 spectators gathered to watch ...</td>\n",
       "    </tr>\n",
       "  </tbody>\n",
       "</table>\n",
       "<p>387 rows × 2 columns</p>\n",
       "</div>"
      ],
      "text/plain": [
       "     index                                                 번역\n",
       "0        0  The KOSDAQ market headquarters of the Korea Ex...\n",
       "1        1  The KOSDAQ Market Headquarters of the Korea Ex...\n",
       "2        2  Epivally made a public announcement that its r...\n",
       "3        3  Epivalry, a backlight unit company, announced ...\n",
       "4        4  After the Epi Valley hit its lower limit for a...\n",
       "..     ...                                                ...\n",
       "382    382  Curious announced that it decided to withdraw ...\n",
       "383    383  The KOSPI fluctuated without a clear direction...\n",
       "384    384  KOSDAQ is maintaining a strong hold as foreign...\n",
       "385    385  Tomato Savings Bank, the largest shareholder o...\n",
       "386    386  More than 10,000 spectators gathered to watch ...\n",
       "\n",
       "[387 rows x 2 columns]"
      ]
     },
     "execution_count": 2,
     "metadata": {},
     "output_type": "execute_result"
    }
   ],
   "source": [
    "번역_2193_2579=pd.read_csv(\"번역2193_2579.csv\",encoding=\"utf-8\")\n",
    "번역_2193_2579.reset_index(inplace=True)\n",
    "번역_2193_2579"
   ]
  },
  {
   "cell_type": "code",
   "execution_count": 6,
   "metadata": {},
   "outputs": [
    {
     "data": {
      "text/html": [
       "<div>\n",
       "<style scoped>\n",
       "    .dataframe tbody tr th:only-of-type {\n",
       "        vertical-align: middle;\n",
       "    }\n",
       "\n",
       "    .dataframe tbody tr th {\n",
       "        vertical-align: top;\n",
       "    }\n",
       "\n",
       "    .dataframe thead th {\n",
       "        text-align: right;\n",
       "    }\n",
       "</style>\n",
       "<table border=\"1\" class=\"dataframe\">\n",
       "  <thead>\n",
       "    <tr style=\"text-align: right;\">\n",
       "      <th></th>\n",
       "      <th>번역</th>\n",
       "    </tr>\n",
       "  </thead>\n",
       "  <tbody>\n",
       "    <tr>\n",
       "      <th>0</th>\n",
       "      <td>Unid Korea is falling again after another chan...</td>\n",
       "    </tr>\n",
       "    <tr>\n",
       "      <th>1</th>\n",
       "      <td>The opening of the monthly settlement listed c...</td>\n",
       "    </tr>\n",
       "    <tr>\n",
       "      <th>2</th>\n",
       "      <td>The Korea Exchange said in a public announceme...</td>\n",
       "    </tr>\n",
       "    <tr>\n",
       "      <th>3</th>\n",
       "      <td>The KOSDAQ Market Headquarters of the Korea Ex...</td>\n",
       "    </tr>\n",
       "    <tr>\n",
       "      <th>4</th>\n",
       "      <td>Unid Korea announced that outside director Par...</td>\n",
       "    </tr>\n",
       "    <tr>\n",
       "      <th>...</th>\n",
       "      <td>...</td>\n",
       "    </tr>\n",
       "    <tr>\n",
       "      <th>997</th>\n",
       "      <td>IDS made a public announcement that it has dec...</td>\n",
       "    </tr>\n",
       "    <tr>\n",
       "      <th>998</th>\n",
       "      <td>IDS made a public announcement that it has dec...</td>\n",
       "    </tr>\n",
       "    <tr>\n",
       "      <th>999</th>\n",
       "      <td>Module company IDS is recording a lower limit ...</td>\n",
       "    </tr>\n",
       "    <tr>\n",
       "      <th>1000</th>\n",
       "      <td>The Korea Securities Depository announced on t...</td>\n",
       "    </tr>\n",
       "    <tr>\n",
       "      <th>1001</th>\n",
       "      <td>Young entrepreneur Kim Sung-jin was elected as...</td>\n",
       "    </tr>\n",
       "  </tbody>\n",
       "</table>\n",
       "<p>1002 rows × 1 columns</p>\n",
       "</div>"
      ],
      "text/plain": [
       "                                                     번역\n",
       "0     Unid Korea is falling again after another chan...\n",
       "1     The opening of the monthly settlement listed c...\n",
       "2     The Korea Exchange said in a public announceme...\n",
       "3     The KOSDAQ Market Headquarters of the Korea Ex...\n",
       "4     Unid Korea announced that outside director Par...\n",
       "...                                                 ...\n",
       "997   IDS made a public announcement that it has dec...\n",
       "998   IDS made a public announcement that it has dec...\n",
       "999   Module company IDS is recording a lower limit ...\n",
       "1000  The Korea Securities Depository announced on t...\n",
       "1001  Young entrepreneur Kim Sung-jin was elected as...\n",
       "\n",
       "[1002 rows x 1 columns]"
      ]
     },
     "execution_count": 6,
     "metadata": {},
     "output_type": "execute_result"
    }
   ],
   "source": [
    "번역_4000_5002=pd.read_csv(\"./상폐기업4000_5002.csv\",encoding=\"utf-8\")\n",
    "번역_4000_5002"
   ]
  },
  {
   "cell_type": "code",
   "execution_count": 14,
   "metadata": {},
   "outputs": [
    {
     "data": {
      "text/html": [
       "<div>\n",
       "<style scoped>\n",
       "    .dataframe tbody tr th:only-of-type {\n",
       "        vertical-align: middle;\n",
       "    }\n",
       "\n",
       "    .dataframe tbody tr th {\n",
       "        vertical-align: top;\n",
       "    }\n",
       "\n",
       "    .dataframe thead th {\n",
       "        text-align: right;\n",
       "    }\n",
       "</style>\n",
       "<table border=\"1\" class=\"dataframe\">\n",
       "  <thead>\n",
       "    <tr style=\"text-align: right;\">\n",
       "      <th></th>\n",
       "      <th>번역</th>\n",
       "    </tr>\n",
       "  </thead>\n",
       "  <tbody>\n",
       "    <tr>\n",
       "      <th>0</th>\n",
       "      <td>Eco Solution made a public announcement that i...</td>\n",
       "    </tr>\n",
       "    <tr>\n",
       "      <th>1</th>\n",
       "      <td>Eco-solutions are taking a leap forward due to...</td>\n",
       "    </tr>\n",
       "    <tr>\n",
       "      <th>2</th>\n",
       "      <td>Reporter Han Ji-hoon's Eco Solution announced ...</td>\n",
       "    </tr>\n",
       "    <tr>\n",
       "      <th>3</th>\n",
       "      <td>Eco Solution has been hitting the lower limit ...</td>\n",
       "    </tr>\n",
       "    <tr>\n",
       "      <th>4</th>\n",
       "      <td>Eco Solution announced on the last day that it...</td>\n",
       "    </tr>\n",
       "    <tr>\n",
       "      <th>...</th>\n",
       "      <td>...</td>\n",
       "    </tr>\n",
       "    <tr>\n",
       "      <th>1201</th>\n",
       "      <td>In a situation where volatility is expanding l...</td>\n",
       "    </tr>\n",
       "    <tr>\n",
       "      <th>1202</th>\n",
       "      <td>While investors' sentiment is shrinking and tr...</td>\n",
       "    </tr>\n",
       "    <tr>\n",
       "      <th>1203</th>\n",
       "      <td>The biggest concern for individual investors w...</td>\n",
       "    </tr>\n",
       "    <tr>\n",
       "      <th>1204</th>\n",
       "      <td>Coin stocks, which fall short of the price of ...</td>\n",
       "    </tr>\n",
       "    <tr>\n",
       "      <th>1205</th>\n",
       "      <td>With the advent of Super Ant, the first time i...</td>\n",
       "    </tr>\n",
       "  </tbody>\n",
       "</table>\n",
       "<p>1206 rows × 1 columns</p>\n",
       "</div>"
      ],
      "text/plain": [
       "                                                     번역\n",
       "0     Eco Solution made a public announcement that i...\n",
       "1     Eco-solutions are taking a leap forward due to...\n",
       "2     Reporter Han Ji-hoon's Eco Solution announced ...\n",
       "3     Eco Solution has been hitting the lower limit ...\n",
       "4     Eco Solution announced on the last day that it...\n",
       "...                                                 ...\n",
       "1201  In a situation where volatility is expanding l...\n",
       "1202  While investors' sentiment is shrinking and tr...\n",
       "1203  The biggest concern for individual investors w...\n",
       "1204  Coin stocks, which fall short of the price of ...\n",
       "1205  With the advent of Super Ant, the first time i...\n",
       "\n",
       "[1206 rows x 1 columns]"
      ]
     },
     "execution_count": 14,
     "metadata": {},
     "output_type": "execute_result"
    }
   ],
   "source": [
    "번역_0_1207=pd.read_csv(\"./번역0_1207.csv\",encoding=\"utf-8\")\n",
    "번역_0_1207.drop([\"Unnamed: 1\",\"Unnamed: 2\",\"Unnamed: 3\",\"Unnamed: 4\"],inplace=True,axis=1)\n",
    "번역_0_1207"
   ]
  },
  {
   "cell_type": "code",
   "execution_count": 21,
   "metadata": {},
   "outputs": [],
   "source": [
    "for i in range(1206):\n",
    "    기사원본[\"기사번역\"][i]=번역_0_1207[\"번역\"][i]#0~1205"
   ]
  },
  {
   "cell_type": "code",
   "execution_count": 22,
   "metadata": {},
   "outputs": [
    {
     "data": {
      "text/html": [
       "<div>\n",
       "<style scoped>\n",
       "    .dataframe tbody tr th:only-of-type {\n",
       "        vertical-align: middle;\n",
       "    }\n",
       "\n",
       "    .dataframe tbody tr th {\n",
       "        vertical-align: top;\n",
       "    }\n",
       "\n",
       "    .dataframe thead th {\n",
       "        text-align: right;\n",
       "    }\n",
       "</style>\n",
       "<table border=\"1\" class=\"dataframe\">\n",
       "  <thead>\n",
       "    <tr style=\"text-align: right;\">\n",
       "      <th></th>\n",
       "      <th>기업</th>\n",
       "      <th>기사발행일</th>\n",
       "      <th>기사제목</th>\n",
       "      <th>뉴스기사본문전처리</th>\n",
       "      <th>기사번역</th>\n",
       "    </tr>\n",
       "  </thead>\n",
       "  <tbody>\n",
       "    <tr>\n",
       "      <th>0</th>\n",
       "      <td>네이쳐글로벌</td>\n",
       "      <td>2010.10.01. 오전 9:23</td>\n",
       "      <td>[특징주] 네이쳐글로벌 상한가…\"전 대표 횡령 확인 안돼\"</td>\n",
       "      <td>비메모리 반도체 업체인 네이쳐글로벌이 전 대표 횡령 혐의에 대해 확인된 바 없다고 ...</td>\n",
       "      <td>Eco Solution made a public announcement that i...</td>\n",
       "    </tr>\n",
       "    <tr>\n",
       "      <th>1</th>\n",
       "      <td>네이쳐글로벌</td>\n",
       "      <td>2010.09.28. 오후 4:29</td>\n",
       "      <td>네이쳐글로벌, 네비스탁측이 74만여주 장내매도</td>\n",
       "      <td>네비스탁은 특별관계자로 포함된 개인투자자들이 네이쳐글로벌 주식 만주를 장내 매도했...</td>\n",
       "      <td>Eco-solutions are taking a leap forward due to...</td>\n",
       "    </tr>\n",
       "    <tr>\n",
       "      <th>2</th>\n",
       "      <td>네이쳐글로벌</td>\n",
       "      <td>2010.09.16. 오전 9:23</td>\n",
       "      <td>[특징주] 네이쳐글로벌, 투자경고 지정 이후 약세</td>\n",
       "      <td>네이쳐글로벌이 투자경고 지정 소식에 이어 전환사채 물량 상장에 따른 수급 불안으로 ...</td>\n",
       "      <td>Reporter Han Ji-hoon's Eco Solution announced ...</td>\n",
       "    </tr>\n",
       "    <tr>\n",
       "      <th>3</th>\n",
       "      <td>네이쳐글로벌</td>\n",
       "      <td>2010.09.14. 오후 4:21</td>\n",
       "      <td>네비스탁외 51인, 네이쳐글로벌 지분 1.26% 줄어</td>\n",
       "      <td>네비스탁외 인은 일 신규 소액주주 의결권 규합 및 보유주식수 변동에 따라 네이쳐글...</td>\n",
       "      <td>Eco Solution has been hitting the lower limit ...</td>\n",
       "    </tr>\n",
       "    <tr>\n",
       "      <th>4</th>\n",
       "      <td>네이쳐글로벌</td>\n",
       "      <td>2010.09.16. 오후 8:08</td>\n",
       "      <td>네이쳐글로벌, 공시번복..불성실공시법인 지정</td>\n",
       "      <td>한국거래소 코스닥시장본부는 일 네이쳐글로벌에 대해 공시번복으로 인해 불성실공시법인...</td>\n",
       "      <td>Eco Solution announced on the last day that it...</td>\n",
       "    </tr>\n",
       "    <tr>\n",
       "      <th>...</th>\n",
       "      <td>...</td>\n",
       "      <td>...</td>\n",
       "      <td>...</td>\n",
       "      <td>...</td>\n",
       "      <td>...</td>\n",
       "    </tr>\n",
       "    <tr>\n",
       "      <th>5787</th>\n",
       "      <td>코썬바이오</td>\n",
       "      <td>2020.01.10. 오후 7:40</td>\n",
       "      <td>코썬바이오, 불성실공시법인 지정</td>\n",
       "      <td>한국거래소 코스닥시장본부는 일 코썬바이오가 지난해 월 최대주주 변경을 수반하는 주...</td>\n",
       "      <td>코썬바이오, 불성실공시법인 지정</td>\n",
       "    </tr>\n",
       "    <tr>\n",
       "      <th>5788</th>\n",
       "      <td>코썬바이오</td>\n",
       "      <td>2019.12.20. 오후 6:53</td>\n",
       "      <td>거래소, 코썬바이오 불성실 공시법인 지정…23일 주식거래 정지</td>\n",
       "      <td>한국거래소 코스닥시장본부는 오는 일 코썬바이오를 불성실 공시 법인으로 지정한다고 ...</td>\n",
       "      <td>거래소, 코썬바이오 불성실 공시법인 지정…23일 주식거래 정지</td>\n",
       "    </tr>\n",
       "    <tr>\n",
       "      <th>5789</th>\n",
       "      <td>코썬바이오</td>\n",
       "      <td>2019.12.23. 오후 5:17</td>\n",
       "      <td>코썬바이오 불성실 공시법인 지정예고</td>\n",
       "      <td>코썬바이오는 공시불이행으로 불성실 공시법인으로 지정예고 됐다고 일 공시했다.사유는 ...</td>\n",
       "      <td>코썬바이오 불성실 공시법인 지정예고</td>\n",
       "    </tr>\n",
       "    <tr>\n",
       "      <th>5790</th>\n",
       "      <td>코썬바이오</td>\n",
       "      <td>2019.12.23. 오후 5:23</td>\n",
       "      <td>거래소, 코썬바이오 불성실 공시법인 지정예고</td>\n",
       "      <td>한국거래소 코스닥시장본부는 코썬바이오가 공시불이행에 따라 불성실 공시법인으로 지정...</td>\n",
       "      <td>거래소, 코썬바이오 불성실 공시법인 지정예고</td>\n",
       "    </tr>\n",
       "    <tr>\n",
       "      <th>5791</th>\n",
       "      <td>코썬바이오</td>\n",
       "      <td>2020.02.07. 오전 9:58</td>\n",
       "      <td>인프라웨어, 최대주주는 누구?…‘호텔·바이오’ 사업 진출하나</td>\n",
       "      <td>소프트웨어 기업 인프라웨어의 최대주주가 변경된다. 새 최대주주는 호텔업을 운영하는...</td>\n",
       "      <td>인프라웨어, 최대주주는 누구?…‘호텔·바이오’ 사업 진출하나</td>\n",
       "    </tr>\n",
       "  </tbody>\n",
       "</table>\n",
       "<p>5792 rows × 5 columns</p>\n",
       "</div>"
      ],
      "text/plain": [
       "          기업                기사발행일                                기사제목  \\\n",
       "0     네이쳐글로벌  2010.10.01. 오전 9:23    [특징주] 네이쳐글로벌 상한가…\"전 대표 횡령 확인 안돼\"   \n",
       "1     네이쳐글로벌  2010.09.28. 오후 4:29           네이쳐글로벌, 네비스탁측이 74만여주 장내매도   \n",
       "2     네이쳐글로벌  2010.09.16. 오전 9:23         [특징주] 네이쳐글로벌, 투자경고 지정 이후 약세   \n",
       "3     네이쳐글로벌  2010.09.14. 오후 4:21       네비스탁외 51인, 네이쳐글로벌 지분 1.26% 줄어   \n",
       "4     네이쳐글로벌  2010.09.16. 오후 8:08            네이쳐글로벌, 공시번복..불성실공시법인 지정   \n",
       "...      ...                  ...                                 ...   \n",
       "5787   코썬바이오  2020.01.10. 오후 7:40                   코썬바이오, 불성실공시법인 지정   \n",
       "5788   코썬바이오  2019.12.20. 오후 6:53  거래소, 코썬바이오 불성실 공시법인 지정…23일 주식거래 정지   \n",
       "5789   코썬바이오  2019.12.23. 오후 5:17                 코썬바이오 불성실 공시법인 지정예고   \n",
       "5790   코썬바이오  2019.12.23. 오후 5:23            거래소, 코썬바이오 불성실 공시법인 지정예고   \n",
       "5791   코썬바이오  2020.02.07. 오전 9:58   인프라웨어, 최대주주는 누구?…‘호텔·바이오’ 사업 진출하나   \n",
       "\n",
       "                                              뉴스기사본문전처리  \\\n",
       "0     비메모리 반도체 업체인 네이쳐글로벌이 전 대표 횡령 혐의에 대해 확인된 바 없다고 ...   \n",
       "1      네비스탁은 특별관계자로 포함된 개인투자자들이 네이쳐글로벌 주식 만주를 장내 매도했...   \n",
       "2     네이쳐글로벌이 투자경고 지정 소식에 이어 전환사채 물량 상장에 따른 수급 불안으로 ...   \n",
       "3      네비스탁외 인은 일 신규 소액주주 의결권 규합 및 보유주식수 변동에 따라 네이쳐글...   \n",
       "4      한국거래소 코스닥시장본부는 일 네이쳐글로벌에 대해 공시번복으로 인해 불성실공시법인...   \n",
       "...                                                 ...   \n",
       "5787   한국거래소 코스닥시장본부는 일 코썬바이오가 지난해 월 최대주주 변경을 수반하는 주...   \n",
       "5788   한국거래소 코스닥시장본부는 오는 일 코썬바이오를 불성실 공시 법인으로 지정한다고 ...   \n",
       "5789  코썬바이오는 공시불이행으로 불성실 공시법인으로 지정예고 됐다고 일 공시했다.사유는 ...   \n",
       "5790   한국거래소 코스닥시장본부는 코썬바이오가 공시불이행에 따라 불성실 공시법인으로 지정...   \n",
       "5791   소프트웨어 기업 인프라웨어의 최대주주가 변경된다. 새 최대주주는 호텔업을 운영하는...   \n",
       "\n",
       "                                                   기사번역  \n",
       "0     Eco Solution made a public announcement that i...  \n",
       "1     Eco-solutions are taking a leap forward due to...  \n",
       "2     Reporter Han Ji-hoon's Eco Solution announced ...  \n",
       "3     Eco Solution has been hitting the lower limit ...  \n",
       "4     Eco Solution announced on the last day that it...  \n",
       "...                                                 ...  \n",
       "5787                                  코썬바이오, 불성실공시법인 지정  \n",
       "5788                 거래소, 코썬바이오 불성실 공시법인 지정…23일 주식거래 정지  \n",
       "5789                                코썬바이오 불성실 공시법인 지정예고  \n",
       "5790                           거래소, 코썬바이오 불성실 공시법인 지정예고  \n",
       "5791                  인프라웨어, 최대주주는 누구?…‘호텔·바이오’ 사업 진출하나  \n",
       "\n",
       "[5792 rows x 5 columns]"
      ]
     },
     "execution_count": 22,
     "metadata": {},
     "output_type": "execute_result"
    }
   ],
   "source": [
    "기사원본"
   ]
  },
  {
   "cell_type": "code",
   "execution_count": 38,
   "metadata": {},
   "outputs": [
    {
     "data": {
      "text/html": [
       "<div>\n",
       "<style scoped>\n",
       "    .dataframe tbody tr th:only-of-type {\n",
       "        vertical-align: middle;\n",
       "    }\n",
       "\n",
       "    .dataframe tbody tr th {\n",
       "        vertical-align: top;\n",
       "    }\n",
       "\n",
       "    .dataframe thead th {\n",
       "        text-align: right;\n",
       "    }\n",
       "</style>\n",
       "<table border=\"1\" class=\"dataframe\">\n",
       "  <thead>\n",
       "    <tr style=\"text-align: right;\">\n",
       "      <th></th>\n",
       "      <th>번역</th>\n",
       "    </tr>\n",
       "  </thead>\n",
       "  <tbody>\n",
       "    <tr>\n",
       "      <th>0</th>\n",
       "      <td>The biggest concern for individual investors w...</td>\n",
       "    </tr>\n",
       "    <tr>\n",
       "      <th>1</th>\n",
       "      <td>Coin stocks, which fall short of the price of ...</td>\n",
       "    </tr>\n",
       "    <tr>\n",
       "      <th>2</th>\n",
       "      <td>With the advent of Super Ant, the first time i...</td>\n",
       "    </tr>\n",
       "    <tr>\n",
       "      <th>3</th>\n",
       "      <td>There is a super ant that set a record of more...</td>\n",
       "    </tr>\n",
       "    <tr>\n",
       "      <th>4</th>\n",
       "      <td>The government will hold a meeting on measures...</td>\n",
       "    </tr>\n",
       "    <tr>\n",
       "      <th>...</th>\n",
       "      <td>...</td>\n",
       "    </tr>\n",
       "    <tr>\n",
       "      <th>983</th>\n",
       "      <td>KOSDAQ-listed companies with poor financial st...</td>\n",
       "    </tr>\n",
       "    <tr>\n",
       "      <th>984</th>\n",
       "      <td>Monthly Economic Indicators U.S. Monthly Procu...</td>\n",
       "    </tr>\n",
       "    <tr>\n",
       "      <th>985</th>\n",
       "      <td>Sungwoo Hi-Tech's upper limit price Asset, whi...</td>\n",
       "    </tr>\n",
       "    <tr>\n",
       "      <th>986</th>\n",
       "      <td>미국 신용등급 강등인한 글로벌 증시 폭락으로 인해 국내 증시도 한치 앞을 내다 볼 ...</td>\n",
       "    </tr>\n",
       "    <tr>\n",
       "      <th>987</th>\n",
       "      <td>미국 신용등급 강등인한 글로벌 증시 폭락으로 인해 국내 증시도 한치 앞을 내다 볼 ...</td>\n",
       "    </tr>\n",
       "  </tbody>\n",
       "</table>\n",
       "<p>988 rows × 1 columns</p>\n",
       "</div>"
      ],
      "text/plain": [
       "                                                    번역\n",
       "0    The biggest concern for individual investors w...\n",
       "1    Coin stocks, which fall short of the price of ...\n",
       "2    With the advent of Super Ant, the first time i...\n",
       "3    There is a super ant that set a record of more...\n",
       "4    The government will hold a meeting on measures...\n",
       "..                                                 ...\n",
       "983  KOSDAQ-listed companies with poor financial st...\n",
       "984  Monthly Economic Indicators U.S. Monthly Procu...\n",
       "985  Sungwoo Hi-Tech's upper limit price Asset, whi...\n",
       "986  미국 신용등급 강등인한 글로벌 증시 폭락으로 인해 국내 증시도 한치 앞을 내다 볼 ...\n",
       "987  미국 신용등급 강등인한 글로벌 증시 폭락으로 인해 국내 증시도 한치 앞을 내다 볼 ...\n",
       "\n",
       "[988 rows x 1 columns]"
      ]
     },
     "execution_count": 38,
     "metadata": {},
     "output_type": "execute_result"
    }
   ],
   "source": [
    "번역_1203_2192=pd.read_csv(\"./1203_2192.csv\",encoding=\"utf-8\")\n",
    "# 번역_0_1207.drop([\"Unnamed: 1\",\"Unnamed: 2\",\"Unnamed: 3\",\"Unnamed: 4\"],inplace=True,axis=1)\n",
    "# 번역_1203_2192[\"번역\"][3] #3-1206\n",
    "번역_1203_2192"
   ]
  },
  {
   "cell_type": "code",
   "execution_count": 39,
   "metadata": {},
   "outputs": [
    {
     "data": {
      "text/plain": [
       "985"
      ]
     },
     "execution_count": 39,
     "metadata": {},
     "output_type": "execute_result"
    }
   ],
   "source": [
    "# 기사원본[\"기사번역\"][1206:2192]=번역_1203_2192[\"번역\"][3:988]\n",
    "len(번역_1203_2192[\"번역\"][3:988]) #985\n",
    "len(기사원본[\"기사번역\"][1206:2191]) #1206~2190\n"
   ]
  },
  {
   "cell_type": "code",
   "execution_count": 40,
   "metadata": {},
   "outputs": [],
   "source": [
    "기사원본[\"기사번역\"][1206:2191]=번역_1203_2192[\"번역\"][3:988]"
   ]
  },
  {
   "cell_type": "code",
   "execution_count": 49,
   "metadata": {},
   "outputs": [
    {
     "data": {
      "text/plain": [
       "'미국 신용등급 강등인한 글로벌 증시 폭락으로 인해 국내 증시도 한치 앞을 내다 볼 수 없는 공포심에 사로 잡혀 매일 급등락을 반복하면서 주식 투자자들을 실의에 빠지게 만들고 있다. 세계경기 둔화 우려는 증시에 불안감을 더하고 박스권 장세에도 불구하고 개인들은 잘못된 대응방법과 전략으로 손실만 보고 있다.Net the previous day, according to the institutions present market analysis of the jutuyeon but KOSPI closed down. 원익쿼츠 케이씨에스 대륙제관 동원수산 서원 케이피티 디지틀조선 아미노로직스 현대통신 크루셜텍 비에이치 현대그린푸드 이니텍 대교 동방 신화인터텍 큐에스아이 는 상승마감 했고 후성 바이오톡스텍 이큐스앤자루 오공 이수앱지스 풍년 쌍용정보통신 대양금속 인트론아이오 시스템 이디 엔알디 인지디스플레 일진머티리얼즈 국동 아이씨디 등은 하락 마감했다.이런 시황 속에서 개인투자자들의 경우 매번 무리한 추격매수와 투매로 인해 큰 손실을 반복하고 있는데 혼자서 수익을 내기 어려운 개인들은 주투연 을 방문해 도움을 받아 보는 것이 좋을 것이다. 년간 수많은 방송출신 전문가들을 배출하고 의 최고 적중률을 자랑하는 투자전문가 정우진 가 운영하는 주투연의 전문가 그룹은 따라잡지 못할 초 저가주를 마치 급등과 대박을 안겨줄 처럼 광고하는 비현실성을 배제하고 철저한 기업분석과 날카로운 판단력으로 직장인이나 초보자도 쉽게 매매가능한 시스템을 완성하여 한일이화현대위아 동아화성큐로컴유진테크동일금속리노공업이수화학대창원익쿼츠이니시스등 높은 수익률은 물론 올 초부터 현재 추천 수익의 적중률과 같은 기간 단기프로젝트를 통해 종목 추천 종목 수익 이라는 어떤 공간도 흉내내지 못하는 라는 놀라운 적중률을 기록하는 노하우를 발휘하고 있다.특히 주투연에서는 글로벌 증시 급등락에 따른 부담감으로 장기투자 보다는 단기 투자로 투자성향의 변경이 필요하다고 하면서 단기적 투자가능 종목으로 동일금속 블루콤 메디프론 컴투스 고영 멜파스 진성티이씨 바텍 와이지원 꼽았고 장기적 투자를 고집하는 성향의 투자자라면 단기반등을 이용해 주식을 매도 단기채권이나 에 단기적으로 투자하면서 시장안정을 기다릴 것을 권유했다.그리고 주투연에선 특징종목으로 알앤엘바이오 알앤엘삼미 알에스넷 알에프세미 알에프텍 알파칩스 애강리메텍 애경유화 액토즈소프트 액트 양지사 어보브반도체 어울림 네트 어울림엘시스 어울림정보 에너지솔루션 에너토크 에넥스 에듀박스 에듀언스 에리트베이직 에머슨퍼시픽 에버다임 에버테크노 에스넷 에스디시스템 에스맥 에스비엠 에스씨디 에스앤에스텍 에스에너지 에스에이엠티 에스에이티 이외 코스피 대형주들의 급락에 따라 기관과 개인 수급이 코스닥으로 몰리면서 테마주들이 이상 급등락을 보여주는데 에스에프에이 에스엔유 에스엘 에스엠 에스원 에스이티아이 에스코넥 에스텍 에스텍파마 에스티씨라이프 에스티아이 에스티오 에스티큐브 에스폴리텍 에스피지 에Ace Digitech Co., Ltd, Air Park Able C&C Advanced Digital Chips Inc A motion ssentekeu an Ace tech, Ace & Partners, ACE HIGHTECH Co., Ltd AnC Bio Holdings eieseu tijetek Automobile & PCB Inc of A-One micro eichidisieseu be.이제 주투연을 방문해 라는 일반투자자들의 손해라는 통계 속의 피해자가 아닌 손실의 고통에서 벗어나 원금회복은 물론 수십수백의 수익률을 거두며 당당하게 사는 주식부자가 될 수 있는 기회를 바로 여기 이곳에서 찾길 바란다주의 해야할 종목 월일 특징 종목 금일 주의 종목에이치앤티에이치엘비에이테크솔루션에이텍에이티넘인베스트에이프로테크놀로지에임하이에코에너지 에코프로에코플라스틱에프씨비투웰브에프에스티에프티이앤이엑사이엔씨엑큐리스엔스퍼트엔씨소프트엔알디엔에스브이엔케이엔케이바이오엔터기술엔티피아엔피케이엔하이테크엘디티엘비세미콘엘앤씨피엘앤에프엘엠에스엘오티베큠엘티에스엠게임엠비성산엠에스씨엠에스오토텍엠케이전자엠케이트렌드엠텍비젼엠피씨연이정보통신연합과기YoungNam Flour Mills Co., Youngbo Chemical Co., Ltd yeongutong pumyeongjininpeurayeongpungyeongpungjeongmiryeonghwageumsogyeongheungcheolgangyedangyerimdangyeseuogongoditek drug trade YOUNG IN FRONTIER CO., goes to Yeongjin Youngone Corporation Holdings sinyeongwon ottugiororaorientaljeonggongorienteubaioorionosangjaieroseongereseu tioseukotegoseutemoseutemimpeullanteuotegopeunbeiseuonsetellekomomnisiseutem omniteroptomaejigopteurontegwaientek The stock that shows unique rates today YD Online Power YG-1 Co., Ltd and Wise, white velvet dress brush but Wan Li, toss hwaneunhaengyonghyeonugyeongcheolgangunoaenkeompeoniurigeumyungurigisururinesurideulsaengmyeonggwa hagurideuljeyagurisaneoburiitiaiurijomyeongjijuuritujajeunggwonuripai naensyeorurimgigyeuseongsaryousuusinsiseutemuwongaebarujeonaenhandanujuillekteuro ujinujinbiaenjiujinsereksseuulteurageonseorungjinssingkeubigungjineneojiungjinkemikal ungjinkoweiungjinholdingseuwonigwonigwonikwocheuwonilteukkangwonpungmulsanwoldeksseuweseute iteuweibeuillek.트로웨이포트웰메이드웰스브릿지웰크론웹젠위노바위닉스위다스위메이드위즈정보기술윈스테크넷윌비스유나이티드제약유니드유니셈유니슨유니온유니온스틸유니켐유니퀘스트유니크유니테스트유라테크유비벨록스유비컴유비케어유비쿼스유비프리시젼유성기업유성티엔에스유신유아이디유아이에너지유아이엘유양디앤유유원컴텍유유제약유일엔시스유진기업유진로봇유진테크유한양행금일 특징주 유화증권율촌화학이글 벳이건산업이건창호이구산업이글루시큐리티이너스텍이노셀이노와이어이노칩이녹스이니시스이니텍이디이라이콤이랜텍이루온이마트이미지스이수앱지스이수페타시스이수화학이스트소프트이스트아시아스포츠이씨에스이엔쓰리이엔에프테크놀로지이엘케이이엠코리아이엠텍이연제약이오테크닉스이원컴포텍이월드이지바이오이코리아리츠이큐스앤자루이크레더블이테크건설이트레이드증권이퓨쳐이화공영이화산업이화전기인디에프인선이엔티인성정보인스프리트인지디스플레인지컨트롤스인큐브테크인탑스인터로조인터엠인터파크인터플렉스인텍플러스인트론바이오인팩인포바인인포뱅크인포피아인프라웨어인피니트헬스케어인화정공일경산업개발일동제약일성신약일신바이오일신방직일신석재일야일양약품일지테크일진다Splines on the plant louse plant lice be Oia Holdings Inktec Co., Ltd, a bad day electrical energy of the bed a bad day a blast meotirieoljeu jayeongwawangyeongjawonjayutueojatijeonjajawajeonjajalmantekeujeonbugeunhaengjeongsangjeiel eseujeneosiseutemjeujenekssinjeryongsaneopjjeuseujeibeuiemjeissiyeonjeienkei hiteojeiemsaengmyeongjeiemaijeiemtijeitijeilgioekjjeilmojikjjeilbaioShortcut to the drug the grinding the savings banks, the jegangjutuyeon.본 자료는 해당기관에서 제공한 보도 자료입니다. . 무단 전재 및 재배포 금지 대통령 부부도 피할 수 없는 키스타임 김정일 열차이동 선로 마다 비밀요원이 질식사한 남자친구 시신 옆에서 시간 비행 왜 요즘 남학생은 여학생보다 뒤처질까 영화 써커펀치 주연 바네사 허진스 속옷 노출 동아일보 . Prohibition of unauthorized reproduction and redistribution'"
      ]
     },
     "execution_count": 49,
     "metadata": {},
     "output_type": "execute_result"
    }
   ],
   "source": [
    "기사원본[\"기사번역\"][2189] #0~2190"
   ]
  },
  {
   "cell_type": "code",
   "execution_count": 73,
   "metadata": {},
   "outputs": [
    {
     "data": {
      "text/plain": [
       "387"
      ]
     },
     "execution_count": 73,
     "metadata": {},
     "output_type": "execute_result"
    }
   ],
   "source": [
    "# 기사원본[\"뉴스기사본문전처리\"][2191]\n",
    "# 기사원본[\"기사번역\"][2191]\n",
    "len(기사원본[\"기사번역\"][2191:2578])\n",
    "# len(번역_2193_2579[\"번역\"][0:388])"
   ]
  },
  {
   "cell_type": "code",
   "execution_count": 74,
   "metadata": {},
   "outputs": [],
   "source": [
    "기사원본[\"기사번역\"][2191:2578]=번역_2193_2579[\"번역\"][0:388] #2191~2577"
   ]
  },
  {
   "cell_type": "code",
   "execution_count": 75,
   "metadata": {},
   "outputs": [
    {
     "data": {
      "text/html": [
       "<div>\n",
       "<style scoped>\n",
       "    .dataframe tbody tr th:only-of-type {\n",
       "        vertical-align: middle;\n",
       "    }\n",
       "\n",
       "    .dataframe tbody tr th {\n",
       "        vertical-align: top;\n",
       "    }\n",
       "\n",
       "    .dataframe thead th {\n",
       "        text-align: right;\n",
       "    }\n",
       "</style>\n",
       "<table border=\"1\" class=\"dataframe\">\n",
       "  <thead>\n",
       "    <tr style=\"text-align: right;\">\n",
       "      <th></th>\n",
       "      <th>기업</th>\n",
       "      <th>기사발행일</th>\n",
       "      <th>기사제목</th>\n",
       "      <th>뉴스기사본문전처리</th>\n",
       "      <th>기사번역</th>\n",
       "    </tr>\n",
       "  </thead>\n",
       "  <tbody>\n",
       "    <tr>\n",
       "      <th>0</th>\n",
       "      <td>네이쳐글로벌</td>\n",
       "      <td>2010.10.01. 오전 9:23</td>\n",
       "      <td>[특징주] 네이쳐글로벌 상한가…\"전 대표 횡령 확인 안돼\"</td>\n",
       "      <td>비메모리 반도체 업체인 네이쳐글로벌이 전 대표 횡령 혐의에 대해 확인된 바 없다고 ...</td>\n",
       "      <td>Eco Solution made a public announcement that i...</td>\n",
       "    </tr>\n",
       "    <tr>\n",
       "      <th>1</th>\n",
       "      <td>네이쳐글로벌</td>\n",
       "      <td>2010.09.28. 오후 4:29</td>\n",
       "      <td>네이쳐글로벌, 네비스탁측이 74만여주 장내매도</td>\n",
       "      <td>네비스탁은 특별관계자로 포함된 개인투자자들이 네이쳐글로벌 주식 만주를 장내 매도했...</td>\n",
       "      <td>Eco-solutions are taking a leap forward due to...</td>\n",
       "    </tr>\n",
       "    <tr>\n",
       "      <th>2</th>\n",
       "      <td>네이쳐글로벌</td>\n",
       "      <td>2010.09.16. 오전 9:23</td>\n",
       "      <td>[특징주] 네이쳐글로벌, 투자경고 지정 이후 약세</td>\n",
       "      <td>네이쳐글로벌이 투자경고 지정 소식에 이어 전환사채 물량 상장에 따른 수급 불안으로 ...</td>\n",
       "      <td>Reporter Han Ji-hoon's Eco Solution announced ...</td>\n",
       "    </tr>\n",
       "    <tr>\n",
       "      <th>3</th>\n",
       "      <td>네이쳐글로벌</td>\n",
       "      <td>2010.09.14. 오후 4:21</td>\n",
       "      <td>네비스탁외 51인, 네이쳐글로벌 지분 1.26% 줄어</td>\n",
       "      <td>네비스탁외 인은 일 신규 소액주주 의결권 규합 및 보유주식수 변동에 따라 네이쳐글...</td>\n",
       "      <td>Eco Solution has been hitting the lower limit ...</td>\n",
       "    </tr>\n",
       "    <tr>\n",
       "      <th>4</th>\n",
       "      <td>네이쳐글로벌</td>\n",
       "      <td>2010.09.16. 오후 8:08</td>\n",
       "      <td>네이쳐글로벌, 공시번복..불성실공시법인 지정</td>\n",
       "      <td>한국거래소 코스닥시장본부는 일 네이쳐글로벌에 대해 공시번복으로 인해 불성실공시법인...</td>\n",
       "      <td>Eco Solution announced on the last day that it...</td>\n",
       "    </tr>\n",
       "    <tr>\n",
       "      <th>...</th>\n",
       "      <td>...</td>\n",
       "      <td>...</td>\n",
       "      <td>...</td>\n",
       "      <td>...</td>\n",
       "      <td>...</td>\n",
       "    </tr>\n",
       "    <tr>\n",
       "      <th>5787</th>\n",
       "      <td>코썬바이오</td>\n",
       "      <td>2020.01.10. 오후 7:40</td>\n",
       "      <td>코썬바이오, 불성실공시법인 지정</td>\n",
       "      <td>한국거래소 코스닥시장본부는 일 코썬바이오가 지난해 월 최대주주 변경을 수반하는 주...</td>\n",
       "      <td>코썬바이오, 불성실공시법인 지정</td>\n",
       "    </tr>\n",
       "    <tr>\n",
       "      <th>5788</th>\n",
       "      <td>코썬바이오</td>\n",
       "      <td>2019.12.20. 오후 6:53</td>\n",
       "      <td>거래소, 코썬바이오 불성실 공시법인 지정…23일 주식거래 정지</td>\n",
       "      <td>한국거래소 코스닥시장본부는 오는 일 코썬바이오를 불성실 공시 법인으로 지정한다고 ...</td>\n",
       "      <td>거래소, 코썬바이오 불성실 공시법인 지정…23일 주식거래 정지</td>\n",
       "    </tr>\n",
       "    <tr>\n",
       "      <th>5789</th>\n",
       "      <td>코썬바이오</td>\n",
       "      <td>2019.12.23. 오후 5:17</td>\n",
       "      <td>코썬바이오 불성실 공시법인 지정예고</td>\n",
       "      <td>코썬바이오는 공시불이행으로 불성실 공시법인으로 지정예고 됐다고 일 공시했다.사유는 ...</td>\n",
       "      <td>코썬바이오 불성실 공시법인 지정예고</td>\n",
       "    </tr>\n",
       "    <tr>\n",
       "      <th>5790</th>\n",
       "      <td>코썬바이오</td>\n",
       "      <td>2019.12.23. 오후 5:23</td>\n",
       "      <td>거래소, 코썬바이오 불성실 공시법인 지정예고</td>\n",
       "      <td>한국거래소 코스닥시장본부는 코썬바이오가 공시불이행에 따라 불성실 공시법인으로 지정...</td>\n",
       "      <td>거래소, 코썬바이오 불성실 공시법인 지정예고</td>\n",
       "    </tr>\n",
       "    <tr>\n",
       "      <th>5791</th>\n",
       "      <td>코썬바이오</td>\n",
       "      <td>2020.02.07. 오전 9:58</td>\n",
       "      <td>인프라웨어, 최대주주는 누구?…‘호텔·바이오’ 사업 진출하나</td>\n",
       "      <td>소프트웨어 기업 인프라웨어의 최대주주가 변경된다. 새 최대주주는 호텔업을 운영하는...</td>\n",
       "      <td>인프라웨어, 최대주주는 누구?…‘호텔·바이오’ 사업 진출하나</td>\n",
       "    </tr>\n",
       "  </tbody>\n",
       "</table>\n",
       "<p>5792 rows × 5 columns</p>\n",
       "</div>"
      ],
      "text/plain": [
       "          기업                기사발행일                                기사제목  \\\n",
       "0     네이쳐글로벌  2010.10.01. 오전 9:23    [특징주] 네이쳐글로벌 상한가…\"전 대표 횡령 확인 안돼\"   \n",
       "1     네이쳐글로벌  2010.09.28. 오후 4:29           네이쳐글로벌, 네비스탁측이 74만여주 장내매도   \n",
       "2     네이쳐글로벌  2010.09.16. 오전 9:23         [특징주] 네이쳐글로벌, 투자경고 지정 이후 약세   \n",
       "3     네이쳐글로벌  2010.09.14. 오후 4:21       네비스탁외 51인, 네이쳐글로벌 지분 1.26% 줄어   \n",
       "4     네이쳐글로벌  2010.09.16. 오후 8:08            네이쳐글로벌, 공시번복..불성실공시법인 지정   \n",
       "...      ...                  ...                                 ...   \n",
       "5787   코썬바이오  2020.01.10. 오후 7:40                   코썬바이오, 불성실공시법인 지정   \n",
       "5788   코썬바이오  2019.12.20. 오후 6:53  거래소, 코썬바이오 불성실 공시법인 지정…23일 주식거래 정지   \n",
       "5789   코썬바이오  2019.12.23. 오후 5:17                 코썬바이오 불성실 공시법인 지정예고   \n",
       "5790   코썬바이오  2019.12.23. 오후 5:23            거래소, 코썬바이오 불성실 공시법인 지정예고   \n",
       "5791   코썬바이오  2020.02.07. 오전 9:58   인프라웨어, 최대주주는 누구?…‘호텔·바이오’ 사업 진출하나   \n",
       "\n",
       "                                              뉴스기사본문전처리  \\\n",
       "0     비메모리 반도체 업체인 네이쳐글로벌이 전 대표 횡령 혐의에 대해 확인된 바 없다고 ...   \n",
       "1      네비스탁은 특별관계자로 포함된 개인투자자들이 네이쳐글로벌 주식 만주를 장내 매도했...   \n",
       "2     네이쳐글로벌이 투자경고 지정 소식에 이어 전환사채 물량 상장에 따른 수급 불안으로 ...   \n",
       "3      네비스탁외 인은 일 신규 소액주주 의결권 규합 및 보유주식수 변동에 따라 네이쳐글...   \n",
       "4      한국거래소 코스닥시장본부는 일 네이쳐글로벌에 대해 공시번복으로 인해 불성실공시법인...   \n",
       "...                                                 ...   \n",
       "5787   한국거래소 코스닥시장본부는 일 코썬바이오가 지난해 월 최대주주 변경을 수반하는 주...   \n",
       "5788   한국거래소 코스닥시장본부는 오는 일 코썬바이오를 불성실 공시 법인으로 지정한다고 ...   \n",
       "5789  코썬바이오는 공시불이행으로 불성실 공시법인으로 지정예고 됐다고 일 공시했다.사유는 ...   \n",
       "5790   한국거래소 코스닥시장본부는 코썬바이오가 공시불이행에 따라 불성실 공시법인으로 지정...   \n",
       "5791   소프트웨어 기업 인프라웨어의 최대주주가 변경된다. 새 최대주주는 호텔업을 운영하는...   \n",
       "\n",
       "                                                   기사번역  \n",
       "0     Eco Solution made a public announcement that i...  \n",
       "1     Eco-solutions are taking a leap forward due to...  \n",
       "2     Reporter Han Ji-hoon's Eco Solution announced ...  \n",
       "3     Eco Solution has been hitting the lower limit ...  \n",
       "4     Eco Solution announced on the last day that it...  \n",
       "...                                                 ...  \n",
       "5787                                  코썬바이오, 불성실공시법인 지정  \n",
       "5788                 거래소, 코썬바이오 불성실 공시법인 지정…23일 주식거래 정지  \n",
       "5789                                코썬바이오 불성실 공시법인 지정예고  \n",
       "5790                           거래소, 코썬바이오 불성실 공시법인 지정예고  \n",
       "5791                  인프라웨어, 최대주주는 누구?…‘호텔·바이오’ 사업 진출하나  \n",
       "\n",
       "[5792 rows x 5 columns]"
      ]
     },
     "execution_count": 75,
     "metadata": {},
     "output_type": "execute_result"
    }
   ],
   "source": [
    "기사원본"
   ]
  },
  {
   "cell_type": "code",
   "execution_count": 76,
   "metadata": {},
   "outputs": [
    {
     "data": {
      "text/html": [
       "<div>\n",
       "<style scoped>\n",
       "    .dataframe tbody tr th:only-of-type {\n",
       "        vertical-align: middle;\n",
       "    }\n",
       "\n",
       "    .dataframe tbody tr th {\n",
       "        vertical-align: top;\n",
       "    }\n",
       "\n",
       "    .dataframe thead th {\n",
       "        text-align: right;\n",
       "    }\n",
       "</style>\n",
       "<table border=\"1\" class=\"dataframe\">\n",
       "  <thead>\n",
       "    <tr style=\"text-align: right;\">\n",
       "      <th></th>\n",
       "      <th>번역</th>\n",
       "    </tr>\n",
       "  </thead>\n",
       "  <tbody>\n",
       "    <tr>\n",
       "      <th>0</th>\n",
       "      <td>Unid Korea is falling again after another chan...</td>\n",
       "    </tr>\n",
       "    <tr>\n",
       "      <th>1</th>\n",
       "      <td>The opening of the monthly settlement listed c...</td>\n",
       "    </tr>\n",
       "    <tr>\n",
       "      <th>2</th>\n",
       "      <td>The Korea Exchange said in a public announceme...</td>\n",
       "    </tr>\n",
       "    <tr>\n",
       "      <th>3</th>\n",
       "      <td>The KOSDAQ Market Headquarters of the Korea Ex...</td>\n",
       "    </tr>\n",
       "    <tr>\n",
       "      <th>4</th>\n",
       "      <td>Unid Korea announced that outside director Par...</td>\n",
       "    </tr>\n",
       "    <tr>\n",
       "      <th>...</th>\n",
       "      <td>...</td>\n",
       "    </tr>\n",
       "    <tr>\n",
       "      <th>997</th>\n",
       "      <td>IDS made a public announcement that it has dec...</td>\n",
       "    </tr>\n",
       "    <tr>\n",
       "      <th>998</th>\n",
       "      <td>IDS made a public announcement that it has dec...</td>\n",
       "    </tr>\n",
       "    <tr>\n",
       "      <th>999</th>\n",
       "      <td>Module company IDS is recording a lower limit ...</td>\n",
       "    </tr>\n",
       "    <tr>\n",
       "      <th>1000</th>\n",
       "      <td>The Korea Securities Depository announced on t...</td>\n",
       "    </tr>\n",
       "    <tr>\n",
       "      <th>1001</th>\n",
       "      <td>Young entrepreneur Kim Sung-jin was elected as...</td>\n",
       "    </tr>\n",
       "  </tbody>\n",
       "</table>\n",
       "<p>1002 rows × 1 columns</p>\n",
       "</div>"
      ],
      "text/plain": [
       "                                                     번역\n",
       "0     Unid Korea is falling again after another chan...\n",
       "1     The opening of the monthly settlement listed c...\n",
       "2     The Korea Exchange said in a public announceme...\n",
       "3     The KOSDAQ Market Headquarters of the Korea Ex...\n",
       "4     Unid Korea announced that outside director Par...\n",
       "...                                                 ...\n",
       "997   IDS made a public announcement that it has dec...\n",
       "998   IDS made a public announcement that it has dec...\n",
       "999   Module company IDS is recording a lower limit ...\n",
       "1000  The Korea Securities Depository announced on t...\n",
       "1001  Young entrepreneur Kim Sung-jin was elected as...\n",
       "\n",
       "[1002 rows x 1 columns]"
      ]
     },
     "execution_count": 76,
     "metadata": {},
     "output_type": "execute_result"
    }
   ],
   "source": [
    "번역_4000_5002"
   ]
  },
  {
   "cell_type": "code",
   "execution_count": 92,
   "metadata": {},
   "outputs": [
    {
     "data": {
      "text/plain": [
       "1002"
      ]
     },
     "execution_count": 92,
     "metadata": {},
     "output_type": "execute_result"
    }
   ],
   "source": [
    "# 기사원본[\"기사번역\"][3998:5000]=번역_4000_5002[0:1001]\n",
    "len(번역_4000_5002)\n",
    "len(기사원본[\"뉴스기사본문전처리\"][3998:5000])"
   ]
  },
  {
   "cell_type": "code",
   "execution_count": 94,
   "metadata": {},
   "outputs": [],
   "source": [
    "기사원본[\"기사번역\"][3998:5000]=번역_4000_5002[\"번역\"][0:1002] #0~1205 #1206~2190 #2191~2577 #3998~4999"
   ]
  },
  {
   "cell_type": "code",
   "execution_count": 100,
   "metadata": {},
   "outputs": [],
   "source": [
    "기사원본[\"기사번역\"][2578]=[\"Curious shares are falling on news that Tomato Savings Bank has acquired the right to dispose of Curious shares. Curious is trading at the won as of morning, down won from the previous day.Tomato Savings Bank said in a public announcement the previous day that it has acquired the right to dispose of Curious shares of Manju after losing profits for the past day. For this reason, stock prices are falling on concerns that Tomato Savings Bank will sell Curious shares in the market.Whats the hot news about Chosun Biz? Don Peng-kyeol, come back to Korea from the international community. Even though the government is hanging on, Hyundai Motor Vice President Sonatas subsequent model has reduced the level of beef distribution. Amazing results. Friday, the heat wave is finally\"]"
   ]
  },
  {
   "cell_type": "code",
   "execution_count": 104,
   "metadata": {},
   "outputs": [],
   "source": [
    "기사원본[\"기사번역\"][2579]=['Curious fell to the lower limit for the second day due to rumors of embezzlement and the escape of real owners.As of 1 a.m., Curious is trading at the won, which has fallen to the price limit. It is the second day of lows following the previous day.Curious announced that it closed the list of NK Bio shareholders after the closing of the market on the last day and confirmed that all of its shares in NK Bio that Curious had been sold.He then said that the stake in NK Bio has been managed by Kim Young-joo, the real owner, and has not yet confirmed the date of providing and disposing of collateral.In addition, Kim Young-joo, the real owner, was currently wanted for escape during the investigation in response to the inquiry disclosure on the embezzlement rumor.Yoo Byung-chul, a reporter for World Finance. \"I woke up at an elderly hotel where I came back to life after being a victim, and I woke up to dance a fine for a kidney-robbing, ridiculous, exposed top model. On top of a polar bear with the strongest chest, the World Daily exercises copyright under the Korea Online Newspaper Associations digital news rules.']"
   ]
  },
  {
   "cell_type": "code",
   "execution_count": 106,
   "metadata": {},
   "outputs": [],
   "source": [
    "기사원본.to_csv(\"수정중인_번역본.csv\",encoding=\"utf-8-sig\")"
   ]
  },
  {
   "cell_type": "code",
   "execution_count": 107,
   "metadata": {},
   "outputs": [],
   "source": [
    "from googletrans import Translator\n",
    "translator = Translator()"
   ]
  },
  {
   "cell_type": "code",
   "execution_count": 112,
   "metadata": {},
   "outputs": [
    {
     "data": {
      "text/plain": [
       "'큐리어스가 횡령설에 대한 정황이 하나 둘 파악되고 있다는 소식에 장 초반 하한가로 직행했다.일 오전 시분 현재 큐리어스는 전날 대비 . 급락한 원에 거래되고 있다.큐리어스는 지난 일 횡령설에 대한 조회공시 재답변에서 실질 사주인 김영주씨가 수사 도중 도피로 현재 지명수배 상태라며 검찰 조사 결과 등 추가적으로 확인된 사항은 없지만 앞으로 검찰의 수사 결과 등이 확인 되는 시점에 재공시할 것이라고 밝혔다.아울러 큐리어스는 지난 일 보유하고 있던 엔케이바이오 주식 만주를 전량 매도했다고 공시했다. 이는 지분율.에 해당한다.큐리어스 측은 엔케이바이오 지분이 처분된 사실은 임시주총을 앞두고 주주명부를 보고 확인했다면서 엔케이바이오 지분은 실질사주인 김영주씨가 관리해 왔으며 주식 처분 날짜와 금액은 확인되지 않고 있다고 밝혔다. 앞서 지난달 일 큐리어스는 공시를 통해 자사가 보유 중이던 엔케이바이오 주식이 김씨를 위해 담보 제공된 사실을 확인했다고 밝힌 바 있다. 당시 큐리어스는 올해 초 자산수증으로 입금된 억원이 인출된 경위를 파악 중이라고 설명했다.큐리어스 측은 작년 월 발행한 억원 규모의 사모 인수자인 한울에스티이엔지가 전액 중도상환을 요청해 억원을 상환했으나 일부 상환액에 대한 사채는 회수하지 못했다고 덧붙였다.한경닷컴 최성남 기자 . 나쁜 여자 곽현화 가슴 수술 궁금하면 만져봐 오인혜 파격노출 종지부 찍더니 이번엔 돌변  아나운서 지망생 턱수술하고 왔더니 충격 이 남자 패기 좀 보소 문자 받은  멘붕  손세빈 속 비치는 드레스 파격 노출   성공을 부르는 습관 한경닷컴 무단 전재 및 재배포 금지한국온라인신문협회의 디지털뉴스이용규칙에 따른 저작권을 행사합니다'"
      ]
     },
     "execution_count": 112,
     "metadata": {},
     "output_type": "execute_result"
    }
   ],
   "source": [
    "기사원본[\"뉴스기사본문전처리\"][2580]"
   ]
  },
  {
   "cell_type": "markdown",
   "metadata": {},
   "source": []
  },
  {
   "cell_type": "code",
   "execution_count": 114,
   "metadata": {},
   "outputs": [
    {
     "name": "stdout",
     "output_type": "stream",
     "text": [
      "Curious went straight to the lower limit in the news that the situation of embezzlement was identified one by one. It is being traded in a plunge in a plunged circle.Curirus has not been confirmed in the prosecution's investigation, saying that Kim Young -joo, a real shooter, is currently inquiring during the investigation, and has not been confirmed. He said he would re -public when the results were confirmed, and Curiers also announced that he had sold all the NK Bio stock Manchuria, which he had lasted last day. This is equivalent to the stake. The fact that Curiers 'stake in NK bio was disposed of was confirmed by the shareholders' list ahead of the temporary shareholder, and the stake in NK Bio has been managed by Kim Young -joo, a real four -year -old, and the date and amount of stock disposal are not confirmed. . Earlier this month, Il Curirus said in a disclosure that the NK Bio stock, which was owned by the company, confirmed that it was provided for Kim. At the time, Curiers explained that it was identifying the expansion of billions of dollars deposited by asset benefits earlier this year, and Curiers has repaid the billion won by requesting a full repayment of the billion won, which was issued last year. He added that the Korean bond was not recovered. If you have a bad woman Kwak Hyun -hwa's breast surgery, you can touch Oh In -hye's exposure exposure. Copyrights in accordance with the Digital News Usage Rules of the online newspaper Association\n"
     ]
    }
   ],
   "source": [
    "result = translator.translate(기사원본[\"뉴스기사본문전처리\"][2580], dest=\"en\")\n",
    "print(result.text)"
   ]
  },
  {
   "cell_type": "code",
   "execution_count": 179,
   "metadata": {},
   "outputs": [
    {
     "ename": "AttributeError",
     "evalue": "'Translator' object has no attribute 'raise_Exception'",
     "output_type": "error",
     "traceback": [
      "\u001b[1;31m---------------------------------------------------------------------------\u001b[0m",
      "\u001b[1;31mAttributeError\u001b[0m                            Traceback (most recent call last)",
      "\u001b[1;32mc:\\Users\\jangd\\OneDrive\\사진\\문서\\GitHub\\project2\\dataset종합\\기사합치기.ipynb Cell 25'\u001b[0m in \u001b[0;36m<cell line: 2>\u001b[1;34m()\u001b[0m\n\u001b[0;32m      <a href='vscode-notebook-cell:/c%3A/Users/jangd/OneDrive/%EC%82%AC%EC%A7%84/%EB%AC%B8%EC%84%9C/GitHub/project2/dataset%EC%A2%85%ED%95%A9/%EA%B8%B0%EC%82%AC%ED%95%A9%EC%B9%98%EA%B8%B0.ipynb#ch0000022?line=0'>1</a>\u001b[0m result\u001b[39m=\u001b[39m[]\n\u001b[0;32m      <a href='vscode-notebook-cell:/c%3A/Users/jangd/OneDrive/%EC%82%AC%EC%A7%84/%EB%AC%B8%EC%84%9C/GitHub/project2/dataset%EC%A2%85%ED%95%A9/%EA%B8%B0%EC%82%AC%ED%95%A9%EC%B9%98%EA%B8%B0.ipynb#ch0000022?line=1'>2</a>\u001b[0m \u001b[39mfor\u001b[39;00m i \u001b[39min\u001b[39;00m \u001b[39mrange\u001b[39m(\u001b[39m2980\u001b[39m,\u001b[39m3997\u001b[39m): \u001b[39m#2578 ~3997\u001b[39;00m\n\u001b[1;32m----> <a href='vscode-notebook-cell:/c%3A/Users/jangd/OneDrive/%EC%82%AC%EC%A7%84/%EB%AC%B8%EC%84%9C/GitHub/project2/dataset%EC%A2%85%ED%95%A9/%EA%B8%B0%EC%82%AC%ED%95%A9%EC%B9%98%EA%B8%B0.ipynb#ch0000022?line=2'>3</a>\u001b[0m     translated \u001b[39m=\u001b[39m translator\u001b[39m.\u001b[39;49mtranslate(기사원본[\u001b[39m\"\u001b[39;49m\u001b[39m뉴스기사본문전처리\u001b[39;49m\u001b[39m\"\u001b[39;49m][i], dest\u001b[39m=\u001b[39;49m\u001b[39m\"\u001b[39;49m\u001b[39men\u001b[39;49m\u001b[39m\"\u001b[39;49m)\n\u001b[0;32m      <a href='vscode-notebook-cell:/c%3A/Users/jangd/OneDrive/%EC%82%AC%EC%A7%84/%EB%AC%B8%EC%84%9C/GitHub/project2/dataset%EC%A2%85%ED%95%A9/%EA%B8%B0%EC%82%AC%ED%95%A9%EC%B9%98%EA%B8%B0.ipynb#ch0000022?line=3'>4</a>\u001b[0m     result\u001b[39m.\u001b[39mappend(translated)\n",
      "File \u001b[1;32mc:\\Users\\jangd\\AppData\\Local\\Programs\\Python\\Python38\\lib\\site-packages\\googletrans\\client.py:194\u001b[0m, in \u001b[0;36mTranslator.translate\u001b[1;34m(self, text, dest, src)\u001b[0m\n\u001b[0;32m    191\u001b[0m         \u001b[39mraise\u001b[39;00m \u001b[39mValueError\u001b[39;00m(\u001b[39m'\u001b[39m\u001b[39minvalid destination language\u001b[39m\u001b[39m'\u001b[39m)\n\u001b[0;32m    193\u001b[0m origin \u001b[39m=\u001b[39m text\n\u001b[1;32m--> 194\u001b[0m data, response \u001b[39m=\u001b[39m \u001b[39mself\u001b[39;49m\u001b[39m.\u001b[39;49m_translate(text, dest, src)\n\u001b[0;32m    196\u001b[0m token_found \u001b[39m=\u001b[39m \u001b[39mFalse\u001b[39;00m\n\u001b[0;32m    197\u001b[0m square_bracket_counts \u001b[39m=\u001b[39m [\u001b[39m0\u001b[39m, \u001b[39m0\u001b[39m]\n",
      "File \u001b[1;32mc:\\Users\\jangd\\AppData\\Local\\Programs\\Python\\Python38\\lib\\site-packages\\googletrans\\client.py:122\u001b[0m, in \u001b[0;36mTranslator._translate\u001b[1;34m(self, text, dest, src)\u001b[0m\n\u001b[0;32m    112\u001b[0m params \u001b[39m=\u001b[39m {\n\u001b[0;32m    113\u001b[0m     \u001b[39m'\u001b[39m\u001b[39mrpcids\u001b[39m\u001b[39m'\u001b[39m: RPC_ID,\n\u001b[0;32m    114\u001b[0m     \u001b[39m'\u001b[39m\u001b[39mbl\u001b[39m\u001b[39m'\u001b[39m: \u001b[39m'\u001b[39m\u001b[39mboq_translate-webserver_20201207.13_p0\u001b[39m\u001b[39m'\u001b[39m,\n\u001b[1;32m   (...)\u001b[0m\n\u001b[0;32m    118\u001b[0m     \u001b[39m'\u001b[39m\u001b[39mrt\u001b[39m\u001b[39m'\u001b[39m: \u001b[39m'\u001b[39m\u001b[39mc\u001b[39m\u001b[39m'\u001b[39m,\n\u001b[0;32m    119\u001b[0m }\n\u001b[0;32m    120\u001b[0m r \u001b[39m=\u001b[39m \u001b[39mself\u001b[39m\u001b[39m.\u001b[39mclient\u001b[39m.\u001b[39mpost(url, params\u001b[39m=\u001b[39mparams, data\u001b[39m=\u001b[39mdata)\n\u001b[1;32m--> 122\u001b[0m \u001b[39mif\u001b[39;00m r\u001b[39m.\u001b[39mstatus_code \u001b[39m!=\u001b[39m \u001b[39m200\u001b[39m \u001b[39mand\u001b[39;00m \u001b[39mself\u001b[39;49m\u001b[39m.\u001b[39;49mraise_Exception:\n\u001b[0;32m    123\u001b[0m     \u001b[39mraise\u001b[39;00m \u001b[39mException\u001b[39;00m(\u001b[39m'\u001b[39m\u001b[39mUnexpected status code \u001b[39m\u001b[39m\"\u001b[39m\u001b[39m{}\u001b[39;00m\u001b[39m\"\u001b[39m\u001b[39m from \u001b[39m\u001b[39m{}\u001b[39;00m\u001b[39m'\u001b[39m\u001b[39m.\u001b[39mformat(\n\u001b[0;32m    124\u001b[0m         r\u001b[39m.\u001b[39mstatus_code, \u001b[39mself\u001b[39m\u001b[39m.\u001b[39mservice_urls))\n\u001b[0;32m    126\u001b[0m \u001b[39mreturn\u001b[39;00m r\u001b[39m.\u001b[39mtext, r\n",
      "\u001b[1;31mAttributeError\u001b[0m: 'Translator' object has no attribute 'raise_Exception'"
     ]
    }
   ],
   "source": [
    "result=[]\n",
    "for i in range(2980,3997): #2578 ~3997\n",
    "    translated = translator.translate(기사원본[\"뉴스기사본문전처리\"][i], dest=\"en\")\n",
    "    result.append(translated)"
   ]
  },
  {
   "cell_type": "code",
   "execution_count": 180,
   "metadata": {},
   "outputs": [
    {
     "ename": "ValueError",
     "evalue": "cannot set using a slice indexer with a different length than the value",
     "output_type": "error",
     "traceback": [
      "\u001b[1;31m---------------------------------------------------------------------------\u001b[0m",
      "\u001b[1;31mValueError\u001b[0m                                Traceback (most recent call last)",
      "\u001b[1;32mc:\\Users\\jangd\\OneDrive\\사진\\문서\\GitHub\\project2\\dataset종합\\기사합치기.ipynb Cell 26'\u001b[0m in \u001b[0;36m<cell line: 2>\u001b[1;34m()\u001b[0m\n\u001b[0;32m      <a href='vscode-notebook-cell:/c%3A/Users/jangd/OneDrive/%EC%82%AC%EC%A7%84/%EB%AC%B8%EC%84%9C/GitHub/project2/dataset%EC%A2%85%ED%95%A9/%EA%B8%B0%EC%82%AC%ED%95%A9%EC%B9%98%EA%B8%B0.ipynb#ch0000024?line=0'>1</a>\u001b[0m \u001b[39mlen\u001b[39m(result)\n\u001b[1;32m----> <a href='vscode-notebook-cell:/c%3A/Users/jangd/OneDrive/%EC%82%AC%EC%A7%84/%EB%AC%B8%EC%84%9C/GitHub/project2/dataset%EC%A2%85%ED%95%A9/%EA%B8%B0%EC%82%AC%ED%95%A9%EC%B9%98%EA%B8%B0.ipynb#ch0000024?line=1'>2</a>\u001b[0m 기사원본[\u001b[39m\"\u001b[39m\u001b[39m기사번역\u001b[39m\u001b[39m\"\u001b[39m][\u001b[39m2705\u001b[39m:\u001b[39m2981\u001b[39m]\u001b[39m=\u001b[39mresult\n",
      "File \u001b[1;32mc:\\Users\\jangd\\AppData\\Local\\Programs\\Python\\Python38\\lib\\site-packages\\pandas\\core\\series.py:1082\u001b[0m, in \u001b[0;36mSeries.__setitem__\u001b[1;34m(self, key, value)\u001b[0m\n\u001b[0;32m   1080\u001b[0m \u001b[39mif\u001b[39;00m \u001b[39misinstance\u001b[39m(key, \u001b[39mslice\u001b[39m):\n\u001b[0;32m   1081\u001b[0m     indexer \u001b[39m=\u001b[39m \u001b[39mself\u001b[39m\u001b[39m.\u001b[39mindex\u001b[39m.\u001b[39m_convert_slice_indexer(key, kind\u001b[39m=\u001b[39m\u001b[39m\"\u001b[39m\u001b[39mgetitem\u001b[39m\u001b[39m\"\u001b[39m)\n\u001b[1;32m-> 1082\u001b[0m     \u001b[39mreturn\u001b[39;00m \u001b[39mself\u001b[39;49m\u001b[39m.\u001b[39;49m_set_values(indexer, value)\n\u001b[0;32m   1084\u001b[0m \u001b[39mtry\u001b[39;00m:\n\u001b[0;32m   1085\u001b[0m     \u001b[39mself\u001b[39m\u001b[39m.\u001b[39m_set_with_engine(key, value)\n",
      "File \u001b[1;32mc:\\Users\\jangd\\AppData\\Local\\Programs\\Python\\Python38\\lib\\site-packages\\pandas\\core\\series.py:1185\u001b[0m, in \u001b[0;36mSeries._set_values\u001b[1;34m(self, key, value)\u001b[0m\n\u001b[0;32m   1182\u001b[0m \u001b[39mif\u001b[39;00m \u001b[39misinstance\u001b[39m(key, (Index, Series)):\n\u001b[0;32m   1183\u001b[0m     key \u001b[39m=\u001b[39m key\u001b[39m.\u001b[39m_values\n\u001b[1;32m-> 1185\u001b[0m \u001b[39mself\u001b[39m\u001b[39m.\u001b[39m_mgr \u001b[39m=\u001b[39m \u001b[39mself\u001b[39;49m\u001b[39m.\u001b[39;49m_mgr\u001b[39m.\u001b[39;49msetitem(indexer\u001b[39m=\u001b[39;49mkey, value\u001b[39m=\u001b[39;49mvalue)\n\u001b[0;32m   1186\u001b[0m \u001b[39mself\u001b[39m\u001b[39m.\u001b[39m_maybe_update_cacher()\n",
      "File \u001b[1;32mc:\\Users\\jangd\\AppData\\Local\\Programs\\Python\\Python38\\lib\\site-packages\\pandas\\core\\internals\\managers.py:337\u001b[0m, in \u001b[0;36mBaseBlockManager.setitem\u001b[1;34m(self, indexer, value)\u001b[0m\n\u001b[0;32m    331\u001b[0m \u001b[39mdef\u001b[39;00m \u001b[39msetitem\u001b[39m(\u001b[39mself\u001b[39m: T, indexer, value) \u001b[39m-\u001b[39m\u001b[39m>\u001b[39m T:\n\u001b[0;32m    332\u001b[0m     \u001b[39m\"\"\"\u001b[39;00m\n\u001b[0;32m    333\u001b[0m \u001b[39m    Set values with indexer.\u001b[39;00m\n\u001b[0;32m    334\u001b[0m \n\u001b[0;32m    335\u001b[0m \u001b[39m    For SingleBlockManager, this backs s[indexer] = value\u001b[39;00m\n\u001b[0;32m    336\u001b[0m \u001b[39m    \"\"\"\u001b[39;00m\n\u001b[1;32m--> 337\u001b[0m     \u001b[39mreturn\u001b[39;00m \u001b[39mself\u001b[39;49m\u001b[39m.\u001b[39;49mapply(\u001b[39m\"\u001b[39;49m\u001b[39msetitem\u001b[39;49m\u001b[39m\"\u001b[39;49m, indexer\u001b[39m=\u001b[39;49mindexer, value\u001b[39m=\u001b[39;49mvalue)\n",
      "File \u001b[1;32mc:\\Users\\jangd\\AppData\\Local\\Programs\\Python\\Python38\\lib\\site-packages\\pandas\\core\\internals\\managers.py:304\u001b[0m, in \u001b[0;36mBaseBlockManager.apply\u001b[1;34m(self, f, align_keys, ignore_failures, **kwargs)\u001b[0m\n\u001b[0;32m    302\u001b[0m         applied \u001b[39m=\u001b[39m b\u001b[39m.\u001b[39mapply(f, \u001b[39m*\u001b[39m\u001b[39m*\u001b[39mkwargs)\n\u001b[0;32m    303\u001b[0m     \u001b[39melse\u001b[39;00m:\n\u001b[1;32m--> 304\u001b[0m         applied \u001b[39m=\u001b[39m \u001b[39mgetattr\u001b[39;49m(b, f)(\u001b[39m*\u001b[39;49m\u001b[39m*\u001b[39;49mkwargs)\n\u001b[0;32m    305\u001b[0m \u001b[39mexcept\u001b[39;00m (\u001b[39mTypeError\u001b[39;00m, \u001b[39mNotImplementedError\u001b[39;00m):\n\u001b[0;32m    306\u001b[0m     \u001b[39mif\u001b[39;00m \u001b[39mnot\u001b[39;00m ignore_failures:\n",
      "File \u001b[1;32mc:\\Users\\jangd\\AppData\\Local\\Programs\\Python\\Python38\\lib\\site-packages\\pandas\\core\\internals\\blocks.py:946\u001b[0m, in \u001b[0;36mBlock.setitem\u001b[1;34m(self, indexer, value)\u001b[0m\n\u001b[0;32m    943\u001b[0m     values \u001b[39m=\u001b[39m values\u001b[39m.\u001b[39mT\n\u001b[0;32m    945\u001b[0m \u001b[39m# length checking\u001b[39;00m\n\u001b[1;32m--> 946\u001b[0m check_setitem_lengths(indexer, value, values)\n\u001b[0;32m    948\u001b[0m \u001b[39mif\u001b[39;00m is_empty_indexer(indexer, arr_value):\n\u001b[0;32m    949\u001b[0m     \u001b[39m# GH#8669 empty indexers, test_loc_setitem_boolean_mask_allfalse\u001b[39;00m\n\u001b[0;32m    950\u001b[0m     \u001b[39mpass\u001b[39;00m\n",
      "File \u001b[1;32mc:\\Users\\jangd\\AppData\\Local\\Programs\\Python\\Python38\\lib\\site-packages\\pandas\\core\\indexers\\utils.py:187\u001b[0m, in \u001b[0;36mcheck_setitem_lengths\u001b[1;34m(indexer, value, values)\u001b[0m\n\u001b[0;32m    184\u001b[0m \u001b[39mif\u001b[39;00m is_list_like(value):\n\u001b[0;32m    185\u001b[0m     \u001b[39mif\u001b[39;00m \u001b[39mlen\u001b[39m(value) \u001b[39m!=\u001b[39m length_of_indexer(indexer, values) \u001b[39mand\u001b[39;00m values\u001b[39m.\u001b[39mndim \u001b[39m==\u001b[39m \u001b[39m1\u001b[39m:\n\u001b[0;32m    186\u001b[0m         \u001b[39m# In case of two dimensional value is used row-wise and broadcasted\u001b[39;00m\n\u001b[1;32m--> 187\u001b[0m         \u001b[39mraise\u001b[39;00m \u001b[39mValueError\u001b[39;00m(\n\u001b[0;32m    188\u001b[0m             \u001b[39m\"\u001b[39m\u001b[39mcannot set using a slice indexer with a \u001b[39m\u001b[39m\"\u001b[39m\n\u001b[0;32m    189\u001b[0m             \u001b[39m\"\u001b[39m\u001b[39mdifferent length than the value\u001b[39m\u001b[39m\"\u001b[39m\n\u001b[0;32m    190\u001b[0m         )\n\u001b[0;32m    191\u001b[0m     \u001b[39mif\u001b[39;00m \u001b[39mnot\u001b[39;00m \u001b[39mlen\u001b[39m(value):\n\u001b[0;32m    192\u001b[0m         no_op \u001b[39m=\u001b[39m \u001b[39mTrue\u001b[39;00m\n",
      "\u001b[1;31mValueError\u001b[0m: cannot set using a slice indexer with a different length than the value"
     ]
    }
   ],
   "source": [
    "len(result)\n",
    "기사원본[\"기사번역\"][2705:2981]=result"
   ]
  },
  {
   "cell_type": "code",
   "execution_count": 156,
   "metadata": {},
   "outputs": [
    {
     "ename": "ValueError",
     "evalue": "cannot set using a slice indexer with a different length than the value",
     "output_type": "error",
     "traceback": [
      "\u001b[1;31m---------------------------------------------------------------------------\u001b[0m",
      "\u001b[1;31mValueError\u001b[0m                                Traceback (most recent call last)",
      "\u001b[1;32mc:\\Users\\jangd\\OneDrive\\사진\\문서\\GitHub\\project2\\dataset종합\\기사합치기.ipynb Cell 26'\u001b[0m in \u001b[0;36m<cell line: 1>\u001b[1;34m()\u001b[0m\n\u001b[1;32m----> <a href='vscode-notebook-cell:/c%3A/Users/jangd/OneDrive/%EC%82%AC%EC%A7%84/%EB%AC%B8%EC%84%9C/GitHub/project2/dataset%EC%A2%85%ED%95%A9/%EA%B8%B0%EC%82%AC%ED%95%A9%EC%B9%98%EA%B8%B0.ipynb#ch0000025?line=0'>1</a>\u001b[0m 기사원본[\u001b[39m\"\u001b[39m\u001b[39m기사번역\u001b[39m\u001b[39m\"\u001b[39m][\u001b[39m5200\u001b[39m:\u001b[39m5231\u001b[39m]\u001b[39m=\u001b[39mresult\n",
      "File \u001b[1;32mc:\\Users\\jangd\\AppData\\Local\\Programs\\Python\\Python38\\lib\\site-packages\\pandas\\core\\series.py:1082\u001b[0m, in \u001b[0;36mSeries.__setitem__\u001b[1;34m(self, key, value)\u001b[0m\n\u001b[0;32m   1080\u001b[0m \u001b[39mif\u001b[39;00m \u001b[39misinstance\u001b[39m(key, \u001b[39mslice\u001b[39m):\n\u001b[0;32m   1081\u001b[0m     indexer \u001b[39m=\u001b[39m \u001b[39mself\u001b[39m\u001b[39m.\u001b[39mindex\u001b[39m.\u001b[39m_convert_slice_indexer(key, kind\u001b[39m=\u001b[39m\u001b[39m\"\u001b[39m\u001b[39mgetitem\u001b[39m\u001b[39m\"\u001b[39m)\n\u001b[1;32m-> 1082\u001b[0m     \u001b[39mreturn\u001b[39;00m \u001b[39mself\u001b[39;49m\u001b[39m.\u001b[39;49m_set_values(indexer, value)\n\u001b[0;32m   1084\u001b[0m \u001b[39mtry\u001b[39;00m:\n\u001b[0;32m   1085\u001b[0m     \u001b[39mself\u001b[39m\u001b[39m.\u001b[39m_set_with_engine(key, value)\n",
      "File \u001b[1;32mc:\\Users\\jangd\\AppData\\Local\\Programs\\Python\\Python38\\lib\\site-packages\\pandas\\core\\series.py:1185\u001b[0m, in \u001b[0;36mSeries._set_values\u001b[1;34m(self, key, value)\u001b[0m\n\u001b[0;32m   1182\u001b[0m \u001b[39mif\u001b[39;00m \u001b[39misinstance\u001b[39m(key, (Index, Series)):\n\u001b[0;32m   1183\u001b[0m     key \u001b[39m=\u001b[39m key\u001b[39m.\u001b[39m_values\n\u001b[1;32m-> 1185\u001b[0m \u001b[39mself\u001b[39m\u001b[39m.\u001b[39m_mgr \u001b[39m=\u001b[39m \u001b[39mself\u001b[39;49m\u001b[39m.\u001b[39;49m_mgr\u001b[39m.\u001b[39;49msetitem(indexer\u001b[39m=\u001b[39;49mkey, value\u001b[39m=\u001b[39;49mvalue)\n\u001b[0;32m   1186\u001b[0m \u001b[39mself\u001b[39m\u001b[39m.\u001b[39m_maybe_update_cacher()\n",
      "File \u001b[1;32mc:\\Users\\jangd\\AppData\\Local\\Programs\\Python\\Python38\\lib\\site-packages\\pandas\\core\\internals\\managers.py:337\u001b[0m, in \u001b[0;36mBaseBlockManager.setitem\u001b[1;34m(self, indexer, value)\u001b[0m\n\u001b[0;32m    331\u001b[0m \u001b[39mdef\u001b[39;00m \u001b[39msetitem\u001b[39m(\u001b[39mself\u001b[39m: T, indexer, value) \u001b[39m-\u001b[39m\u001b[39m>\u001b[39m T:\n\u001b[0;32m    332\u001b[0m     \u001b[39m\"\"\"\u001b[39;00m\n\u001b[0;32m    333\u001b[0m \u001b[39m    Set values with indexer.\u001b[39;00m\n\u001b[0;32m    334\u001b[0m \n\u001b[0;32m    335\u001b[0m \u001b[39m    For SingleBlockManager, this backs s[indexer] = value\u001b[39;00m\n\u001b[0;32m    336\u001b[0m \u001b[39m    \"\"\"\u001b[39;00m\n\u001b[1;32m--> 337\u001b[0m     \u001b[39mreturn\u001b[39;00m \u001b[39mself\u001b[39;49m\u001b[39m.\u001b[39;49mapply(\u001b[39m\"\u001b[39;49m\u001b[39msetitem\u001b[39;49m\u001b[39m\"\u001b[39;49m, indexer\u001b[39m=\u001b[39;49mindexer, value\u001b[39m=\u001b[39;49mvalue)\n",
      "File \u001b[1;32mc:\\Users\\jangd\\AppData\\Local\\Programs\\Python\\Python38\\lib\\site-packages\\pandas\\core\\internals\\managers.py:304\u001b[0m, in \u001b[0;36mBaseBlockManager.apply\u001b[1;34m(self, f, align_keys, ignore_failures, **kwargs)\u001b[0m\n\u001b[0;32m    302\u001b[0m         applied \u001b[39m=\u001b[39m b\u001b[39m.\u001b[39mapply(f, \u001b[39m*\u001b[39m\u001b[39m*\u001b[39mkwargs)\n\u001b[0;32m    303\u001b[0m     \u001b[39melse\u001b[39;00m:\n\u001b[1;32m--> 304\u001b[0m         applied \u001b[39m=\u001b[39m \u001b[39mgetattr\u001b[39;49m(b, f)(\u001b[39m*\u001b[39;49m\u001b[39m*\u001b[39;49mkwargs)\n\u001b[0;32m    305\u001b[0m \u001b[39mexcept\u001b[39;00m (\u001b[39mTypeError\u001b[39;00m, \u001b[39mNotImplementedError\u001b[39;00m):\n\u001b[0;32m    306\u001b[0m     \u001b[39mif\u001b[39;00m \u001b[39mnot\u001b[39;00m ignore_failures:\n",
      "File \u001b[1;32mc:\\Users\\jangd\\AppData\\Local\\Programs\\Python\\Python38\\lib\\site-packages\\pandas\\core\\internals\\blocks.py:946\u001b[0m, in \u001b[0;36mBlock.setitem\u001b[1;34m(self, indexer, value)\u001b[0m\n\u001b[0;32m    943\u001b[0m     values \u001b[39m=\u001b[39m values\u001b[39m.\u001b[39mT\n\u001b[0;32m    945\u001b[0m \u001b[39m# length checking\u001b[39;00m\n\u001b[1;32m--> 946\u001b[0m check_setitem_lengths(indexer, value, values)\n\u001b[0;32m    948\u001b[0m \u001b[39mif\u001b[39;00m is_empty_indexer(indexer, arr_value):\n\u001b[0;32m    949\u001b[0m     \u001b[39m# GH#8669 empty indexers, test_loc_setitem_boolean_mask_allfalse\u001b[39;00m\n\u001b[0;32m    950\u001b[0m     \u001b[39mpass\u001b[39;00m\n",
      "File \u001b[1;32mc:\\Users\\jangd\\AppData\\Local\\Programs\\Python\\Python38\\lib\\site-packages\\pandas\\core\\indexers\\utils.py:187\u001b[0m, in \u001b[0;36mcheck_setitem_lengths\u001b[1;34m(indexer, value, values)\u001b[0m\n\u001b[0;32m    184\u001b[0m \u001b[39mif\u001b[39;00m is_list_like(value):\n\u001b[0;32m    185\u001b[0m     \u001b[39mif\u001b[39;00m \u001b[39mlen\u001b[39m(value) \u001b[39m!=\u001b[39m length_of_indexer(indexer, values) \u001b[39mand\u001b[39;00m values\u001b[39m.\u001b[39mndim \u001b[39m==\u001b[39m \u001b[39m1\u001b[39m:\n\u001b[0;32m    186\u001b[0m         \u001b[39m# In case of two dimensional value is used row-wise and broadcasted\u001b[39;00m\n\u001b[1;32m--> 187\u001b[0m         \u001b[39mraise\u001b[39;00m \u001b[39mValueError\u001b[39;00m(\n\u001b[0;32m    188\u001b[0m             \u001b[39m\"\u001b[39m\u001b[39mcannot set using a slice indexer with a \u001b[39m\u001b[39m\"\u001b[39m\n\u001b[0;32m    189\u001b[0m             \u001b[39m\"\u001b[39m\u001b[39mdifferent length than the value\u001b[39m\u001b[39m\"\u001b[39m\n\u001b[0;32m    190\u001b[0m         )\n\u001b[0;32m    191\u001b[0m     \u001b[39mif\u001b[39;00m \u001b[39mnot\u001b[39;00m \u001b[39mlen\u001b[39m(value):\n\u001b[0;32m    192\u001b[0m         no_op \u001b[39m=\u001b[39m \u001b[39mTrue\u001b[39;00m\n",
      "\u001b[1;31mValueError\u001b[0m: cannot set using a slice indexer with a different length than the value"
     ]
    }
   ],
   "source": [
    "기사원본[\"기사번역\"][5200:5231]=result"
   ]
  },
  {
   "cell_type": "code",
   "execution_count": 157,
   "metadata": {},
   "outputs": [
    {
     "data": {
      "text/plain": [
       "'장 마감 후 주요 종목 공시-26일'"
      ]
     },
     "execution_count": 157,
     "metadata": {},
     "output_type": "execute_result"
    }
   ],
   "source": [
    "기사원본[\"기사번역\"][5231]"
   ]
  },
  {
   "cell_type": "code",
   "execution_count": 152,
   "metadata": {},
   "outputs": [
    {
     "data": {
      "text/plain": [
       "0      Signal Entertainment Group, an entertainment a...\n",
       "1      Signal Entertainment Group announced that it w...\n",
       "2      Signal Entertainment Group raised 100 million ...\n",
       "3      Signal Entertainment Group said its largest sh...\n",
       "4      Signal Entertainment Group has been soaring fo...\n",
       "                             ...                        \n",
       "202    The KOSDAQ Market Headquarters of the Korea Ex...\n",
       "203    The KOSDAQ Market Headquarters of the Korea Ex...\n",
       "204    COSUNBIO made a public announcement that it ha...\n",
       "205    The KOSDAQ Market Headquarters of the Korea Ex...\n",
       "206    The largest shareholder of software enterprise...\n",
       "Name: 0, Length: 207, dtype: object"
      ]
     },
     "execution_count": 152,
     "metadata": {},
     "output_type": "execute_result"
    }
   ],
   "source": [
    "df=pd.read_csv(\"5585부터.csv\",encoding=\"utf-8-sig\")\n",
    "df[\"0\"][0:207]"
   ]
  },
  {
   "cell_type": "code",
   "execution_count": 153,
   "metadata": {},
   "outputs": [],
   "source": [
    "기사원본[\"기사번역\"][5585:]=df[\"0\"][0:207]#0~2577 #3998부터 끝\n",
    "# len(df[\"0\"][0:206])\n"
   ]
  },
  {
   "cell_type": "code",
   "execution_count": 190,
   "metadata": {},
   "outputs": [
    {
     "data": {
      "text/html": [
       "<div>\n",
       "<style scoped>\n",
       "    .dataframe tbody tr th:only-of-type {\n",
       "        vertical-align: middle;\n",
       "    }\n",
       "\n",
       "    .dataframe tbody tr th {\n",
       "        vertical-align: top;\n",
       "    }\n",
       "\n",
       "    .dataframe thead th {\n",
       "        text-align: right;\n",
       "    }\n",
       "</style>\n",
       "<table border=\"1\" class=\"dataframe\">\n",
       "  <thead>\n",
       "    <tr style=\"text-align: right;\">\n",
       "      <th></th>\n",
       "      <th>Unnamed: 0</th>\n",
       "      <th>0</th>\n",
       "    </tr>\n",
       "  </thead>\n",
       "  <tbody>\n",
       "    <tr>\n",
       "      <th>0</th>\n",
       "      <td>0</td>\n",
       "      <td>Recently, notices of designation of unfaithful...</td>\n",
       "    </tr>\n",
       "    <tr>\n",
       "      <th>1</th>\n",
       "      <td>1</td>\n",
       "      <td>Companies that have been designated as investm...</td>\n",
       "    </tr>\n",
       "    <tr>\n",
       "      <th>2</th>\n",
       "      <td>2</td>\n",
       "      <td>Hwa-Yoo Merchant Grant Ceratec Free Grant Abac...</td>\n",
       "    </tr>\n",
       "    <tr>\n",
       "      <th>3</th>\n",
       "      <td>3</td>\n",
       "      <td>Decision on interim dividend of KRW per share ...</td>\n",
       "    </tr>\n",
       "    <tr>\n",
       "      <th>4</th>\n",
       "      <td>4</td>\n",
       "      <td>Banglim billion treasury stock acquisition tru...</td>\n",
       "    </tr>\n",
       "    <tr>\n",
       "      <th>...</th>\n",
       "      <td>...</td>\n",
       "      <td>...</td>\n",
       "    </tr>\n",
       "    <tr>\n",
       "      <th>690</th>\n",
       "      <td>690</td>\n",
       "      <td>The Bell|This article was published in the mon...</td>\n",
       "    </tr>\n",
       "    <tr>\n",
       "      <th>691</th>\n",
       "      <td>691</td>\n",
       "      <td>Display parts maker G&amp;ST soared to the upper l...</td>\n",
       "    </tr>\n",
       "    <tr>\n",
       "      <th>692</th>\n",
       "      <td>692</td>\n",
       "      <td>G&amp;ST, which escaped the delisting crisis, is s...</td>\n",
       "    </tr>\n",
       "    <tr>\n",
       "      <th>693</th>\n",
       "      <td>693</td>\n",
       "      <td>G&amp;ST soared to the upper limit for two days in...</td>\n",
       "    </tr>\n",
       "    <tr>\n",
       "      <th>694</th>\n",
       "      <td>694</td>\n",
       "      <td>This is the upper limit on the first day when ...</td>\n",
       "    </tr>\n",
       "  </tbody>\n",
       "</table>\n",
       "<p>695 rows × 2 columns</p>\n",
       "</div>"
      ],
      "text/plain": [
       "     Unnamed: 0                                                  0\n",
       "0             0  Recently, notices of designation of unfaithful...\n",
       "1             1  Companies that have been designated as investm...\n",
       "2             2  Hwa-Yoo Merchant Grant Ceratec Free Grant Abac...\n",
       "3             3  Decision on interim dividend of KRW per share ...\n",
       "4             4  Banglim billion treasury stock acquisition tru...\n",
       "..          ...                                                ...\n",
       "690         690  The Bell|This article was published in the mon...\n",
       "691         691  Display parts maker G&ST soared to the upper l...\n",
       "692         692  G&ST, which escaped the delisting crisis, is s...\n",
       "693         693  G&ST soared to the upper limit for two days in...\n",
       "694         694  This is the upper limit on the first day when ...\n",
       "\n",
       "[695 rows x 2 columns]"
      ]
     },
     "execution_count": 190,
     "metadata": {},
     "output_type": "execute_result"
    }
   ],
   "source": [
    "번역_2981_3676=pd.read_csv(\"2981_3676.csv\",encoding=\"utf-8-sig\")\n",
    "번역_2981_3676"
   ]
  },
  {
   "cell_type": "code",
   "execution_count": 191,
   "metadata": {},
   "outputs": [
    {
     "data": {
      "text/plain": [
       "695"
      ]
     },
     "execution_count": 191,
     "metadata": {},
     "output_type": "execute_result"
    }
   ],
   "source": [
    "len(번역_2981_3676)"
   ]
  },
  {
   "cell_type": "code",
   "execution_count": 194,
   "metadata": {},
   "outputs": [],
   "source": [
    "len(기사원본[\"기사번역\"][2981:3676])#=번역_3676_3997\n",
    "기사원본[\"기사번역\"][2981:3676]=번역_2981_3676[\"0\"]"
   ]
  },
  {
   "cell_type": "code",
   "execution_count": 166,
   "metadata": {},
   "outputs": [],
   "source": [
    "기사원본[\"기사번역\"][5500]=['Steel Flower fell to the won on the same day, recording a low price. The current stock price of the same item is at the original level, down . from the previous day. Based on the trading day, the average daily trading volume is 10,000 shares. Compared to the average daily trading volume of 10,000 shares, it can be seen that the recent trading volume has decreased somewhat.Individual net buyers of foreign institutions were net buyers of stocks by foreigners the day of net selling. On a weekly basis, foreigners bought stocks on a net basis while dropping the price, and institutions also bought stocks on a net basis as they shifted their trading perspective from selling to buying. On the other hand, individuals showed a net selling of stocks with a selling advantage.No change in institutions with reduced foreign holdings In recent days, foreign investors in the same category for the same day sold stocks, while institutions bought stocks. Foreigners bought stocks the previous day, but institutions maintained their holding ratio with net purchases.The following table shows the daily net purchases of foreign institutions of the same category. is an article produced in real time by robot reporters in collaboration with Thinkpool, a securities company, and Financial News. All the stories in the world, \"Pas,\" are shown in entertainment news, star copyright holders, and Financial News. No unauthorized re-distribution']"
   ]
  },
  {
   "cell_type": "code",
   "execution_count": 196,
   "metadata": {},
   "outputs": [],
   "source": [
    "기사원본.to_csv(\"추가된거_완성번역본_상폐.csv\",encoding=\"utf-8-sig\")"
   ]
  },
  {
   "cell_type": "code",
   "execution_count": null,
   "metadata": {},
   "outputs": [],
   "source": []
  }
 ],
 "metadata": {
  "kernelspec": {
   "display_name": "Python 3.8.8rc1 64-bit",
   "language": "python",
   "name": "python3"
  },
  "language_info": {
   "codemirror_mode": {
    "name": "ipython",
    "version": 3
   },
   "file_extension": ".py",
   "mimetype": "text/x-python",
   "name": "python",
   "nbconvert_exporter": "python",
   "pygments_lexer": "ipython3",
   "version": "3.8.8rc1"
  },
  "orig_nbformat": 4,
  "vscode": {
   "interpreter": {
    "hash": "722b21b25ff779b5f304eaf92f77bc0ad07367ec915dcd732581241fa9ae9a7c"
   }
  }
 },
 "nbformat": 4,
 "nbformat_minor": 2
}
