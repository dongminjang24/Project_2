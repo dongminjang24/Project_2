{
 "cells": [
  {
   "cell_type": "code",
   "execution_count": 14,
   "metadata": {},
   "outputs": [],
   "source": [
    "import pandas as pd\n",
    "import numpy as np\n",
    "import time\n",
    "import re\n",
    "import requests\n",
    "import pickle\n",
    "import joblib\n",
    "import lxml\n",
    "import joblib\n",
    "\n",
    "from tensorflow.keras.preprocessing import sequence\n",
    "from eunjeon import Mecab\n",
    "from keras.models import load_model\n",
    "from selenium import webdriver\n",
    "from bs4 import BeautifulSoup\n",
    "from dateutil.relativedelta import relativedelta\n",
    "from datetime import datetime"
   ]
  },
  {
   "cell_type": "code",
   "execution_count": 15,
   "metadata": {},
   "outputs": [
    {
     "name": "stderr",
     "output_type": "stream",
     "text": [
      "C:\\Users\\dbswo\\AppData\\Local\\Temp\\ipykernel_15020\\3906184618.py:2: FutureWarning: The default value of regex will change from True to False in a future version.\n",
      "  정상재무비율.회사명 = 정상재무비율.회사명.str.replace('\\(주\\)', '')\n",
      "C:\\Users\\dbswo\\AppData\\Local\\Temp\\ipykernel_15020\\3906184618.py:4: FutureWarning: The default value of regex will change from True to False in a future version.\n",
      "  정상기사.기업 = 정상기사.기업.str.replace('\\(주\\)', '')\n"
     ]
    }
   ],
   "source": [
    "정상재무비율 = pd.read_csv('./rawdata/정상기업재무비율21년도.csv', encoding='cp949')\n",
    "정상재무비율.회사명 = 정상재무비율.회사명.str.replace('\\(주\\)', '')\n",
    "정상기사 = pd.read_csv('./rawdata/정상기업번역파일21.csv', index_col=0)\n",
    "정상기사.기업 = 정상기사.기업.str.replace('\\(주\\)', '')"
   ]
  },
  {
   "cell_type": "code",
   "execution_count": 16,
   "metadata": {},
   "outputs": [],
   "source": [
    "mecab = Mecab()\n",
    "## Mecab으로 명사에 해당하는 단어만 추출합니다.\n",
    "정상기사['뉴스기사본문전처리'] = 정상기사['뉴스기사본문전처리'].apply(lambda x: mecab.nouns(x))\n",
    "## 한 글자 단어를 제거합니다.\n",
    "정상기사['뉴스기사본문전처리'] = 정상기사['뉴스기사본문전처리'].apply(lambda x: [word for word in x if len(word) > 1])"
   ]
  },
  {
   "cell_type": "code",
   "execution_count": 17,
   "metadata": {},
   "outputs": [],
   "source": [
    "with open('./model/tokenizer.pickle', 'rb') as handle:\n",
    "    tokenizer = pickle.load(handle)\n",
    "\n",
    "뉴스기사본문전처리 = np.array(정상기사['뉴스기사본문전처리'])\n",
    "\n",
    "뉴스기사본문전처리 = tokenizer.texts_to_sequences(뉴스기사본문전처리)\n",
    "뉴스기사본문전처리 = sequence.pad_sequences(뉴스기사본문전처리, maxlen=100)"
   ]
  },
  {
   "cell_type": "code",
   "execution_count": 18,
   "metadata": {},
   "outputs": [
    {
     "name": "stdout",
     "output_type": "stream",
     "text": [
      "2/2 [==============================] - 0s 6ms/step\n"
     ]
    }
   ],
   "source": [
    "model_t = load_model(\"./model/03-0.150524.hdf5\")\n",
    "\n",
    "predict = model_t.predict(뉴스기사본문전처리)\n",
    "predict = predict.round()\n",
    "\n",
    "## 뉴스 데이터프레임에 예측값을 부도기사분류라는 이름으로 붙이고 groupby를 활용하여 부도기사비율을 계산합니다.\n",
    "정상기사['부도기사분류'] = predict\n",
    "전체기사수 = pd.DataFrame(정상기사.groupby(['기업']).count()['부도기사분류'])\n",
    "전체기사수.reset_index(drop = False, inplace = True)\n",
    "전체기사수.columns = ['회사명', '전체기사수']\n",
    "\n",
    "부도기사수 = pd.DataFrame(정상기사[정상기사.부도기사분류==1].groupby(['기업']).count()['부도기사분류'])\n",
    "부도기사수.reset_index(drop = False, inplace = True)\n",
    "부도기사수.columns = ['회사명', '부도기사수']\n",
    "\n",
    "부도기사비율 = pd.merge(전체기사수, 부도기사수, on='회사명')\n",
    "부도기사비율['부도기사비율'] = (부도기사비율['부도기사수'] / 부도기사비율['전체기사수']) * 100\n",
    "부도기사비율.drop(['전체기사수', '부도기사수'], axis=1, inplace=True)"
   ]
  },
  {
   "cell_type": "code",
   "execution_count": 19,
   "metadata": {},
   "outputs": [],
   "source": [
    "사용할재무비율_최종  = pd.merge(정상재무비율, 부도기사비율, on='회사명', how='left')\n",
    "사용할재무비율_최종['부도기사비율'].fillna(0, inplace=True)\n",
    "사용할재무비율_최종.to_csv('정상기업데이터.csv', encoding='utf-8-sig', index=None)"
   ]
  },
  {
   "cell_type": "code",
   "execution_count": null,
   "metadata": {},
   "outputs": [],
   "source": []
  }
 ],
 "metadata": {
  "kernelspec": {
   "display_name": "Python 3.8.0 64-bit",
   "language": "python",
   "name": "python3"
  },
  "language_info": {
   "codemirror_mode": {
    "name": "ipython",
    "version": 3
   },
   "file_extension": ".py",
   "mimetype": "text/x-python",
   "name": "python",
   "nbconvert_exporter": "python",
   "pygments_lexer": "ipython3",
   "version": "3.8.0"
  },
  "orig_nbformat": 4,
  "vscode": {
   "interpreter": {
    "hash": "25a19fbe0a9132dfb9279d48d161753c6352f8f9478c2e74383d340069b907c3"
   }
  }
 },
 "nbformat": 4,
 "nbformat_minor": 2
}
