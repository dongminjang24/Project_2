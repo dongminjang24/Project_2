{
  "cells": [
    {
      "cell_type": "markdown",
      "metadata": {
        "id": "-Oy1dS1zvduy"
      },
      "source": [
        "한국어 Word2Vec 만들기(네이버 뉴스)"
      ]
    },
    {
      "cell_type": "code",
      "execution_count": 1,
      "metadata": {
        "id": "tq9sU5lCvkOk"
      },
      "outputs": [],
      "source": [
        "import pandas as pd\n",
        "import matplotlib.pyplot as plt\n",
        "import urllib.request\n",
        "import re\n",
        "from konlpy.tag import Okt"
      ]
    },
    {
      "cell_type": "code",
      "execution_count": 15,
      "metadata": {},
      "outputs": [],
      "source": [
        "data=pd.read_csv(\"전체새롭게합친거.csv\",index_col=0)"
      ]
    },
    {
      "cell_type": "code",
      "execution_count": 16,
      "metadata": {
        "id": "-Ctv17xtwdsQ"
      },
      "outputs": [
        {
          "data": {
            "text/html": [
              "<div>\n",
              "<style scoped>\n",
              "    .dataframe tbody tr th:only-of-type {\n",
              "        vertical-align: middle;\n",
              "    }\n",
              "\n",
              "    .dataframe tbody tr th {\n",
              "        vertical-align: top;\n",
              "    }\n",
              "\n",
              "    .dataframe thead th {\n",
              "        text-align: right;\n",
              "    }\n",
              "</style>\n",
              "<table border=\"1\" class=\"dataframe\">\n",
              "  <thead>\n",
              "    <tr style=\"text-align: right;\">\n",
              "      <th></th>\n",
              "      <th>기업</th>\n",
              "      <th>기사발행일</th>\n",
              "      <th>기사제목</th>\n",
              "      <th>뉴스기사본문전처리</th>\n",
              "      <th>뉴스기사 레이블</th>\n",
              "    </tr>\n",
              "  </thead>\n",
              "  <tbody>\n",
              "    <tr>\n",
              "      <th>0</th>\n",
              "      <td>네이쳐글로벌</td>\n",
              "      <td>2010.10.01. 오전 9:23</td>\n",
              "      <td>[특징주] 네이쳐글로벌 상한가…\"전 대표 횡령 확인 안돼\"</td>\n",
              "      <td>비메모리 반도체 업체인 네이쳐글로벌이 전 대표 횡령 혐의에 대해 확인된 바 없다고 ...</td>\n",
              "      <td>0</td>\n",
              "    </tr>\n",
              "    <tr>\n",
              "      <th>1</th>\n",
              "      <td>네이쳐글로벌</td>\n",
              "      <td>2010.09.28. 오후 4:29</td>\n",
              "      <td>네이쳐글로벌, 네비스탁측이 74만여주 장내매도</td>\n",
              "      <td>네비스탁은 특별관계자로 포함된 개인투자자들이 네이쳐글로벌 주식 만주를 장내 매도했...</td>\n",
              "      <td>0</td>\n",
              "    </tr>\n",
              "    <tr>\n",
              "      <th>2</th>\n",
              "      <td>네이쳐글로벌</td>\n",
              "      <td>2010.09.16. 오전 9:23</td>\n",
              "      <td>[특징주] 네이쳐글로벌, 투자경고 지정 이후 약세</td>\n",
              "      <td>네이쳐글로벌이 투자경고 지정 소식에 이어 전환사채 물량 상장에 따른 수급 불안으로 ...</td>\n",
              "      <td>0</td>\n",
              "    </tr>\n",
              "    <tr>\n",
              "      <th>3</th>\n",
              "      <td>네이쳐글로벌</td>\n",
              "      <td>2010.09.14. 오후 4:21</td>\n",
              "      <td>네비스탁외 51인, 네이쳐글로벌 지분 1.26% 줄어</td>\n",
              "      <td>네비스탁외 인은 일 신규 소액주주 의결권 규합 및 보유주식수 변동에 따라 네이쳐글...</td>\n",
              "      <td>0</td>\n",
              "    </tr>\n",
              "    <tr>\n",
              "      <th>4</th>\n",
              "      <td>네이쳐글로벌</td>\n",
              "      <td>2010.09.16. 오후 8:08</td>\n",
              "      <td>네이쳐글로벌, 공시번복..불성실공시법인 지정</td>\n",
              "      <td>한국거래소 코스닥시장본부는 일 네이쳐글로벌에 대해 공시번복으로 인해 불성실공시법인...</td>\n",
              "      <td>0</td>\n",
              "    </tr>\n",
              "    <tr>\n",
              "      <th>...</th>\n",
              "      <td>...</td>\n",
              "      <td>...</td>\n",
              "      <td>...</td>\n",
              "      <td>...</td>\n",
              "      <td>...</td>\n",
              "    </tr>\n",
              "    <tr>\n",
              "      <th>14807</th>\n",
              "      <td>에이치엘비</td>\n",
              "      <td>2020.09.22. 오전 5:20</td>\n",
              "      <td>에이치엘비 리보세라닙, 글로벌 항암제로 성공 가능성↑</td>\n",
              "      <td>에이치엘비가 유럽종양학회에서 리보세라닙의 가치를 입증했다./사진에이치엘비에이치엘비의...</td>\n",
              "      <td>0</td>\n",
              "    </tr>\n",
              "    <tr>\n",
              "      <th>14808</th>\n",
              "      <td>에이치엘비</td>\n",
              "      <td>2020.09.21. 오후 4:18</td>\n",
              "      <td>에이치엘비, ESMO서 '리보세라닙' 관련 논문 23개 발표</td>\n",
              "      <td>에이치엘비  김제이 기자  에이치엘비는 유럽종양학회에서 리보세라닙 관련 논문이 개...</td>\n",
              "      <td>0</td>\n",
              "    </tr>\n",
              "    <tr>\n",
              "      <th>14809</th>\n",
              "      <td>에이치엘비</td>\n",
              "      <td>2020.12.04. 오후 4:15</td>\n",
              "      <td>에스퓨얼셀, 에이치엘비와 수소선박 공동개발 '맞손'…\"2023년 상용화 목표\"</td>\n",
              "      <td>급 수소연료전지선박 개발 협력년 수소유람선 상용화 목표설계 모듈화연료전지 전문업체 ...</td>\n",
              "      <td>0</td>\n",
              "    </tr>\n",
              "    <tr>\n",
              "      <th>14810</th>\n",
              "      <td>에이치엘비</td>\n",
              "      <td>2020.12.30. 오후 5:45</td>\n",
              "      <td>코스닥, 23년만에 최고치…시총도 지각변동</td>\n",
              "      <td>코스닥지수 지난해 말 대비 . 상승개인 비중 .로 확대거래량 급등한국거래소는 일 년...</td>\n",
              "      <td>0</td>\n",
              "    </tr>\n",
              "    <tr>\n",
              "      <th>14811</th>\n",
              "      <td>에이치엘비</td>\n",
              "      <td>2020.12.22. 오전 9:17</td>\n",
              "      <td>리보세라닙, 병용임상서 담낭암·폐암 ‘완전 관해’ 관찰</td>\n",
              "      <td>에이치엘비  에이치엘비는 중국에서 수행된 리보세라닙과 캄렐리주맙 연구 임상 결과 비...</td>\n",
              "      <td>0</td>\n",
              "    </tr>\n",
              "  </tbody>\n",
              "</table>\n",
              "<p>14812 rows × 5 columns</p>\n",
              "</div>"
            ],
            "text/plain": [
              "           기업                기사발행일  \\\n",
              "0      네이쳐글로벌  2010.10.01. 오전 9:23   \n",
              "1      네이쳐글로벌  2010.09.28. 오후 4:29   \n",
              "2      네이쳐글로벌  2010.09.16. 오전 9:23   \n",
              "3      네이쳐글로벌  2010.09.14. 오후 4:21   \n",
              "4      네이쳐글로벌  2010.09.16. 오후 8:08   \n",
              "...       ...                  ...   \n",
              "14807   에이치엘비  2020.09.22. 오전 5:20   \n",
              "14808   에이치엘비  2020.09.21. 오후 4:18   \n",
              "14809   에이치엘비  2020.12.04. 오후 4:15   \n",
              "14810   에이치엘비  2020.12.30. 오후 5:45   \n",
              "14811   에이치엘비  2020.12.22. 오전 9:17   \n",
              "\n",
              "                                              기사제목  \\\n",
              "0                 [특징주] 네이쳐글로벌 상한가…\"전 대표 횡령 확인 안돼\"   \n",
              "1                        네이쳐글로벌, 네비스탁측이 74만여주 장내매도   \n",
              "2                      [특징주] 네이쳐글로벌, 투자경고 지정 이후 약세   \n",
              "3                    네비스탁외 51인, 네이쳐글로벌 지분 1.26% 줄어   \n",
              "4                         네이쳐글로벌, 공시번복..불성실공시법인 지정   \n",
              "...                                            ...   \n",
              "14807                에이치엘비 리보세라닙, 글로벌 항암제로 성공 가능성↑   \n",
              "14808            에이치엘비, ESMO서 '리보세라닙' 관련 논문 23개 발표   \n",
              "14809  에스퓨얼셀, 에이치엘비와 수소선박 공동개발 '맞손'…\"2023년 상용화 목표\"   \n",
              "14810                      코스닥, 23년만에 최고치…시총도 지각변동   \n",
              "14811               리보세라닙, 병용임상서 담낭암·폐암 ‘완전 관해’ 관찰   \n",
              "\n",
              "                                               뉴스기사본문전처리  뉴스기사 레이블  \n",
              "0      비메모리 반도체 업체인 네이쳐글로벌이 전 대표 횡령 혐의에 대해 확인된 바 없다고 ...         0  \n",
              "1       네비스탁은 특별관계자로 포함된 개인투자자들이 네이쳐글로벌 주식 만주를 장내 매도했...         0  \n",
              "2      네이쳐글로벌이 투자경고 지정 소식에 이어 전환사채 물량 상장에 따른 수급 불안으로 ...         0  \n",
              "3       네비스탁외 인은 일 신규 소액주주 의결권 규합 및 보유주식수 변동에 따라 네이쳐글...         0  \n",
              "4       한국거래소 코스닥시장본부는 일 네이쳐글로벌에 대해 공시번복으로 인해 불성실공시법인...         0  \n",
              "...                                                  ...       ...  \n",
              "14807  에이치엘비가 유럽종양학회에서 리보세라닙의 가치를 입증했다./사진에이치엘비에이치엘비의...         0  \n",
              "14808   에이치엘비  김제이 기자  에이치엘비는 유럽종양학회에서 리보세라닙 관련 논문이 개...         0  \n",
              "14809  급 수소연료전지선박 개발 협력년 수소유람선 상용화 목표설계 모듈화연료전지 전문업체 ...         0  \n",
              "14810  코스닥지수 지난해 말 대비 . 상승개인 비중 .로 확대거래량 급등한국거래소는 일 년...         0  \n",
              "14811  에이치엘비  에이치엘비는 중국에서 수행된 리보세라닙과 캄렐리주맙 연구 임상 결과 비...         0  \n",
              "\n",
              "[14812 rows x 5 columns]"
            ]
          },
          "execution_count": 16,
          "metadata": {},
          "output_type": "execute_result"
        }
      ],
      "source": [
        "data.drop([\"index\"],inplace=True,axis=1)\n",
        "data"
      ]
    },
    {
      "cell_type": "code",
      "execution_count": 17,
      "metadata": {
        "id": "KPIlTH_twq--"
      },
      "outputs": [
        {
          "name": "stdout",
          "output_type": "stream",
          "text": [
            "False\n"
          ]
        }
      ],
      "source": [
        "# NULL 값 존재 유무\n",
        "print(data.isnull().values.any())"
      ]
    },
    {
      "cell_type": "code",
      "execution_count": 18,
      "metadata": {
        "id": "QsloTgDOxXAt"
      },
      "outputs": [
        {
          "name": "stdout",
          "output_type": "stream",
          "text": [
            "14812\n"
          ]
        }
      ],
      "source": [
        "print(len(data))   # 기사본문 개수 출력"
      ]
    },
    {
      "cell_type": "markdown",
      "metadata": {},
      "source": [
        "기사의 길이 및 분포 확인"
      ]
    },
    {
      "cell_type": "markdown",
      "metadata": {},
      "source": [
        "뉴스기사 레이블 시키기"
      ]
    },
    {
      "cell_type": "code",
      "execution_count": 19,
      "metadata": {},
      "outputs": [
        {
          "name": "stderr",
          "output_type": "stream",
          "text": [
            "C:\\Users\\jangd\\AppData\\Local\\Temp\\ipykernel_27328\\1452912641.py:6: SettingWithCopyWarning: \n",
            "A value is trying to be set on a copy of a slice from a DataFrame\n",
            "\n",
            "See the caveats in the documentation: https://pandas.pydata.org/pandas-docs/stable/user_guide/indexing.html#returning-a-view-versus-a-copy\n",
            "  data['뉴스기사 레이블'][i]=0\n",
            "C:\\Users\\jangd\\AppData\\Local\\Temp\\ipykernel_27328\\1452912641.py:4: SettingWithCopyWarning: \n",
            "A value is trying to be set on a copy of a slice from a DataFrame\n",
            "\n",
            "See the caveats in the documentation: https://pandas.pydata.org/pandas-docs/stable/user_guide/indexing.html#returning-a-view-versus-a-copy\n",
            "  data['뉴스기사 레이블'][i]=1\n"
          ]
        }
      ],
      "source": [
        "keywords=[\"상폐\", \"적격성\", \"이의신청\", \"폐지\"]\n",
        "for i in range(len(data)):\n",
        "    if any(keyword in str(data[\"뉴스기사본문전처리\"][i]) for keyword in keywords)==True:\n",
        "        data['뉴스기사 레이블'][i]=1\n",
        "    else:\n",
        "        data['뉴스기사 레이블'][i]=0\n"
      ]
    },
    {
      "cell_type": "code",
      "execution_count": 21,
      "metadata": {},
      "outputs": [
        {
          "data": {
            "text/html": [
              "<div>\n",
              "<style scoped>\n",
              "    .dataframe tbody tr th:only-of-type {\n",
              "        vertical-align: middle;\n",
              "    }\n",
              "\n",
              "    .dataframe tbody tr th {\n",
              "        vertical-align: top;\n",
              "    }\n",
              "\n",
              "    .dataframe thead th {\n",
              "        text-align: right;\n",
              "    }\n",
              "</style>\n",
              "<table border=\"1\" class=\"dataframe\">\n",
              "  <thead>\n",
              "    <tr style=\"text-align: right;\">\n",
              "      <th></th>\n",
              "      <th>기업</th>\n",
              "      <th>기사발행일</th>\n",
              "      <th>기사제목</th>\n",
              "      <th>뉴스기사본문전처리</th>\n",
              "      <th>뉴스기사 레이블</th>\n",
              "    </tr>\n",
              "  </thead>\n",
              "  <tbody>\n",
              "    <tr>\n",
              "      <th>0</th>\n",
              "      <td>네이쳐글로벌</td>\n",
              "      <td>2010.10.01. 오전 9:23</td>\n",
              "      <td>[특징주] 네이쳐글로벌 상한가…\"전 대표 횡령 확인 안돼\"</td>\n",
              "      <td>비메모리 반도체 업체인 네이쳐글로벌이 전 대표 횡령 혐의에 대해 확인된 바 없다고 ...</td>\n",
              "      <td>0</td>\n",
              "    </tr>\n",
              "    <tr>\n",
              "      <th>1</th>\n",
              "      <td>네이쳐글로벌</td>\n",
              "      <td>2010.09.28. 오후 4:29</td>\n",
              "      <td>네이쳐글로벌, 네비스탁측이 74만여주 장내매도</td>\n",
              "      <td>네비스탁은 특별관계자로 포함된 개인투자자들이 네이쳐글로벌 주식 만주를 장내 매도했...</td>\n",
              "      <td>0</td>\n",
              "    </tr>\n",
              "    <tr>\n",
              "      <th>2</th>\n",
              "      <td>네이쳐글로벌</td>\n",
              "      <td>2010.09.16. 오전 9:23</td>\n",
              "      <td>[특징주] 네이쳐글로벌, 투자경고 지정 이후 약세</td>\n",
              "      <td>네이쳐글로벌이 투자경고 지정 소식에 이어 전환사채 물량 상장에 따른 수급 불안으로 ...</td>\n",
              "      <td>0</td>\n",
              "    </tr>\n",
              "    <tr>\n",
              "      <th>3</th>\n",
              "      <td>네이쳐글로벌</td>\n",
              "      <td>2010.09.14. 오후 4:21</td>\n",
              "      <td>네비스탁외 51인, 네이쳐글로벌 지분 1.26% 줄어</td>\n",
              "      <td>네비스탁외 인은 일 신규 소액주주 의결권 규합 및 보유주식수 변동에 따라 네이쳐글...</td>\n",
              "      <td>0</td>\n",
              "    </tr>\n",
              "    <tr>\n",
              "      <th>4</th>\n",
              "      <td>네이쳐글로벌</td>\n",
              "      <td>2010.09.16. 오후 8:08</td>\n",
              "      <td>네이쳐글로벌, 공시번복..불성실공시법인 지정</td>\n",
              "      <td>한국거래소 코스닥시장본부는 일 네이쳐글로벌에 대해 공시번복으로 인해 불성실공시법인...</td>\n",
              "      <td>0</td>\n",
              "    </tr>\n",
              "    <tr>\n",
              "      <th>...</th>\n",
              "      <td>...</td>\n",
              "      <td>...</td>\n",
              "      <td>...</td>\n",
              "      <td>...</td>\n",
              "      <td>...</td>\n",
              "    </tr>\n",
              "    <tr>\n",
              "      <th>14807</th>\n",
              "      <td>에이치엘비</td>\n",
              "      <td>2020.09.22. 오전 5:20</td>\n",
              "      <td>에이치엘비 리보세라닙, 글로벌 항암제로 성공 가능성↑</td>\n",
              "      <td>에이치엘비가 유럽종양학회에서 리보세라닙의 가치를 입증했다./사진에이치엘비에이치엘비의...</td>\n",
              "      <td>0</td>\n",
              "    </tr>\n",
              "    <tr>\n",
              "      <th>14808</th>\n",
              "      <td>에이치엘비</td>\n",
              "      <td>2020.09.21. 오후 4:18</td>\n",
              "      <td>에이치엘비, ESMO서 '리보세라닙' 관련 논문 23개 발표</td>\n",
              "      <td>에이치엘비  김제이 기자  에이치엘비는 유럽종양학회에서 리보세라닙 관련 논문이 개...</td>\n",
              "      <td>0</td>\n",
              "    </tr>\n",
              "    <tr>\n",
              "      <th>14809</th>\n",
              "      <td>에이치엘비</td>\n",
              "      <td>2020.12.04. 오후 4:15</td>\n",
              "      <td>에스퓨얼셀, 에이치엘비와 수소선박 공동개발 '맞손'…\"2023년 상용화 목표\"</td>\n",
              "      <td>급 수소연료전지선박 개발 협력년 수소유람선 상용화 목표설계 모듈화연료전지 전문업체 ...</td>\n",
              "      <td>0</td>\n",
              "    </tr>\n",
              "    <tr>\n",
              "      <th>14810</th>\n",
              "      <td>에이치엘비</td>\n",
              "      <td>2020.12.30. 오후 5:45</td>\n",
              "      <td>코스닥, 23년만에 최고치…시총도 지각변동</td>\n",
              "      <td>코스닥지수 지난해 말 대비 . 상승개인 비중 .로 확대거래량 급등한국거래소는 일 년...</td>\n",
              "      <td>0</td>\n",
              "    </tr>\n",
              "    <tr>\n",
              "      <th>14811</th>\n",
              "      <td>에이치엘비</td>\n",
              "      <td>2020.12.22. 오전 9:17</td>\n",
              "      <td>리보세라닙, 병용임상서 담낭암·폐암 ‘완전 관해’ 관찰</td>\n",
              "      <td>에이치엘비  에이치엘비는 중국에서 수행된 리보세라닙과 캄렐리주맙 연구 임상 결과 비...</td>\n",
              "      <td>0</td>\n",
              "    </tr>\n",
              "  </tbody>\n",
              "</table>\n",
              "<p>13386 rows × 5 columns</p>\n",
              "</div>"
            ],
            "text/plain": [
              "           기업                기사발행일  \\\n",
              "0      네이쳐글로벌  2010.10.01. 오전 9:23   \n",
              "1      네이쳐글로벌  2010.09.28. 오후 4:29   \n",
              "2      네이쳐글로벌  2010.09.16. 오전 9:23   \n",
              "3      네이쳐글로벌  2010.09.14. 오후 4:21   \n",
              "4      네이쳐글로벌  2010.09.16. 오후 8:08   \n",
              "...       ...                  ...   \n",
              "14807   에이치엘비  2020.09.22. 오전 5:20   \n",
              "14808   에이치엘비  2020.09.21. 오후 4:18   \n",
              "14809   에이치엘비  2020.12.04. 오후 4:15   \n",
              "14810   에이치엘비  2020.12.30. 오후 5:45   \n",
              "14811   에이치엘비  2020.12.22. 오전 9:17   \n",
              "\n",
              "                                              기사제목  \\\n",
              "0                 [특징주] 네이쳐글로벌 상한가…\"전 대표 횡령 확인 안돼\"   \n",
              "1                        네이쳐글로벌, 네비스탁측이 74만여주 장내매도   \n",
              "2                      [특징주] 네이쳐글로벌, 투자경고 지정 이후 약세   \n",
              "3                    네비스탁외 51인, 네이쳐글로벌 지분 1.26% 줄어   \n",
              "4                         네이쳐글로벌, 공시번복..불성실공시법인 지정   \n",
              "...                                            ...   \n",
              "14807                에이치엘비 리보세라닙, 글로벌 항암제로 성공 가능성↑   \n",
              "14808            에이치엘비, ESMO서 '리보세라닙' 관련 논문 23개 발표   \n",
              "14809  에스퓨얼셀, 에이치엘비와 수소선박 공동개발 '맞손'…\"2023년 상용화 목표\"   \n",
              "14810                      코스닥, 23년만에 최고치…시총도 지각변동   \n",
              "14811               리보세라닙, 병용임상서 담낭암·폐암 ‘완전 관해’ 관찰   \n",
              "\n",
              "                                               뉴스기사본문전처리  뉴스기사 레이블  \n",
              "0      비메모리 반도체 업체인 네이쳐글로벌이 전 대표 횡령 혐의에 대해 확인된 바 없다고 ...         0  \n",
              "1       네비스탁은 특별관계자로 포함된 개인투자자들이 네이쳐글로벌 주식 만주를 장내 매도했...         0  \n",
              "2      네이쳐글로벌이 투자경고 지정 소식에 이어 전환사채 물량 상장에 따른 수급 불안으로 ...         0  \n",
              "3       네비스탁외 인은 일 신규 소액주주 의결권 규합 및 보유주식수 변동에 따라 네이쳐글...         0  \n",
              "4       한국거래소 코스닥시장본부는 일 네이쳐글로벌에 대해 공시번복으로 인해 불성실공시법인...         0  \n",
              "...                                                  ...       ...  \n",
              "14807  에이치엘비가 유럽종양학회에서 리보세라닙의 가치를 입증했다./사진에이치엘비에이치엘비의...         0  \n",
              "14808   에이치엘비  김제이 기자  에이치엘비는 유럽종양학회에서 리보세라닙 관련 논문이 개...         0  \n",
              "14809  급 수소연료전지선박 개발 협력년 수소유람선 상용화 목표설계 모듈화연료전지 전문업체 ...         0  \n",
              "14810  코스닥지수 지난해 말 대비 . 상승개인 비중 .로 확대거래량 급등한국거래소는 일 년...         0  \n",
              "14811  에이치엘비  에이치엘비는 중국에서 수행된 리보세라닙과 캄렐리주맙 연구 임상 결과 비...         0  \n",
              "\n",
              "[13386 rows x 5 columns]"
            ]
          },
          "execution_count": 21,
          "metadata": {},
          "output_type": "execute_result"
        }
      ],
      "source": [
        "data[data[\"뉴스기사 레이블\"]==0]"
      ]
    },
    {
      "cell_type": "code",
      "execution_count": null,
      "metadata": {},
      "outputs": [],
      "source": []
    }
  ],
  "metadata": {
    "accelerator": "GPU",
    "colab": {
      "name": "nlp_1003_eng and kore word2vec.ipynb",
      "private_outputs": true,
      "provenance": []
    },
    "kernelspec": {
      "display_name": "Python 3.8.8rc1 64-bit",
      "language": "python",
      "name": "python3"
    },
    "language_info": {
      "codemirror_mode": {
        "name": "ipython",
        "version": 3
      },
      "file_extension": ".py",
      "mimetype": "text/x-python",
      "name": "python",
      "nbconvert_exporter": "python",
      "pygments_lexer": "ipython3",
      "version": "3.8.8"
    },
    "vscode": {
      "interpreter": {
        "hash": "722b21b25ff779b5f304eaf92f77bc0ad07367ec915dcd732581241fa9ae9a7c"
      }
    }
  },
  "nbformat": 4,
  "nbformat_minor": 0
}
